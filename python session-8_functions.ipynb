{
 "cells": [
  {
   "cell_type": "code",
   "execution_count": null,
   "id": "bd586b67",
   "metadata": {},
   "outputs": [],
   "source": [
    "#wap ask the user enter number\n",
    "#and find the square of the number\n",
    "\n",
    "#m-1: write the normal way\n",
    "#m-2: write in function without arguements\n",
    "#m-3: write in function with arguements"
   ]
  },
  {
   "cell_type": "code",
   "execution_count": null,
   "id": "2d76fc87",
   "metadata": {},
   "outputs": [],
   "source": [
    "number=eval(input(\"enter ta number\"))\n",
    "print(\"the square of {} is {}\".format(number,number*number))\n"
   ]
  },
  {
   "cell_type": "code",
   "execution_count": null,
   "id": "e5a9f26a",
   "metadata": {},
   "outputs": [],
   "source": [
    "def square(number):\n",
    "    print(\"the square of {} is {}\".format(number,number*number))\n",
    "square(5)"
   ]
  },
  {
   "cell_type": "code",
   "execution_count": null,
   "id": "62b15895",
   "metadata": {},
   "outputs": [],
   "source": [
    "# wap ask the user\n",
    "# get one random number between 1 to 20\n",
    "# enter a number \n",
    "# compare these two number\n",
    "# if both are same: print(\"you won\")\n",
    "# else: print(lost)\n",
    "# m-1: write in normal way\n",
    "# m-2: create a function with out arguemnets\n",
    "# m-3: create a function with arguemnets"
   ]
  },
  {
   "cell_type": "code",
   "execution_count": null,
   "id": "3d844cac",
   "metadata": {},
   "outputs": [],
   "source": [
    "#m-1 \n",
    "import random\n",
    "random_num=random.randint(1,20)\n",
    "num=eval(input(\"enter the number:\"))\n",
    "\n",
    "if random_num==num:\n",
    "    print(\"you won\")\n",
    "else:\n",
    "    print('you lost')\n",
    "    "
   ]
  },
  {
   "cell_type": "code",
   "execution_count": null,
   "id": "a4879a63",
   "metadata": {},
   "outputs": [],
   "source": [
    "#m-2\n",
    "import random\n",
    "def compare():\n",
    "    random_num=random.randint(1,20)\n",
    "    num=eval(input(\"enter the number:\"))\n",
    "\n",
    "    if random_num==num:\n",
    "        print(\"you won\")\n",
    "    else:\n",
    "        print('you lost')\n",
    "compare()"
   ]
  },
  {
   "cell_type": "code",
   "execution_count": null,
   "id": "7dc78e36",
   "metadata": {},
   "outputs": [],
   "source": [
    "#m-3\n",
    "import random\n",
    "def compare(num):\n",
    "    random_num=random.randint(1,20)\n",
    "    \n",
    "    if random_num==num:\n",
    "        print(\"you won\")\n",
    "    else:\n",
    "        print('you lost')\n",
    "compare( num=eval(input(\"enter the number:\")))"
   ]
  },
  {
   "cell_type": "code",
   "execution_count": null,
   "id": "0fa6bde2",
   "metadata": {},
   "outputs": [],
   "source": [
    "#m-3\n",
    "import random\n",
    "def compare(random_num,num):\n",
    "    \n",
    "    if random_num==num:\n",
    "        print(\"you won\")\n",
    "    else:\n",
    "        print('you lost')\n",
    "value_random=random.randint(1,20)\n",
    "value=eval(input(\"enter the number:\"))\n",
    "compare(value_random,value)\n",
    "\n"
   ]
  },
  {
   "cell_type": "code",
   "execution_count": null,
   "id": "755b47d7",
   "metadata": {},
   "outputs": [],
   "source": [
    "#m-3\n",
    "import random\n",
    "def compare(random_num,num):\n",
    "    \n",
    "    if random_num==num:\n",
    "        print(\"you won\")\n",
    "    else:\n",
    "        print('you lost')\n",
    "        \n",
    "compare(random.randint(1,20),eval(input(\"enter the number:\")))"
   ]
  },
  {
   "cell_type": "code",
   "execution_count": null,
   "id": "37bb4a77",
   "metadata": {},
   "outputs": [],
   "source": [
    "# wap ask the user enter the salary\n",
    "# ask the user the tax percentage \n",
    "# calculate total tax to pay\n"
   ]
  },
  {
   "cell_type": "code",
   "execution_count": null,
   "id": "3655cc7c",
   "metadata": {},
   "outputs": [],
   "source": [
    "user_salary=int(input(\"enter your salary:\"))\n",
    "tax_percentage=int(input(\"enter the tax percentage:\"))\n",
    "tax=(user_salary*tax_percentage)/100\n",
    "print(tax)"
   ]
  },
  {
   "cell_type": "code",
   "execution_count": null,
   "id": "2a6409db",
   "metadata": {},
   "outputs": [],
   "source": [
    "def payable_tax(user_salary,tax_percentage):\n",
    "    tax=(user_salary*tax_percentage)/100\n",
    "    print(tax)\n",
    "payable_tax(int(input(\"enter your salary:\")),int(input(\"enter the tax percentage:\")))"
   ]
  },
  {
   "cell_type": "markdown",
   "id": "bf259caf",
   "metadata": {},
   "source": [
    "Defualt arguements"
   ]
  },
  {
   "cell_type": "code",
   "execution_count": null,
   "id": "cb96cb0a",
   "metadata": {},
   "outputs": [],
   "source": [
    "# tax percentage is always=20\n",
    "# fixed\n",
    "# default parameter"
   ]
  },
  {
   "cell_type": "code",
   "execution_count": null,
   "id": "346ea617",
   "metadata": {},
   "outputs": [],
   "source": [
    "def payable_tax(user_salary,tax_percentage=20):\n",
    "    tax=(user_salary*tax_percentage)/100\n",
    "    print(tax)\n",
    "payable_tax(int(input(\"enter your salary:\")))"
   ]
  },
  {
   "cell_type": "code",
   "execution_count": null,
   "id": "f5bd12fe",
   "metadata": {},
   "outputs": [],
   "source": [
    "def avg(num1,num2,num3=50):  # always default parameters at last\n",
    "    print(\"num1:\",num1)\n",
    "    print(\"num2:\",num2)\n",
    "    print(\"num3:\",num3)\n",
    "    num3=800\n",
    "    add= num1+num2+num3\n",
    "    avg=(add/3)\n",
    "    print(\"the avg is:\",avg)\n",
    "\n",
    "avg(200,300,600)\n",
    "# while defining function: num3=50\n",
    "# while you are calling num3=600\n",
    "# after enter the function num3=800"
   ]
  },
  {
   "cell_type": "code",
   "execution_count": null,
   "id": "99b088e1",
   "metadata": {},
   "outputs": [],
   "source": [
    "def avg(num1,num3,num2=500):  # always default parameters at last\n",
    "    print(\"num1:\",num1)\n",
    "    print(\"num2:\",num2)\n",
    "    print(\"num3:\",num3)\n",
    "    add= num1+num2+num3\n",
    "    avg=(add/3)\n",
    "    print(\"the avg is:\",avg)\n",
    "\n",
    "avg(200,300)"
   ]
  },
  {
   "cell_type": "code",
   "execution_count": null,
   "id": "e60cb88b",
   "metadata": {},
   "outputs": [],
   "source": [
    "# wap ask the user to find area of cricle\n",
    "# formulae: pi*radius*radius\n",
    "# basic method\n",
    "# with out arguments\n",
    "# with arguments\n",
    "# default arguments"
   ]
  },
  {
   "cell_type": "code",
   "execution_count": null,
   "id": "8b2f7b6f",
   "metadata": {},
   "outputs": [],
   "source": [
    "import math\n",
    "pii=math.pi\n",
    "r=eval(input(\"enter the radius\"))\n",
    "area1=round(pii*r*r,2)\n",
    "print(\"the area of circle is:\",area1)"
   ]
  },
  {
   "cell_type": "code",
   "execution_count": null,
   "id": "c486a5f2",
   "metadata": {},
   "outputs": [],
   "source": [
    "#m-1: with out arguments\n",
    "import math\n",
    "def area_of_circle():\n",
    "    pii=math.pi\n",
    "    r=eval(input(\"enter the radius\"))\n",
    "    area1=round(pii*r*r,2)\n",
    "    print(\"the area of circle is:\",area1)\n",
    "    \n",
    "area_of_circle()\n"
   ]
  },
  {
   "cell_type": "code",
   "execution_count": null,
   "id": "cc618e91",
   "metadata": {},
   "outputs": [],
   "source": [
    "import math\n",
    "def area_of_circle(r):\n",
    "    pii=math.pi\n",
    "    area1=round(pii*r*r,2)\n",
    "    print(\"the area of circle is:\",area1)\n",
    "    \n",
    "area_of_circle(20) #direct pass\n"
   ]
  },
  {
   "cell_type": "code",
   "execution_count": null,
   "id": "e3ff7d89",
   "metadata": {},
   "outputs": [],
   "source": [
    "\n",
    "import math\n",
    "def area_of_circle(r):\n",
    "    pii=math.pi\n",
    "    area1=round(pii*r*r,2)\n",
    "    print(\"the area of circle is:\",area1)\n",
    "r=eval(input(\"enter the radius\"))\n",
    "area_of_circle(r)"
   ]
  },
  {
   "cell_type": "code",
   "execution_count": null,
   "id": "21f459df",
   "metadata": {},
   "outputs": [],
   "source": [
    "#m:3 deafualt arguments\n",
    "import math\n",
    "def area_of_circle(r=20):\n",
    "    pii=math.pi\n",
    "    area1=round(pii*r*r,2)\n",
    "    print(\"the area of circle is:\",area1)\n",
    "    \n",
    "area_of_circle() \n"
   ]
  },
  {
   "cell_type": "code",
   "execution_count": null,
   "id": "2d828eef",
   "metadata": {},
   "outputs": [],
   "source": [
    "#m-1: with out arguments\n",
    "import math\n",
    "def area_of_circle():\n",
    "    pii=math.pi\n",
    "    r=eval(input(\"enter the radius\"))\n",
    "    area1=round(pii*r*r,2)\n",
    "    print(\"the area of circle is:\",area1)\n",
    "    \n",
    "area_of_circle()\n"
   ]
  },
  {
   "cell_type": "code",
   "execution_count": null,
   "id": "5029584c",
   "metadata": {},
   "outputs": [],
   "source": [
    "area1"
   ]
  },
  {
   "cell_type": "markdown",
   "id": "2b199371",
   "metadata": {},
   "source": [
    "**return**"
   ]
  },
  {
   "cell_type": "code",
   "execution_count": null,
   "id": "b3411617",
   "metadata": {},
   "outputs": [],
   "source": [
    "import math\n",
    "def area_of_circle():\n",
    "    pii=math.pi\n",
    "    r=eval(input(\"enter the radius\"))\n",
    "    area11=round(pii*r*r,2)\n",
    "    print(\"the area of circle is:\",area11)\n",
    "    return(area11,pii)\n"
   ]
  },
  {
   "cell_type": "code",
   "execution_count": null,
   "id": "f55e7622",
   "metadata": {},
   "outputs": [],
   "source": [
    "area,pii=area_of_circle()\n",
    "print(area)\n",
    "print(pii)"
   ]
  },
  {
   "cell_type": "code",
   "execution_count": null,
   "id": "4df2a9e7",
   "metadata": {},
   "outputs": [],
   "source": [
    "# ask the user enter 3 numbers\n",
    "# find the average \n",
    "# return the average value and sum both"
   ]
  },
  {
   "cell_type": "code",
   "execution_count": null,
   "id": "aa72c78f",
   "metadata": {},
   "outputs": [],
   "source": [
    "def avg1(num1,num2,num3):\n",
    "    add=num1+num2+num3\n",
    "    avg=add/3\n",
    "    print(\"avg of users input\",avg)\n",
    "    return(avg,add)\n",
    "avg,add=avg1(100,200,300)\n",
    "print(avg)\n",
    "print(add)"
   ]
  },
  {
   "cell_type": "code",
   "execution_count": null,
   "id": "5662e02c",
   "metadata": {},
   "outputs": [],
   "source": [
    "num1=eval(input(\"enter num1:\"))\n",
    "num2=eval(input(\"enter num2:\"))\n",
    "num3=eval(input(\"enter num3:\"))\n",
    "def biggest_num(num1,num2,num3):\n",
    "    if num1>num2 and num1>num3:\n",
    "        print(num1,\"is greater\")\n",
    "        return(num1)\n",
    "    elif num2>num3:\n",
    "        print(num2,\"is greater\")\n",
    "        return(num2)\n",
    "    else:\n",
    "        print(num3,\"is greater\")\n",
    "        return(num3)\n",
    "greater=biggest_num(num1,num2,num3)\n",
    "print(greater)"
   ]
  },
  {
   "cell_type": "code",
   "execution_count": null,
   "id": "a3af853f",
   "metadata": {},
   "outputs": [],
   "source": [
    "greater"
   ]
  },
  {
   "cell_type": "code",
   "execution_count": null,
   "id": "e9d9c8ef",
   "metadata": {},
   "outputs": [],
   "source": [
    "def sub(a,b):\n",
    "    return(a-b)\n",
    "\n",
    "def mul(a,b):\n",
    "    return(a*b)\n",
    "\n",
    "def div(a,b):\n",
    "    return(a/b)\n",
    "val_sub=sub(10,2)\n",
    "val_mul=mul(10,2)\n",
    "val_div=div(10,2)\n"
   ]
  },
  {
   "cell_type": "code",
   "execution_count": null,
   "id": "6f2d432c",
   "metadata": {},
   "outputs": [],
   "source": [
    "val_sub,val_mul,val_div"
   ]
  },
  {
   "cell_type": "code",
   "execution_count": null,
   "id": "635327a3",
   "metadata": {},
   "outputs": [],
   "source": [
    "def aggregation(a,b):\n",
    "    return(a+b,a-b,a*b,a/b)\n",
    "add,sub,mul,div=aggregation(10,30)\n",
    "print(add,sub,mul,div)"
   ]
  },
  {
   "cell_type": "code",
   "execution_count": null,
   "id": "60a4afbc",
   "metadata": {},
   "outputs": [],
   "source": [
    "def add(a,b):return(a+b)"
   ]
  },
  {
   "cell_type": "code",
   "execution_count": null,
   "id": "b4d1e52b",
   "metadata": {},
   "outputs": [],
   "source": [
    "add(1,2)"
   ]
  },
  {
   "cell_type": "markdown",
   "id": "adabb26a",
   "metadata": {},
   "source": [
    "local variables"
   ]
  },
  {
   "cell_type": "code",
   "execution_count": null,
   "id": "0a5dd87d",
   "metadata": {},
   "outputs": [],
   "source": [
    "def add():\n",
    "    n1=10\n",
    "    n2=20\n",
    "    add=n1+n2\n",
    "    print('addition of the {} and {} is:{}'.format(n1,n2,add))\n",
    "add()"
   ]
  },
  {
   "cell_type": "code",
   "execution_count": null,
   "id": "2b65f9ab",
   "metadata": {},
   "outputs": [],
   "source": [
    "local variables:\n",
    "    the variables provided inside the function\n",
    "\n",
    "global variables :\n",
    "    the variables provided outside the function"
   ]
  },
  {
   "cell_type": "markdown",
   "id": "a62e4ebc",
   "metadata": {},
   "source": [
    "global variable"
   ]
  },
  {
   "cell_type": "code",
   "execution_count": null,
   "id": "6d10e7ef",
   "metadata": {},
   "outputs": [],
   "source": [
    "n1=10\n",
    "n2=20\n",
    "def add():\n",
    "    add=n1+n2\n",
    "    print('addition of the {} and {} is:{}'.format(n1,n2,add))\n",
    "add()"
   ]
  },
  {
   "cell_type": "markdown",
   "id": "bfc41026",
   "metadata": {},
   "source": [
    "- local variables are inside the function\n",
    "- local varibales values can not be used outside the function\n",
    "- until unless you return the values"
   ]
  },
  {
   "cell_type": "code",
   "execution_count": null,
   "id": "c91cef7a",
   "metadata": {},
   "outputs": [],
   "source": [
    "n1=10\n",
    "n2=20\n",
    "def add(n1=700):\n",
    "    n1=200\n",
    "    n2=300\n",
    "    add=n1+n2\n",
    "    print('addition of the {} and {} is:{}'.format(n1,n2,add))\n",
    "add(500)\n",
    "\n",
    "print(n1)"
   ]
  },
  {
   "cell_type": "code",
   "execution_count": 10,
   "id": "aaa431e3",
   "metadata": {},
   "outputs": [
    {
     "name": "stdout",
     "output_type": "stream",
     "text": [
      "addition of the 500 and 300 is:800\n",
      "300\n",
      "800\n"
     ]
    }
   ],
   "source": [
    "n1=20\n",
    "n2=30\n",
    "def add(n1):\n",
    "    global n2,add\n",
    "    n2=300\n",
    "    add=n1+n2\n",
    "    print('addition of the {} and {} is:{}'.format(n1,n2,add))\n",
    "\n",
    "add(500)\n",
    "\n",
    "print(n2)\n",
    "print(add)"
   ]
  },
  {
   "cell_type": "code",
   "execution_count": null,
   "id": "06530560",
   "metadata": {},
   "outputs": [],
   "source": [
    "n1=20\n",
    "n2=30\n",
    "def add(n1=700):\n",
    "    n2=300\n",
    "    add=n1+n2\n",
    "    print('addition of the {} and {} is:{}'.format(n1,n2,add))\n",
    "\n",
    "add(500)\n",
    "\n",
    "print(n1)\n",
    "\n",
    "\n",
    "#step-1: n1=20\n",
    "#step-2: n2=30\n",
    "#step-3: function defined n1=700\n",
    "#step-4: calling the function n1=700\n",
    "#step-5:                      n2=300\n",
    "#step-6:                      add=800\n",
    "#step-7:print inside funtion values\n",
    "#step-8:print the n1 value 20\n"
   ]
  },
  {
   "cell_type": "code",
   "execution_count": null,
   "id": "f942bdc2",
   "metadata": {},
   "outputs": [],
   "source": [
    "# we can not use local varibale values outside the function\n",
    "# until unless with out return statement\n",
    "\n",
    "# i want to use local variable outside the function,without using the return statement"
   ]
  },
  {
   "cell_type": "code",
   "execution_count": null,
   "id": "27eccd09",
   "metadata": {},
   "outputs": [],
   "source": []
  },
  {
   "cell_type": "code",
   "execution_count": null,
   "id": "0a329bc6",
   "metadata": {},
   "outputs": [],
   "source": [
    "n1=10\n",
    "def updated():\n",
    "    "
   ]
  },
  {
   "cell_type": "code",
   "execution_count": 4,
   "id": "0ccca2a7",
   "metadata": {},
   "outputs": [
    {
     "name": "stdout",
     "output_type": "stream",
     "text": [
      "200\n",
      "200\n",
      "100\n"
     ]
    }
   ],
   "source": [
    "def value():\n",
    "    global number1,number2\n",
    "    number1=200\n",
    "    number2=100\n",
    "    print(number1)\n",
    "value()\n",
    "\n",
    "\n",
    "print(number1)\n",
    "print(number2)"
   ]
  },
  {
   "cell_type": "code",
   "execution_count": 6,
   "id": "4a38145b",
   "metadata": {},
   "outputs": [
    {
     "name": "stdout",
     "output_type": "stream",
     "text": [
      "n1 value in the function is: 120\n",
      "10\n"
     ]
    }
   ],
   "source": [
    "n_=10\n",
    "def updated():\n",
    "    n_=20\n",
    "    n_=n_+100\n",
    "    print('n1 value in the function is:',n_)\n",
    "updated()\n",
    "print(n_)\n",
    "\n",
    "# we can use local variable globally by using GLOBAL keyword"
   ]
  },
  {
   "cell_type": "markdown",
   "id": "3c72ad56",
   "metadata": {},
   "source": [
    "Funtion in funtions"
   ]
  },
  {
   "cell_type": "code",
   "execution_count": 1,
   "id": "d193f725",
   "metadata": {},
   "outputs": [
    {
     "name": "stdout",
     "output_type": "stream",
     "text": [
      "hello\n",
      "python\n",
      "how do you do\n"
     ]
    }
   ],
   "source": [
    "def greet():\n",
    "    print(\"hello\")\n",
    "    \n",
    "def name():\n",
    "    print(\"python\")\n",
    "    print(\"how do you do\")\n",
    "greet()\n",
    "name()\n"
   ]
  },
  {
   "cell_type": "code",
   "execution_count": 14,
   "id": "069d7dfb",
   "metadata": {},
   "outputs": [
    {
     "name": "stdout",
     "output_type": "stream",
     "text": [
      "python\n",
      "hello\n"
     ]
    }
   ],
   "source": [
    "def greet():\n",
    "    print(\"hello\")\n",
    "    \n",
    "def name():\n",
    "    print(\"python\")\n",
    "    greet()\n",
    "\n",
    "name()\n",
    "\n",
    "#step-1: define greet()\n",
    "#step-2: define name()\n",
    "#step-3: calling name()\n",
    "#step-4: python\n",
    "#step-5: calling greet()\n",
    "#step-6: hello"
   ]
  },
  {
   "cell_type": "code",
   "execution_count": 15,
   "id": "62ce5d35",
   "metadata": {},
   "outputs": [
    {
     "name": "stdout",
     "output_type": "stream",
     "text": [
      "hello\n",
      "python\n"
     ]
    }
   ],
   "source": [
    "def greet():\n",
    "    print(\"hello\")\n",
    "    name()\n",
    "    \n",
    "def name():\n",
    "    print(\"python\")\n",
    "    \n",
    "greet()"
   ]
  },
  {
   "cell_type": "code",
   "execution_count": null,
   "id": "93c276d4",
   "metadata": {},
   "outputs": [],
   "source": [
    "def greet():\n",
    "    print(\"hello\")\n",
    "    name()\n",
    "    \n",
    "def name():\n",
    "    print(\"python\")\n",
    "    greet()\n",
    "    \n",
    "greet() #infinite loop\n",
    "print(\"--------\")\n",
    "name()  # name() is not executed"
   ]
  },
  {
   "cell_type": "code",
   "execution_count": null,
   "id": "18de3fa7",
   "metadata": {},
   "outputs": [],
   "source": [
    "#################################################\n",
    "\n",
    "def greet():\n",
    "    print(\"hello\")\n",
    "    \n",
    "def name():\n",
    "    print(\"python\")\n",
    "    print(\"how do you do\")\n",
    "\n",
    "greet()\n",
    "name()\n",
    "\n",
    "##################################################\n",
    "\n",
    "def greet():\n",
    "    print(\"hello\")\n",
    "    \n",
    "def name():\n",
    "    print(\"python\")\n",
    "    greet()\n",
    "\n",
    "name()\n",
    "\n",
    "##################################################\n",
    "\n",
    "def greet():\n",
    "    print(\"hello\")\n",
    "    name()\n",
    "    \n",
    "def name():\n",
    "    print(\"python\")\n",
    "    greet()\n",
    "    \n",
    "greet() #infinite loop\n",
    "print(\"--------\")\n",
    "name()  # name() is not executed\n",
    "\n",
    "###################################################\n"
   ]
  },
  {
   "cell_type": "code",
   "execution_count": 1,
   "id": "5d802472",
   "metadata": {},
   "outputs": [
    {
     "name": "stdout",
     "output_type": "stream",
     "text": [
      "3\n",
      "10+10\n",
      "20\n",
      "hello\n",
      "python\n",
      "3+5\n",
      "8\n",
      "hello\n",
      "python\n",
      "good\n"
     ]
    }
   ],
   "source": [
    "print(3)\n",
    "\n",
    "def fun1():\n",
    "    print(\"hello\")\n",
    "    print(\"python\")\n",
    "\n",
    "print(\"10+10\")\n",
    "\n",
    "def fun2():\n",
    "    print(\"3+5\")\n",
    "    print(3+5)\n",
    "    fun1()\n",
    "    print('good')\n",
    "\n",
    "print(10+10)\n",
    "\n",
    "def fun3():\n",
    "    fun1()\n",
    "    fun2()\n",
    "    \n",
    "fun3()\n",
    "    "
   ]
  },
  {
   "cell_type": "code",
   "execution_count": 9,
   "id": "6f8a759c",
   "metadata": {},
   "outputs": [
    {
     "name": "stdout",
     "output_type": "stream",
     "text": [
      "enter the number:3\n",
      "200\n"
     ]
    }
   ],
   "source": [
    "n=10\n",
    "m=20\n",
    "def add(a,b):\n",
    "    n=a+b\n",
    "    print(n)\n",
    "#add(a,b)\n",
    "\n",
    "def sub(a,b):\n",
    "    n=a-b\n",
    "    print(n)\n",
    "#sub(a,b)\n",
    "\n",
    "def mul(a,b):\n",
    "    n=a*b\n",
    "    print(n)\n",
    "#mul(a,b)\n",
    "\n",
    "def div(a,b):\n",
    "    n=a/b\n",
    "    print(n)\n",
    "#sub(a,b)\n",
    "def main():\n",
    "    user_input=eval(input(\"enter the number:\"))\n",
    "    if user_input==1:\n",
    "        add(n,m)\n",
    "    elif user_input==2:\n",
    "        sub(n,m)\n",
    "    elif user_input==3:\n",
    "        mul(n,m)\n",
    "    elif user_input==4:\n",
    "        div(n,m)\n",
    "    else:\n",
    "        print(\"enter number between 1 to 4 only\")\n",
    "main()"
   ]
  },
  {
   "cell_type": "code",
   "execution_count": null,
   "id": "5b052204",
   "metadata": {},
   "outputs": [],
   "source": []
  },
  {
   "cell_type": "code",
   "execution_count": null,
   "id": "f42e7436",
   "metadata": {},
   "outputs": [],
   "source": []
  }
 ],
 "metadata": {
  "kernelspec": {
   "display_name": "Python 3 (ipykernel)",
   "language": "python",
   "name": "python3"
  },
  "language_info": {
   "codemirror_mode": {
    "name": "ipython",
    "version": 3
   },
   "file_extension": ".py",
   "mimetype": "text/x-python",
   "name": "python",
   "nbconvert_exporter": "python",
   "pygments_lexer": "ipython3",
   "version": "3.9.13"
  }
 },
 "nbformat": 4,
 "nbformat_minor": 5
}

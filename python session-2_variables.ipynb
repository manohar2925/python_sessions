{
 "cells": [
  {
   "cell_type": "markdown",
   "id": "2481845f",
   "metadata": {},
   "source": [
    "## variables"
   ]
  },
  {
   "cell_type": "markdown",
   "id": "28ead7f9",
   "metadata": {},
   "source": [
    "- variables term vary\n",
    "- you want to save some values at some place, that place is called variables\n",
    "- variables and constant"
   ]
  },
  {
   "cell_type": "code",
   "execution_count": null,
   "id": "5d01877d",
   "metadata": {},
   "outputs": [],
   "source": [
    "number=100 # 100 values is stored in variable called number\n",
    "number"
   ]
  },
  {
   "cell_type": "code",
   "execution_count": null,
   "id": "2ec84bde",
   "metadata": {},
   "outputs": [],
   "source": [
    "number=200\n",
    "number"
   ]
  },
  {
   "cell_type": "markdown",
   "id": "c9d4be61",
   "metadata": {},
   "source": [
    "rules to define variables"
   ]
  },
  {
   "cell_type": "code",
   "execution_count": null,
   "id": "83719d09",
   "metadata": {},
   "outputs": [],
   "source": [
    "#UPPER CASE\n",
    "NUMBER=300\n",
    "NUMBER"
   ]
  },
  {
   "cell_type": "code",
   "execution_count": null,
   "id": "a0b6303c",
   "metadata": {},
   "outputs": [],
   "source": [
    "#lower case\n",
    "number=400\n",
    "number"
   ]
  },
  {
   "cell_type": "code",
   "execution_count": null,
   "id": "85618c8a",
   "metadata": {},
   "outputs": [],
   "source": [
    "# combination of uppercase and lowercase\n",
    "NUMber=500\n",
    "NUMber"
   ]
  },
  {
   "cell_type": "code",
   "execution_count": null,
   "id": "0bb3d44f",
   "metadata": {},
   "outputs": [],
   "source": [
    "#combination of letters and numbers, as suffix\n",
    "number123=600\n",
    "number123"
   ]
  },
  {
   "cell_type": "code",
   "execution_count": null,
   "id": "11df262f",
   "metadata": {},
   "outputs": [],
   "source": [
    "#combination of numbers and letters,as prefix\n",
    "123number=700\n",
    "123number"
   ]
  },
  {
   "cell_type": "code",
   "execution_count": null,
   "id": "2fede7e9",
   "metadata": {},
   "outputs": [],
   "source": [
    "#underscore\n",
    "number_=900\n",
    "number_"
   ]
  },
  {
   "cell_type": "code",
   "execution_count": null,
   "id": "a9033d9d",
   "metadata": {},
   "outputs": [],
   "source": [
    "#keyword\n",
    "sum = 1000\n",
    "sum"
   ]
  },
  {
   "cell_type": "markdown",
   "id": "dc2ffdaa",
   "metadata": {},
   "source": [
    "**note** \n",
    "   - sum is a math operation it will works\n",
    "   - but do not use as variable"
   ]
  },
  {
   "cell_type": "code",
   "execution_count": null,
   "id": "2c596a05",
   "metadata": {},
   "outputs": [],
   "source": [
    "#spaces with not work\n",
    "number one=700\n",
    "number one"
   ]
  },
  {
   "cell_type": "code",
   "execution_count": null,
   "id": "5b5f37a3",
   "metadata": {},
   "outputs": [],
   "source": [
    "number_one=900\n",
    "number_one"
   ]
  },
  {
   "cell_type": "code",
   "execution_count": null,
   "id": "37ad97ac",
   "metadata": {},
   "outputs": [],
   "source": [
    "_ = 900\n",
    "_"
   ]
  },
  {
   "cell_type": "markdown",
   "id": "21ec2204",
   "metadata": {},
   "source": [
    "###############basics###################\n",
    "1) basic syntax\n",
    "2) variables\n",
    "3) python packages information\n",
    "4) basic python code\n",
    "5) conditional statements\n",
    "6) funtions\n",
    "7) loop\n",
    "\n",
    "##############level-2###################\n",
    "1) strings\n",
    "2) list\n",
    "3) dictionary\n",
    "4) tuples ===========write up\n",
    "5) sets\n",
    "6) file handling sessions\n",
    "\n",
    "==============2 weeks gap =============== statistics theory\n",
    "\n",
    "############level-3#####################\n",
    "1) oops concept in python\n",
    "2) how to create your own packages\n",
    "3) FLASK APPS"
   ]
  },
  {
   "cell_type": "code",
   "execution_count": null,
   "id": "40e49ce3",
   "metadata": {},
   "outputs": [],
   "source": []
  }
 ],
 "metadata": {
  "kernelspec": {
   "display_name": "Python 3 (ipykernel)",
   "language": "python",
   "name": "python3"
  },
  "language_info": {
   "codemirror_mode": {
    "name": "ipython",
    "version": 3
   },
   "file_extension": ".py",
   "mimetype": "text/x-python",
   "name": "python",
   "nbconvert_exporter": "python",
   "pygments_lexer": "ipython3",
   "version": "3.9.13"
  }
 },
 "nbformat": 4,
 "nbformat_minor": 5
}

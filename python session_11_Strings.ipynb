{
 "cells": [
  {
   "cell_type": "markdown",
   "id": "895ebdd0",
   "metadata": {},
   "source": [
    "## How to read strings"
   ]
  },
  {
   "cell_type": "code",
   "execution_count": 2,
   "id": "1b31ab37",
   "metadata": {},
   "outputs": [
    {
     "data": {
      "text/plain": [
       "'python'"
      ]
     },
     "execution_count": 2,
     "metadata": {},
     "output_type": "execute_result"
    }
   ],
   "source": [
    "string1=\"python\"\n",
    "string1"
   ]
  },
  {
   "cell_type": "code",
   "execution_count": 3,
   "id": "d3ecad44",
   "metadata": {},
   "outputs": [
    {
     "data": {
      "text/plain": [
       "'python'"
      ]
     },
     "execution_count": 3,
     "metadata": {},
     "output_type": "execute_result"
    }
   ],
   "source": [
    "string2='python'\n",
    "string2"
   ]
  },
  {
   "cell_type": "code",
   "execution_count": 4,
   "id": "ce85d8d3",
   "metadata": {},
   "outputs": [
    {
     "data": {
      "text/plain": [
       "' This is docstrings it shows the description '"
      ]
     },
     "execution_count": 4,
     "metadata": {},
     "output_type": "execute_result"
    }
   ],
   "source": [
    "''' This is docstrings it shows the description '''"
   ]
  },
  {
   "cell_type": "code",
   "execution_count": 15,
   "id": "da72f92b",
   "metadata": {},
   "outputs": [],
   "source": [
    "''' This function is used to print hello\n",
    "    arguments: none\n",
    "    return: none'''\n",
    "def hello():\n",
    "   # print(hello.__doc__)\n",
    "        print(\"hello python\")"
   ]
  },
  {
   "cell_type": "code",
   "execution_count": 13,
   "id": "2e8ded0e",
   "metadata": {},
   "outputs": [
    {
     "name": "stdout",
     "output_type": "stream",
     "text": [
      "hello python\n"
     ]
    }
   ],
   "source": [
    "hello()\n",
    "hello.__doc__"
   ]
  },
  {
   "cell_type": "code",
   "execution_count": 14,
   "id": "cbf59bf0",
   "metadata": {},
   "outputs": [
    {
     "data": {
      "text/plain": [
       "'hello \"python\"'"
      ]
     },
     "execution_count": 14,
     "metadata": {},
     "output_type": "execute_result"
    }
   ],
   "source": [
    "string4='hello \"python\"' # to highlight the world in strings\n",
    "string4"
   ]
  },
  {
   "cell_type": "code",
   "execution_count": 9,
   "id": "6504591e",
   "metadata": {},
   "outputs": [
    {
     "data": {
      "text/plain": [
       "\"hello 'python'\""
      ]
     },
     "execution_count": 9,
     "metadata": {},
     "output_type": "execute_result"
    }
   ],
   "source": [
    "string5=\"hello 'python'\" # to highlight the world in strings\n",
    "string5"
   ]
  },
  {
   "cell_type": "markdown",
   "id": "3ea55360",
   "metadata": {},
   "source": [
    "- type\n",
    "\n",
    "- len\n",
    "\n",
    "- max\n",
    "\n",
    "- min"
   ]
  },
  {
   "cell_type": "code",
   "execution_count": 10,
   "id": "6d267ad6",
   "metadata": {},
   "outputs": [
    {
     "data": {
      "text/plain": [
       "str"
      ]
     },
     "execution_count": 10,
     "metadata": {},
     "output_type": "execute_result"
    }
   ],
   "source": [
    "type(string1)"
   ]
  },
  {
   "cell_type": "code",
   "execution_count": 11,
   "id": "0a020d35",
   "metadata": {},
   "outputs": [
    {
     "data": {
      "text/plain": [
       "6"
      ]
     },
     "execution_count": 11,
     "metadata": {},
     "output_type": "execute_result"
    }
   ],
   "source": [
    "len(string1)"
   ]
  },
  {
   "cell_type": "code",
   "execution_count": 12,
   "id": "f737433b",
   "metadata": {},
   "outputs": [
    {
     "data": {
      "text/plain": [
       "'y'"
      ]
     },
     "execution_count": 12,
     "metadata": {},
     "output_type": "execute_result"
    }
   ],
   "source": [
    "max(string1)"
   ]
  },
  {
   "cell_type": "markdown",
   "id": "d2d3ebb4",
   "metadata": {},
   "source": [
    "* ord - chr"
   ]
  },
  {
   "cell_type": "code",
   "execution_count": 14,
   "id": "b9da8763",
   "metadata": {},
   "outputs": [
    {
     "data": {
      "text/plain": [
       "(112, 121, 116, 104, 111, 110)"
      ]
     },
     "execution_count": 14,
     "metadata": {},
     "output_type": "execute_result"
    }
   ],
   "source": [
    "ord('p'),ord('y'),ord('t'),ord('h'),ord('o'),ord('n')"
   ]
  },
  {
   "cell_type": "code",
   "execution_count": 15,
   "id": "6607f5a9",
   "metadata": {},
   "outputs": [
    {
     "data": {
      "text/plain": [
       "('p', 'y', 't', 'h', 'o', 'n')"
      ]
     },
     "execution_count": 15,
     "metadata": {},
     "output_type": "execute_result"
    }
   ],
   "source": [
    "chr(112),chr(121),chr(116),chr(104),chr(111),chr(110)"
   ]
  },
  {
   "cell_type": "code",
   "execution_count": 16,
   "id": "9c554a12",
   "metadata": {},
   "outputs": [
    {
     "data": {
      "text/plain": [
       "('y', 'h')"
      ]
     },
     "execution_count": 16,
     "metadata": {},
     "output_type": "execute_result"
    }
   ],
   "source": [
    "string5=\"python\"\n",
    "max(string5),min(string5)"
   ]
  },
  {
   "cell_type": "code",
   "execution_count": 17,
   "id": "fc000eef",
   "metadata": {},
   "outputs": [
    {
     "ename": "TypeError",
     "evalue": "'str' object cannot be interpreted as an integer",
     "output_type": "error",
     "traceback": [
      "\u001b[1;31m---------------------------------------------------------------------------\u001b[0m",
      "\u001b[1;31mTypeError\u001b[0m                                 Traceback (most recent call last)",
      "\u001b[1;32m~\\AppData\\Local\\Temp\\ipykernel_16412\\3724153074.py\u001b[0m in \u001b[0;36m<module>\u001b[1;34m\u001b[0m\n\u001b[1;32m----> 1\u001b[1;33m \u001b[1;32mfor\u001b[0m \u001b[0mi\u001b[0m \u001b[1;32min\u001b[0m \u001b[0mrange\u001b[0m \u001b[1;33m(\u001b[0m\u001b[1;34m\"python\"\u001b[0m\u001b[1;33m)\u001b[0m\u001b[1;33m:\u001b[0m\u001b[1;33m\u001b[0m\u001b[1;33m\u001b[0m\u001b[0m\n\u001b[0m\u001b[0;32m      2\u001b[0m     \u001b[0mprint\u001b[0m\u001b[1;33m(\u001b[0m\u001b[0mi\u001b[0m\u001b[1;33m)\u001b[0m\u001b[1;33m\u001b[0m\u001b[1;33m\u001b[0m\u001b[0m\n",
      "\u001b[1;31mTypeError\u001b[0m: 'str' object cannot be interpreted as an integer"
     ]
    }
   ],
   "source": [
    "for i in range (\"python\"):\n",
    "    print(i)"
   ]
  },
  {
   "cell_type": "code",
   "execution_count": 18,
   "id": "e7db15a4",
   "metadata": {},
   "outputs": [
    {
     "name": "stdout",
     "output_type": "stream",
     "text": [
      "0\n",
      "1\n",
      "2\n",
      "3\n",
      "4\n",
      "5\n"
     ]
    }
   ],
   "source": [
    "for i in range (len(\"python\")):\n",
    "    print(i)"
   ]
  },
  {
   "cell_type": "markdown",
   "id": "adef8904",
   "metadata": {},
   "source": [
    "* in"
   ]
  },
  {
   "cell_type": "code",
   "execution_count": 21,
   "id": "7c1ce1dc",
   "metadata": {},
   "outputs": [
    {
     "name": "stdout",
     "output_type": "stream",
     "text": [
      "p,y,t,h,o,n,"
     ]
    }
   ],
   "source": [
    "string1=\"python\"\n",
    "\n",
    "for i in string1:\n",
    "    print(i,end=\",\")"
   ]
  },
  {
   "cell_type": "markdown",
   "id": "7ee059a5",
   "metadata": {},
   "source": [
    "- range():  you need to provide the number inside the range\n",
    "\n",
    "- in     :  is used only for strings"
   ]
  },
  {
   "cell_type": "markdown",
   "id": "9fa76329",
   "metadata": {},
   "source": [
    "if you want to print the letters using for loop go with \"in\" operator"
   ]
  },
  {
   "cell_type": "code",
   "execution_count": 23,
   "id": "2a250191",
   "metadata": {},
   "outputs": [
    {
     "name": "stdout",
     "output_type": "stream",
     "text": [
      "112\n",
      "121\n",
      "116\n",
      "104\n",
      "111\n",
      "110\n"
     ]
    }
   ],
   "source": [
    "print(ord('p'))\n",
    "print(ord('y'))\n",
    "print(ord('t'))\n",
    "print(ord('h'))\n",
    "print(ord('o'))\n",
    "print(ord('n'))"
   ]
  },
  {
   "cell_type": "code",
   "execution_count": 31,
   "id": "42c133b2",
   "metadata": {},
   "outputs": [
    {
     "name": "stdout",
     "output_type": "stream",
     "text": [
      "112\n",
      "121\n",
      "116\n",
      "104\n",
      "111\n",
      "110\n"
     ]
    }
   ],
   "source": [
    "for i in string1:\n",
    "    print(ord(i))\n",
    "    "
   ]
  },
  {
   "cell_type": "code",
   "execution_count": 33,
   "id": "85a74ee9",
   "metadata": {},
   "outputs": [
    {
     "name": "stdout",
     "output_type": "stream",
     "text": [
      "The asscii value of p is 112\n",
      "The asscii value of y is 121\n",
      "The asscii value of t is 116\n",
      "The asscii value of h is 104\n",
      "The asscii value of o is 111\n",
      "The asscii value of n is 110\n"
     ]
    }
   ],
   "source": [
    "for i in string1:\n",
    "    print('The asscii value of {} is {}'.format(i,ord(i)))\n",
    "    "
   ]
  },
  {
   "cell_type": "code",
   "execution_count": 34,
   "id": "8443d2a5",
   "metadata": {},
   "outputs": [
    {
     "name": "stdout",
     "output_type": "stream",
     "text": [
      "The asscii value of a is 97\n",
      "The asscii value of b is 98\n",
      "The asscii value of c is 99\n",
      "The asscii value of d is 100\n",
      "The asscii value of e is 101\n",
      "The asscii value of f is 102\n",
      "The asscii value of g is 103\n",
      "The asscii value of h is 104\n",
      "The asscii value of i is 105\n",
      "The asscii value of j is 106\n",
      "The asscii value of k is 107\n",
      "The asscii value of l is 108\n",
      "The asscii value of m is 109\n",
      "The asscii value of n is 110\n",
      "The asscii value of o is 111\n",
      "The asscii value of p is 112\n",
      "The asscii value of q is 113\n",
      "The asscii value of r is 114\n",
      "The asscii value of s is 115\n",
      "The asscii value of t is 116\n",
      "The asscii value of u is 117\n",
      "The asscii value of v is 118\n",
      "The asscii value of w is 119\n",
      "The asscii value of x is 120\n",
      "The asscii value of y is 121\n",
      "The asscii value of z is 122\n"
     ]
    }
   ],
   "source": [
    "string6='abcdefghijklmnopqrstuvwxyz'\n",
    "\n",
    "for i in string6:\n",
    "    print('The asscii value of {} is {}'.format(i,ord(i)))"
   ]
  },
  {
   "cell_type": "code",
   "execution_count": 36,
   "id": "31b393b0",
   "metadata": {},
   "outputs": [
    {
     "data": {
      "text/plain": [
       "['Formatter',\n",
       " 'Template',\n",
       " '_ChainMap',\n",
       " '__all__',\n",
       " '__builtins__',\n",
       " '__cached__',\n",
       " '__doc__',\n",
       " '__file__',\n",
       " '__loader__',\n",
       " '__name__',\n",
       " '__package__',\n",
       " '__spec__',\n",
       " '_re',\n",
       " '_sentinel_dict',\n",
       " '_string',\n",
       " 'ascii_letters',\n",
       " 'ascii_lowercase',\n",
       " 'ascii_uppercase',\n",
       " 'capwords',\n",
       " 'digits',\n",
       " 'hexdigits',\n",
       " 'octdigits',\n",
       " 'printable',\n",
       " 'punctuation',\n",
       " 'whitespace']"
      ]
     },
     "execution_count": 36,
     "metadata": {},
     "output_type": "execute_result"
    }
   ],
   "source": [
    "import string\n",
    "\n",
    "dir(string)"
   ]
  },
  {
   "cell_type": "code",
   "execution_count": 38,
   "id": "4f7afa4e",
   "metadata": {},
   "outputs": [
    {
     "data": {
      "text/plain": [
       "'abcdefghijklmnopqrstuvwxyz'"
      ]
     },
     "execution_count": 38,
     "metadata": {},
     "output_type": "execute_result"
    }
   ],
   "source": [
    "string.ascii_lowercase"
   ]
  },
  {
   "cell_type": "code",
   "execution_count": 39,
   "id": "949a8356",
   "metadata": {},
   "outputs": [
    {
     "name": "stdout",
     "output_type": "stream",
     "text": [
      "The asscii value of A is 65\n",
      "The asscii value of B is 66\n",
      "The asscii value of C is 67\n",
      "The asscii value of D is 68\n",
      "The asscii value of E is 69\n",
      "The asscii value of F is 70\n",
      "The asscii value of G is 71\n",
      "The asscii value of H is 72\n",
      "The asscii value of I is 73\n",
      "The asscii value of J is 74\n",
      "The asscii value of K is 75\n",
      "The asscii value of L is 76\n",
      "The asscii value of M is 77\n",
      "The asscii value of N is 78\n",
      "The asscii value of O is 79\n",
      "The asscii value of P is 80\n",
      "The asscii value of Q is 81\n",
      "The asscii value of R is 82\n",
      "The asscii value of S is 83\n",
      "The asscii value of T is 84\n",
      "The asscii value of U is 85\n",
      "The asscii value of V is 86\n",
      "The asscii value of W is 87\n",
      "The asscii value of X is 88\n",
      "The asscii value of Y is 89\n",
      "The asscii value of Z is 90\n"
     ]
    }
   ],
   "source": [
    "string6=string.ascii_uppercase\n",
    "\n",
    "for i in string6:\n",
    "    print('The asscii value of {} is {}'.format(i,ord(i)))"
   ]
  },
  {
   "cell_type": "code",
   "execution_count": 40,
   "id": "a589c145",
   "metadata": {},
   "outputs": [
    {
     "name": "stdout",
     "output_type": "stream",
     "text": [
      "The asscii value of a is 97\n",
      "The asscii value of b is 98\n",
      "The asscii value of c is 99\n",
      "The asscii value of d is 100\n",
      "The asscii value of e is 101\n",
      "The asscii value of f is 102\n",
      "The asscii value of g is 103\n",
      "The asscii value of h is 104\n",
      "The asscii value of i is 105\n",
      "The asscii value of j is 106\n",
      "The asscii value of k is 107\n",
      "The asscii value of l is 108\n",
      "The asscii value of m is 109\n",
      "The asscii value of n is 110\n",
      "The asscii value of o is 111\n",
      "The asscii value of p is 112\n",
      "The asscii value of q is 113\n",
      "The asscii value of r is 114\n",
      "The asscii value of s is 115\n",
      "The asscii value of t is 116\n",
      "The asscii value of u is 117\n",
      "The asscii value of v is 118\n",
      "The asscii value of w is 119\n",
      "The asscii value of x is 120\n",
      "The asscii value of y is 121\n",
      "The asscii value of z is 122\n"
     ]
    }
   ],
   "source": [
    "for i in string.ascii_lowercase:\n",
    "    print('The asscii value of {} is {}'.format(i,ord(i)))"
   ]
  },
  {
   "cell_type": "code",
   "execution_count": 41,
   "id": "d26823a0",
   "metadata": {},
   "outputs": [
    {
     "data": {
      "text/plain": [
       "'!\"#$%&\\'()*+,-./:;<=>?@[\\\\]^_`{|}~'"
      ]
     },
     "execution_count": 41,
     "metadata": {},
     "output_type": "execute_result"
    }
   ],
   "source": [
    "string.punctuation"
   ]
  },
  {
   "cell_type": "code",
   "execution_count": 42,
   "id": "a1800ff6",
   "metadata": {},
   "outputs": [
    {
     "name": "stdout",
     "output_type": "stream",
     "text": [
      "The asscii value of ! is 33\n",
      "The asscii value of \" is 34\n",
      "The asscii value of # is 35\n",
      "The asscii value of $ is 36\n",
      "The asscii value of % is 37\n",
      "The asscii value of & is 38\n",
      "The asscii value of ' is 39\n",
      "The asscii value of ( is 40\n",
      "The asscii value of ) is 41\n",
      "The asscii value of * is 42\n",
      "The asscii value of + is 43\n",
      "The asscii value of , is 44\n",
      "The asscii value of - is 45\n",
      "The asscii value of . is 46\n",
      "The asscii value of / is 47\n",
      "The asscii value of : is 58\n",
      "The asscii value of ; is 59\n",
      "The asscii value of < is 60\n",
      "The asscii value of = is 61\n",
      "The asscii value of > is 62\n",
      "The asscii value of ? is 63\n",
      "The asscii value of @ is 64\n",
      "The asscii value of [ is 91\n",
      "The asscii value of \\ is 92\n",
      "The asscii value of ] is 93\n",
      "The asscii value of ^ is 94\n",
      "The asscii value of _ is 95\n",
      "The asscii value of ` is 96\n",
      "The asscii value of { is 123\n",
      "The asscii value of | is 124\n",
      "The asscii value of } is 125\n",
      "The asscii value of ~ is 126\n"
     ]
    }
   ],
   "source": [
    "for i in string.punctuation:\n",
    "    print('The asscii value of {} is {}'.format(i,ord(i)))"
   ]
  },
  {
   "cell_type": "code",
   "execution_count": 43,
   "id": "3a925bb7",
   "metadata": {},
   "outputs": [
    {
     "data": {
      "text/plain": [
       "','"
      ]
     },
     "execution_count": 43,
     "metadata": {},
     "output_type": "execute_result"
    }
   ],
   "source": [
    "chr(44)"
   ]
  },
  {
   "cell_type": "code",
   "execution_count": 53,
   "id": "cb9737b3",
   "metadata": {},
   "outputs": [
    {
     "name": "stdout",
     "output_type": "stream",
     "text": [
      "33 ! 34 \" 35 # 36 $ 37 % 38 & 39 ' 40 ( 41 ) 42 * 43 + 44 , 45 - 46 . 47 / 48 0 49 1 50 2 51 3 52 4 53 5 54 6 55 7 56 8 57 9 58 : 59 ; 60 < 61 = 62 > 63 ? 64 @ 65 A 66 B 67 C 68 D 69 E 70 F 71 G 72 H 73 I 74 J 75 K 76 L 77 M 78 N 79 O 80 P 81 Q 82 R 83 S 84 T 85 U 86 V 87 W 88 X 89 Y 90 Z 91 [ 92 \\ 93 ] 94 ^ 95 _ 96 ` 97 a 98 b 99 c 100 d 101 e 102 f 103 g 104 h 105 i 106 j 107 k 108 l 109 m 110 n 111 o 112 p 113 q 114 r 115 s 116 t 117 u 118 v 119 w 120 x 121 y 122 z 123 { 124 | 125 } "
     ]
    }
   ],
   "source": [
    "# what is the start and end of ascii numbers?\n",
    "\n",
    "for i in range(33,126):\n",
    "    print(i,chr(i),end=\" \")"
   ]
  },
  {
   "cell_type": "code",
   "execution_count": 54,
   "id": "c29b1aa4",
   "metadata": {},
   "outputs": [
    {
     "data": {
      "text/plain": [
       "'0123456789abcdefghijklmnopqrstuvwxyzABCDEFGHIJKLMNOPQRSTUVWXYZ!\"#$%&\\'()*+,-./:;<=>?@[\\\\]^_`{|}~ \\t\\n\\r\\x0b\\x0c'"
      ]
     },
     "execution_count": 54,
     "metadata": {},
     "output_type": "execute_result"
    }
   ],
   "source": [
    "string.printable\n",
    "\n",
    "# digits\n",
    "# lower\n",
    "# upper\n",
    "# lower"
   ]
  },
  {
   "cell_type": "code",
   "execution_count": 60,
   "id": "73a70028",
   "metadata": {},
   "outputs": [
    {
     "name": "stdout",
     "output_type": "stream",
     "text": [
      "The no of a in the string are: 3\n"
     ]
    }
   ],
   "source": [
    "# wap as the user find the number of \"a\" letters in a given string \n",
    "# string=\"hai how are you and how do you do\"\n",
    "# ans=3\n",
    "\n",
    "string=\"hai how are you and how do you do\"\n",
    "count=0\n",
    "for i in string:\n",
    "    if i == \"a\":\n",
    "        count=count+1\n",
    "print(\"The no of a in the string are:\",count)"
   ]
  },
  {
   "cell_type": "code",
   "execution_count": 67,
   "id": "6ec1c09a",
   "metadata": {},
   "outputs": [
    {
     "name": "stdout",
     "output_type": "stream",
     "text": [
      "13\n"
     ]
    }
   ],
   "source": [
    "# wap count the oval in the string\n",
    "vowels='aeiou'\n",
    "count1=0\n",
    "string=\"hai how are you and how do you do\"\n",
    "for i in string:\n",
    "    if i in vowels:\n",
    "        count1+=1\n",
    "print(count1)"
   ]
  },
  {
   "cell_type": "code",
   "execution_count": 37,
   "id": "b4627de8",
   "metadata": {},
   "outputs": [
    {
     "ename": "NameError",
     "evalue": "name 'new_str' is not defined",
     "output_type": "error",
     "traceback": [
      "\u001b[1;31m---------------------------------------------------------------------------\u001b[0m",
      "\u001b[1;31mNameError\u001b[0m                                 Traceback (most recent call last)",
      "\u001b[1;32m~\\AppData\\Local\\Temp\\ipykernel_11764\\426524191.py\u001b[0m in \u001b[0;36m<module>\u001b[1;34m\u001b[0m\n\u001b[0;32m      8\u001b[0m \u001b[1;32mfor\u001b[0m \u001b[0mi\u001b[0m \u001b[1;32min\u001b[0m \u001b[0mstring3\u001b[0m\u001b[1;33m:\u001b[0m\u001b[1;33m\u001b[0m\u001b[1;33m\u001b[0m\u001b[0m\n\u001b[0;32m      9\u001b[0m     \u001b[1;32mif\u001b[0m \u001b[0mi\u001b[0m \u001b[1;32min\u001b[0m \u001b[0mvowels\u001b[0m\u001b[1;33m:\u001b[0m\u001b[1;33m\u001b[0m\u001b[1;33m\u001b[0m\u001b[0m\n\u001b[1;32m---> 10\u001b[1;33m         \u001b[0mnew_str\u001b[0m\u001b[1;33m\u001b[0m\u001b[1;33m\u001b[0m\u001b[0m\n\u001b[0m\u001b[0;32m     11\u001b[0m         \u001b[0ming\u001b[0m\u001b[1;33m+=\u001b[0m\u001b[1;36m1\u001b[0m\u001b[1;33m\u001b[0m\u001b[1;33m\u001b[0m\u001b[0m\n\u001b[0;32m     12\u001b[0m \u001b[1;32mfor\u001b[0m \u001b[0mi\u001b[0m \u001b[1;32min\u001b[0m \u001b[0mnew_string\u001b[0m\u001b[1;33m:\u001b[0m\u001b[1;33m\u001b[0m\u001b[1;33m\u001b[0m\u001b[0m\n",
      "\u001b[1;31mNameError\u001b[0m: name 'new_str' is not defined"
     ]
    }
   ],
   "source": [
    "# wap count the numberof unique vowels in a given string\n",
    "#ans:5\n",
    "\n",
    "string3=\"hai how are you\"\n",
    "new_string=0\n",
    "f_string=[]\n",
    "vowels='aeiou'\n",
    "for i in string3:\n",
    "    if i in vowels:\n",
    "        new_str\n",
    "        ing+=1\n",
    "for i in new_string:\n",
    "    if i!=i:\n",
    "        f_string+=1\n",
    "        \n",
    "print(new_string)\n",
    "print(f_string)"
   ]
  },
  {
   "cell_type": "code",
   "execution_count": 72,
   "id": "97069af6",
   "metadata": {},
   "outputs": [
    {
     "data": {
      "text/plain": [
       "('p', 'y', 't', 'h', 'o', 'n')"
      ]
     },
     "execution_count": 72,
     "metadata": {},
     "output_type": "execute_result"
    }
   ],
   "source": [
    "string='python'\n",
    "string[0],string[1],string[2],string[3],string[4],string[5]"
   ]
  },
  {
   "cell_type": "code",
   "execution_count": 2,
   "id": "941ecf44",
   "metadata": {},
   "outputs": [
    {
     "name": "stdout",
     "output_type": "stream",
     "text": [
      "p y t h o n "
     ]
    }
   ],
   "source": [
    "string1='python'\n",
    "for i in string1:\n",
    "    print(i,end=' ')"
   ]
  },
  {
   "cell_type": "code",
   "execution_count": 3,
   "id": "03f153ca",
   "metadata": {},
   "outputs": [
    {
     "name": "stdout",
     "output_type": "stream",
     "text": [
      "0 p\n",
      "1 y\n",
      "2 t\n",
      "3 h\n",
      "4 o\n",
      "5 n\n"
     ]
    }
   ],
   "source": [
    "for i in range(len(string1)):\n",
    "    print(i,string1[i])"
   ]
  },
  {
   "cell_type": "code",
   "execution_count": 4,
   "id": "0ce834c3",
   "metadata": {},
   "outputs": [
    {
     "name": "stdout",
     "output_type": "stream",
     "text": [
      "The index of p is 0\n",
      "The index of y is 1\n",
      "The index of t is 2\n",
      "The index of h is 3\n",
      "The index of o is 4\n",
      "The index of n is 5\n"
     ]
    }
   ],
   "source": [
    "for i in range(len(string1)):\n",
    "    print('The index of {} is {}'.format(string1[i],i))"
   ]
  },
  {
   "cell_type": "code",
   "execution_count": 6,
   "id": "7c5726a5",
   "metadata": {},
   "outputs": [
    {
     "data": {
      "text/plain": [
       "('p', 'y', 't', 'h', 'o', 'n')"
      ]
     },
     "execution_count": 6,
     "metadata": {},
     "output_type": "execute_result"
    }
   ],
   "source": [
    "string1[-6],string1[-5],string1[-4],string1[-3],string1[-2],string1[-1]"
   ]
  },
  {
   "cell_type": "code",
   "execution_count": 17,
   "id": "50cc8c32",
   "metadata": {},
   "outputs": [
    {
     "name": "stdout",
     "output_type": "stream",
     "text": [
      "-6 p\n",
      "-5 y\n",
      "-4 t\n",
      "-3 h\n",
      "-2 o\n",
      "-1 n\n"
     ]
    }
   ],
   "source": [
    "for i in range(-len(string1),0):\n",
    "    print(i,string1[i])"
   ]
  },
  {
   "cell_type": "code",
   "execution_count": 19,
   "id": "1d11f18a",
   "metadata": {},
   "outputs": [
    {
     "name": "stdout",
     "output_type": "stream",
     "text": [
      "-6 -5 -4 -3 -2 -1 -6 -5 -4 -3 -2 -1 "
     ]
    }
   ],
   "source": [
    "for i in range(-6,0):print(i,end=' ')\n",
    "for i in range(0,6):print(i-6,end=' ')"
   ]
  },
  {
   "cell_type": "code",
   "execution_count": 24,
   "id": "852baec8",
   "metadata": {},
   "outputs": [
    {
     "name": "stdout",
     "output_type": "stream",
     "text": [
      "the negitive -6 index p and the positive 0 \n",
      "the negitive -5 index y and the positive 1 \n",
      "the negitive -4 index t and the positive 2 \n",
      "the negitive -3 index h and the positive 3 \n",
      "the negitive -2 index o and the positive 4 \n",
      "the negitive -1 index n and the positive 5 \n"
     ]
    }
   ],
   "source": [
    "string1='python'\n",
    "for i in range(len(string1)):\n",
    "    print('the negitive {} index {} and the positive {} '.format(i-6,string1[i],i))"
   ]
  },
  {
   "cell_type": "code",
   "execution_count": 27,
   "id": "269c778f",
   "metadata": {},
   "outputs": [
    {
     "name": "stdout",
     "output_type": "stream",
     "text": [
      "the positive index of p is 0\n",
      "the positive index of y is 1\n",
      "the positive index of t is 2\n",
      "the positive index of h is 3\n",
      "the positive index of o is 4\n",
      "the positive index of n is 5\n"
     ]
    }
   ],
   "source": [
    "for i in range(-len(string1),0):\n",
    "    print('the positive index of {} is {}'.format(string1[i],i+6))"
   ]
  },
  {
   "cell_type": "code",
   "execution_count": 28,
   "id": "d74f09f6",
   "metadata": {},
   "outputs": [
    {
     "name": "stdout",
     "output_type": "stream",
     "text": [
      "the negitive index of p is -6\n",
      "the negitive index of y is -5\n",
      "the negitive index of t is -4\n",
      "the negitive index of h is -3\n",
      "the negitive index of o is -2\n",
      "the negitive index of n is -1\n"
     ]
    }
   ],
   "source": [
    "for i in range(-len(string1),0):\n",
    "    print('the negitive index of {} is {}'.format(string1[i],i))"
   ]
  },
  {
   "cell_type": "code",
   "execution_count": 29,
   "id": "d9828001",
   "metadata": {},
   "outputs": [
    {
     "name": "stdout",
     "output_type": "stream",
     "text": [
      "the negitive index of -6 is p and postive 0\n",
      "the negitive index of -5 is y and postive 1\n",
      "the negitive index of -4 is t and postive 2\n",
      "the negitive index of -3 is h and postive 3\n",
      "the negitive index of -2 is o and postive 4\n",
      "the negitive index of -1 is n and postive 5\n"
     ]
    }
   ],
   "source": [
    "for i in range(-len(string1),0):\n",
    "    print('the negitive index of {} is {} and postive {}'.format(i,string1[i],i+6))"
   ]
  },
  {
   "cell_type": "code",
   "execution_count": 34,
   "id": "7552c990",
   "metadata": {},
   "outputs": [
    {
     "name": "stdout",
     "output_type": "stream",
     "text": [
      "the positive index of p is 0\n",
      "the positive index of y is 1\n",
      "the positive index of t is 2\n",
      "the positive index of h is 3\n",
      "the positive index of o is 4\n",
      "the positive index of n is 5\n"
     ]
    }
   ],
   "source": [
    "i=-6\n",
    "while i>=-6:\n",
    "    for i in range(-len(string1),0):\n",
    "        print('the positive index of {} is {}'.format(string1[i],i+6))\n",
    "        i=i+1\n",
    "    if i == 0:\n",
    "        break"
   ]
  },
  {
   "cell_type": "code",
   "execution_count": 36,
   "id": "1bb33bce",
   "metadata": {},
   "outputs": [
    {
     "name": "stdout",
     "output_type": "stream",
     "text": [
      "the positive index is 0 and negitive is -6 of p\n",
      "the positive index is 1 and negitive is -5 of y\n",
      "the positive index is 2 and negitive is -4 of t\n",
      "the positive index is 3 and negitive is -3 of h\n",
      "the positive index is 4 and negitive is -2 of o\n",
      "the positive index is 5 and negitive is -1 of n\n"
     ]
    }
   ],
   "source": [
    "i=0\n",
    "while i<len(string1):\n",
    "    print('the positive index is {} and negitive is {} of {}'.format(i,i-6,string1[i]))\n",
    "    i=i+1"
   ]
  },
  {
   "cell_type": "code",
   "execution_count": 39,
   "id": "212ea452",
   "metadata": {},
   "outputs": [
    {
     "name": "stdout",
     "output_type": "stream",
     "text": [
      "The no of a in the string are: 3\n"
     ]
    }
   ],
   "source": [
    "string=\"hai how are you and how do you do\"\n",
    "count=0\n",
    "for i in range(len(string)):\n",
    "    if string[i] == \"a\":\n",
    "        count=count+1\n",
    "print(\"The no of a in the string are:\",count)"
   ]
  },
  {
   "cell_type": "markdown",
   "id": "3c9b6b5b",
   "metadata": {},
   "source": [
    "**mutable and inmutable concept**\n",
    "\n",
    "- mutable ======== we can change \n",
    "\n",
    "- immutable ======= we can not change the value by using index operations\n",
    "\n",
    "**strings are immutable**"
   ]
  },
  {
   "cell_type": "code",
   "execution_count": 40,
   "id": "8eefb327",
   "metadata": {},
   "outputs": [
    {
     "ename": "TypeError",
     "evalue": "'str' object does not support item assignment",
     "output_type": "error",
     "traceback": [
      "\u001b[1;31m---------------------------------------------------------------------------\u001b[0m",
      "\u001b[1;31mTypeError\u001b[0m                                 Traceback (most recent call last)",
      "\u001b[1;32m~\\AppData\\Local\\Temp\\ipykernel_11764\\374333034.py\u001b[0m in \u001b[0;36m<module>\u001b[1;34m\u001b[0m\n\u001b[0;32m      1\u001b[0m \u001b[0mstring1\u001b[0m\u001b[1;33m=\u001b[0m\u001b[1;34m'python'\u001b[0m\u001b[1;33m\u001b[0m\u001b[1;33m\u001b[0m\u001b[0m\n\u001b[0;32m      2\u001b[0m \u001b[1;33m\u001b[0m\u001b[0m\n\u001b[1;32m----> 3\u001b[1;33m \u001b[0mstring1\u001b[0m\u001b[1;33m[\u001b[0m\u001b[1;36m0\u001b[0m\u001b[1;33m]\u001b[0m\u001b[1;33m=\u001b[0m\u001b[1;34m'P'\u001b[0m\u001b[1;33m\u001b[0m\u001b[1;33m\u001b[0m\u001b[0m\n\u001b[0m",
      "\u001b[1;31mTypeError\u001b[0m: 'str' object does not support item assignment"
     ]
    }
   ],
   "source": [
    "string1='python'\n",
    "\n",
    "string1[0]='P'"
   ]
  },
  {
   "cell_type": "code",
   "execution_count": 42,
   "id": "d9f7bd82",
   "metadata": {},
   "outputs": [
    {
     "data": {
      "text/plain": [
       "[1000, 200, 300]"
      ]
     },
     "execution_count": 42,
     "metadata": {},
     "output_type": "execute_result"
    }
   ],
   "source": [
    "list1=[100,200,300]\n",
    "list1[0]=1000\n",
    "list1"
   ]
  },
  {
   "cell_type": "markdown",
   "id": "b4e38c47",
   "metadata": {},
   "source": [
    "**slice**"
   ]
  },
  {
   "cell_type": "code",
   "execution_count": 44,
   "id": "4b3390b5",
   "metadata": {},
   "outputs": [
    {
     "data": {
      "text/plain": [
       "'i how ar'"
      ]
     },
     "execution_count": 44,
     "metadata": {},
     "output_type": "execute_result"
    }
   ],
   "source": [
    "string1='hai how are you'\n",
    "string1[2:10]\n",
    "# start=2\n",
    "# stop=10-9\n"
   ]
  },
  {
   "cell_type": "code",
   "execution_count": 45,
   "id": "5b229885",
   "metadata": {},
   "outputs": [
    {
     "data": {
      "text/plain": [
       "'ioa'"
      ]
     },
     "execution_count": 45,
     "metadata": {},
     "output_type": "execute_result"
    }
   ],
   "source": [
    "string1='hai how are you'\n",
    "string1[2:10:3]\n",
    "# start=2\n",
    "# stop=10-9\n",
    "# end=3"
   ]
  },
  {
   "cell_type": "code",
   "execution_count": 48,
   "id": "11a155a6",
   "metadata": {},
   "outputs": [
    {
     "data": {
      "text/plain": [
       "'hai how are you'"
      ]
     },
     "execution_count": 48,
     "metadata": {},
     "output_type": "execute_result"
    }
   ],
   "source": [
    "string1[:]"
   ]
  },
  {
   "cell_type": "code",
   "execution_count": 49,
   "id": "3e00f04c",
   "metadata": {},
   "outputs": [
    {
     "data": {
      "text/plain": [
       "'hai how are you'"
      ]
     },
     "execution_count": 49,
     "metadata": {},
     "output_type": "execute_result"
    }
   ],
   "source": [
    "string1[::]\n",
    "# start = 0\n",
    "# stop = last number\n",
    "# end = if not mentioned it is +1"
   ]
  },
  {
   "cell_type": "code",
   "execution_count": 2,
   "id": "e4e54007",
   "metadata": {},
   "outputs": [
    {
     "data": {
      "text/plain": [
       "'hai how are you'"
      ]
     },
     "execution_count": 2,
     "metadata": {},
     "output_type": "execute_result"
    }
   ],
   "source": [
    "string1='hai how are you'\n",
    "string1[2:10]\n",
    "string1[2:10:3]\n",
    "string1[:]\n",
    "string1[::]"
   ]
  },
  {
   "cell_type": "code",
   "execution_count": 7,
   "id": "cb8874a4",
   "metadata": {},
   "outputs": [
    {
     "data": {
      "text/plain": [
       "''"
      ]
     },
     "execution_count": 7,
     "metadata": {},
     "output_type": "execute_result"
    }
   ],
   "source": [
    "string1[2:10:-2]"
   ]
  },
  {
   "cell_type": "code",
   "execution_count": 56,
   "id": "4c8e04bd",
   "metadata": {},
   "outputs": [],
   "source": [
    "for i in range(2,10,-3): print(i)"
   ]
  },
  {
   "cell_type": "code",
   "execution_count": null,
   "id": "3bdc58f2",
   "metadata": {},
   "outputs": [],
   "source": [
    "- reading methods\n",
    "\n",
    "- single/"
   ]
  },
  {
   "cell_type": "markdown",
   "id": "6d144074",
   "metadata": {},
   "source": [
    "**string Methods**"
   ]
  },
  {
   "cell_type": "code",
   "execution_count": 28,
   "id": "59be4c26",
   "metadata": {},
   "outputs": [
    {
     "ename": "SyntaxError",
     "evalue": "invalid syntax (1959365384.py, line 1)",
     "output_type": "error",
     "traceback": [
      "\u001b[1;36m  File \u001b[1;32m\"C:\\Users\\Manohar\\AppData\\Local\\Temp\\ipykernel_22192\\1959365384.py\"\u001b[1;36m, line \u001b[1;32m1\u001b[0m\n\u001b[1;33m    import <package_name>\u001b[0m\n\u001b[1;37m           ^\u001b[0m\n\u001b[1;31mSyntaxError\u001b[0m\u001b[1;31m:\u001b[0m invalid syntax\n"
     ]
    }
   ],
   "source": [
    "import <package_name>\n",
    "dir <package_name>\n",
    "help<package_name.method_name>"
   ]
  },
  {
   "cell_type": "code",
   "execution_count": 59,
   "id": "2a48fb18",
   "metadata": {},
   "outputs": [
    {
     "data": {
      "text/plain": [
       "['Formatter',\n",
       " 'Template',\n",
       " '_ChainMap',\n",
       " '__all__',\n",
       " '__builtins__',\n",
       " '__cached__',\n",
       " '__doc__',\n",
       " '__file__',\n",
       " '__loader__',\n",
       " '__name__',\n",
       " '__package__',\n",
       " '__spec__',\n",
       " '_re',\n",
       " '_sentinel_dict',\n",
       " '_string',\n",
       " 'ascii_letters',\n",
       " 'ascii_lowercase',\n",
       " 'ascii_uppercase',\n",
       " 'capwords',\n",
       " 'digits',\n",
       " 'hexdigits',\n",
       " 'octdigits',\n",
       " 'printable',\n",
       " 'punctuation',\n",
       " 'whitespace']"
      ]
     },
     "execution_count": 59,
     "metadata": {},
     "output_type": "execute_result"
    }
   ],
   "source": [
    "import string\n",
    "dir(string)"
   ]
  },
  {
   "cell_type": "markdown",
   "id": "10adf5aa",
   "metadata": {},
   "source": [
    "**capitalize**"
   ]
  },
  {
   "cell_type": "code",
   "execution_count": 64,
   "id": "04c48362",
   "metadata": {},
   "outputs": [
    {
     "data": {
      "text/plain": [
       "'Python'"
      ]
     },
     "execution_count": 64,
     "metadata": {},
     "output_type": "execute_result"
    }
   ],
   "source": [
    "string1='python'\n",
    "string1.capitalize()"
   ]
  },
  {
   "cell_type": "markdown",
   "id": "40055e6a",
   "metadata": {},
   "source": [
    "$upper$"
   ]
  },
  {
   "cell_type": "code",
   "execution_count": 66,
   "id": "e94094dc",
   "metadata": {},
   "outputs": [
    {
     "data": {
      "text/plain": [
       "'PYTHON'"
      ]
     },
     "execution_count": 66,
     "metadata": {},
     "output_type": "execute_result"
    }
   ],
   "source": [
    "string1.upper()"
   ]
  },
  {
   "cell_type": "markdown",
   "id": "8956d197",
   "metadata": {},
   "source": [
    "$lower$"
   ]
  },
  {
   "cell_type": "code",
   "execution_count": 67,
   "id": "448f59c2",
   "metadata": {},
   "outputs": [
    {
     "data": {
      "text/plain": [
       "'python'"
      ]
     },
     "execution_count": 67,
     "metadata": {},
     "output_type": "execute_result"
    }
   ],
   "source": [
    "string1.lower()"
   ]
  },
  {
   "cell_type": "code",
   "execution_count": 70,
   "id": "d2b892ad",
   "metadata": {},
   "outputs": [
    {
     "name": "stdout",
     "output_type": "stream",
     "text": [
      "Welcome\n",
      "WELCOME\n",
      "welcome\n"
     ]
    }
   ],
   "source": [
    "string2='wElcOmE'\n",
    "print(string2.capitalize())\n",
    "print(string2.upper())\n",
    "print(string2.lower())"
   ]
  },
  {
   "cell_type": "code",
   "execution_count": 72,
   "id": "58a4c0f5",
   "metadata": {},
   "outputs": [
    {
     "data": {
      "text/plain": [
       "2"
      ]
     },
     "execution_count": 72,
     "metadata": {},
     "output_type": "execute_result"
    }
   ],
   "source": [
    "string2.count('E')"
   ]
  },
  {
   "cell_type": "code",
   "execution_count": 75,
   "id": "8a70d31d",
   "metadata": {},
   "outputs": [
    {
     "name": "stdout",
     "output_type": "stream",
     "text": [
      "2\n"
     ]
    }
   ],
   "source": [
    "count=0\n",
    "for i in string2:\n",
    "    if i == 'E':\n",
    "        count+=1\n",
    "print(count)"
   ]
  },
  {
   "cell_type": "code",
   "execution_count": 77,
   "id": "6b9dbd40",
   "metadata": {},
   "outputs": [
    {
     "name": "stdout",
     "output_type": "stream",
     "text": [
      "weLcome\n"
     ]
    }
   ],
   "source": [
    "string1='welcome'print(string2.capitalize())\n",
    "str1='we'\n",
    "str2='come'\n",
    "print(str1+'L'+str2)"
   ]
  },
  {
   "cell_type": "code",
   "execution_count": 80,
   "id": "f189d41a",
   "metadata": {},
   "outputs": [
    {
     "data": {
      "text/plain": [
       "'weLcome'"
      ]
     },
     "execution_count": 80,
     "metadata": {},
     "output_type": "execute_result"
    }
   ],
   "source": [
    "str11=string1[:2]\n",
    "str22=string1[3:]\n",
    "str11+'L'+str22"
   ]
  },
  {
   "cell_type": "code",
   "execution_count": 82,
   "id": "5ab4b7fa",
   "metadata": {},
   "outputs": [
    {
     "data": {
      "text/plain": [
       "'weLcome'"
      ]
     },
     "execution_count": 82,
     "metadata": {},
     "output_type": "execute_result"
    }
   ],
   "source": [
    "string1.replace('l','L')"
   ]
  },
  {
   "cell_type": "code",
   "execution_count": 83,
   "id": "a174a6e4",
   "metadata": {},
   "outputs": [
    {
     "data": {
      "text/plain": [
       "'p'"
      ]
     },
     "execution_count": 83,
     "metadata": {},
     "output_type": "execute_result"
    }
   ],
   "source": [
    "string=\"python\"\n",
    "string[0]"
   ]
  },
  {
   "cell_type": "code",
   "execution_count": 1,
   "id": "5cbd4bbb",
   "metadata": {},
   "outputs": [
    {
     "data": {
      "text/plain": [
       "'welcome'"
      ]
     },
     "execution_count": 1,
     "metadata": {},
     "output_type": "execute_result"
    }
   ],
   "source": [
    "string1='WelCome'\n",
    "string1.casefold()"
   ]
  },
  {
   "cell_type": "code",
   "execution_count": 2,
   "id": "0889cd86",
   "metadata": {},
   "outputs": [
    {
     "data": {
      "text/plain": [
       "'welcome'"
      ]
     },
     "execution_count": 2,
     "metadata": {},
     "output_type": "execute_result"
    }
   ],
   "source": [
    "string2='welcome'\n",
    "string2.casefold()"
   ]
  },
  {
   "cell_type": "markdown",
   "id": "1e1a863a",
   "metadata": {},
   "source": [
    "- capitalize: first letter as captial\n",
    "- upper: ALL letters are in upper case\n",
    "- lower: all letters are in lower case\n",
    "- casefold: case less comparision(lower case)"
   ]
  },
  {
   "cell_type": "markdown",
   "id": "0557013c",
   "metadata": {},
   "source": [
    "$count"
   ]
  },
  {
   "cell_type": "code",
   "execution_count": 4,
   "id": "98735f16",
   "metadata": {},
   "outputs": [
    {
     "data": {
      "text/plain": [
       "2"
      ]
     },
     "execution_count": 4,
     "metadata": {},
     "output_type": "execute_result"
    }
   ],
   "source": [
    "string1= 'hai how are you'\n",
    "string1.count('a')"
   ]
  },
  {
   "cell_type": "code",
   "execution_count": 5,
   "id": "82c1b29c",
   "metadata": {},
   "outputs": [
    {
     "data": {
      "text/plain": [
       "1"
      ]
     },
     "execution_count": 5,
     "metadata": {},
     "output_type": "execute_result"
    }
   ],
   "source": [
    "string1.count('hai')"
   ]
  },
  {
   "cell_type": "code",
   "execution_count": 6,
   "id": "73eb95fd",
   "metadata": {},
   "outputs": [
    {
     "data": {
      "text/plain": [
       "3"
      ]
     },
     "execution_count": 6,
     "metadata": {},
     "output_type": "execute_result"
    }
   ],
   "source": [
    "string1='ola ola ola'\n",
    "string1.count('ola')"
   ]
  },
  {
   "cell_type": "code",
   "execution_count": 7,
   "id": "a77c19f9",
   "metadata": {},
   "outputs": [
    {
     "data": {
      "text/plain": [
       "2"
      ]
     },
     "execution_count": 7,
     "metadata": {},
     "output_type": "execute_result"
    }
   ],
   "source": [
    "string1='ola ola ola'\n",
    "string1.count('ola ')"
   ]
  },
  {
   "cell_type": "code",
   "execution_count": 8,
   "id": "df0a7207",
   "metadata": {},
   "outputs": [
    {
     "name": "stdout",
     "output_type": "stream",
     "text": [
      "3\n",
      "2\n",
      "3\n",
      "0\n"
     ]
    }
   ],
   "source": [
    "string1='ola ola ola'\n",
    "print(string1.count('ola'))\n",
    "print(string1.count('ola '))\n",
    "print(string1.count('ol'))\n",
    "print(string1.count('oa'))"
   ]
  },
  {
   "cell_type": "code",
   "execution_count": 12,
   "id": "03505c52",
   "metadata": {},
   "outputs": [
    {
     "name": "stdout",
     "output_type": "stream",
     "text": [
      "2\n",
      "2\n",
      "0\n",
      "1\n",
      "0\n",
      "2\n",
      "0\n"
     ]
    }
   ],
   "source": [
    "string1='ola ola ola'\n",
    "# we are counting the number of 'a' from index 4\n",
    "print(string1.count('a',4))\n",
    "print(string1.count('a',6))\n",
    "print(string1.count('a',4,6))\n",
    "print(string1.count('a',4,7))\n",
    "print(string1.count('A',4))\n",
    "print(string1.count('A'.lower(),4))\n",
    "print(string1.count('a'.upper(),4,7))"
   ]
  },
  {
   "cell_type": "code",
   "execution_count": 14,
   "id": "1f103ca0",
   "metadata": {},
   "outputs": [
    {
     "name": "stdout",
     "output_type": "stream",
     "text": [
      "3\n"
     ]
    }
   ],
   "source": [
    "string1='ola ola ola'\n",
    "count=0\n",
    "for i in string1:\n",
    "    if i=='a':\n",
    "        count+=1\n",
    "print(count)"
   ]
  },
  {
   "cell_type": "code",
   "execution_count": null,
   "id": "010370fb",
   "metadata": {},
   "outputs": [],
   "source": [
    "# how many 'ola' are there"
   ]
  },
  {
   "cell_type": "code",
   "execution_count": 21,
   "id": "2cb7eb25",
   "metadata": {},
   "outputs": [
    {
     "data": {
      "text/plain": [
       "3"
      ]
     },
     "execution_count": 21,
     "metadata": {},
     "output_type": "execute_result"
    }
   ],
   "source": [
    "string1='ola ola ola'\n",
    "count=0\n",
    "for i in range(len(string1)):\n",
    "    if string1[i:i+3]=='ola':\n",
    "        count+=1\n",
    "count"
   ]
  },
  {
   "cell_type": "code",
   "execution_count": null,
   "id": "4584cdf5",
   "metadata": {},
   "outputs": [],
   "source": [
    "# count how many times,'ola' is repeated for the below string.solve using looping statements only.\n",
    "#string1='ola ola ola ola ola ola ola ola ola ola ola ola ola ola ola ola ola ola ola ola ola ola ola ola ola ola ola'"
   ]
  },
  {
   "cell_type": "raw",
   "id": "c5e2130f",
   "metadata": {},
   "source": [
    "$ replace"
   ]
  },
  {
   "cell_type": "code",
   "execution_count": 22,
   "id": "12fa41f5",
   "metadata": {},
   "outputs": [
    {
     "data": {
      "text/plain": [
       "'we@come'"
      ]
     },
     "execution_count": 22,
     "metadata": {},
     "output_type": "execute_result"
    }
   ],
   "source": [
    "string2='welcome'\n",
    "string2.replace('l','@')"
   ]
  },
  {
   "cell_type": "code",
   "execution_count": 23,
   "id": "310fd406",
   "metadata": {},
   "outputs": [
    {
     "data": {
      "text/plain": [
       "'$esta$t'"
      ]
     },
     "execution_count": 23,
     "metadata": {},
     "output_type": "execute_result"
    }
   ],
   "source": [
    "string2='restart'\n",
    "# replace 'r' with '$'\n",
    "string2.replace('r','$',-1)"
   ]
  },
  {
   "cell_type": "code",
   "execution_count": 24,
   "id": "2b61c669",
   "metadata": {},
   "outputs": [
    {
     "data": {
      "text/plain": [
       "'$estart'"
      ]
     },
     "execution_count": 24,
     "metadata": {},
     "output_type": "execute_result"
    }
   ],
   "source": [
    "string2='restart'\n",
    "# replace 'r' with '$'\n",
    "string2.replace('r','$',1)"
   ]
  },
  {
   "cell_type": "code",
   "execution_count": 48,
   "id": "327aa38d",
   "metadata": {},
   "outputs": [
    {
     "data": {
      "text/plain": [
       "'resta$t'"
      ]
     },
     "execution_count": 48,
     "metadata": {},
     "output_type": "execute_result"
    }
   ],
   "source": [
    "string2='restart'\n",
    "# replace 'r' with '$'\n",
    "s1=string2[0]\n",
    "s2=string2[1:].replace('r','$')\n",
    "s1+s2"
   ]
  },
  {
   "cell_type": "code",
   "execution_count": 50,
   "id": "9ccbc4e5",
   "metadata": {},
   "outputs": [
    {
     "data": {
      "text/plain": [
       "'resta$t'"
      ]
     },
     "execution_count": 50,
     "metadata": {},
     "output_type": "execute_result"
    }
   ],
   "source": [
    "string2[::-1].replace('r','$',1)[::-1]"
   ]
  },
  {
   "cell_type": "markdown",
   "id": "0b14c07e",
   "metadata": {},
   "source": [
    "index"
   ]
  },
  {
   "cell_type": "code",
   "execution_count": 52,
   "id": "3a73bde7",
   "metadata": {},
   "outputs": [
    {
     "data": {
      "text/plain": [
       "3"
      ]
     },
     "execution_count": 52,
     "metadata": {},
     "output_type": "execute_result"
    }
   ],
   "source": [
    "string1='welcome python'\n",
    "\n",
    "#index of 'c'\n",
    "string1.index('c')"
   ]
  },
  {
   "cell_type": "code",
   "execution_count": 55,
   "id": "f5b80342",
   "metadata": {},
   "outputs": [
    {
     "ename": "ValueError",
     "evalue": "substring not found",
     "output_type": "error",
     "traceback": [
      "\u001b[1;31m---------------------------------------------------------------------------\u001b[0m",
      "\u001b[1;31mValueError\u001b[0m                                Traceback (most recent call last)",
      "\u001b[1;32m~\\AppData\\Local\\Temp\\ipykernel_25476\\3856077151.py\u001b[0m in \u001b[0;36m<module>\u001b[1;34m\u001b[0m\n\u001b[0;32m      2\u001b[0m \u001b[1;33m\u001b[0m\u001b[0m\n\u001b[0;32m      3\u001b[0m \u001b[1;31m#index of 'z'\u001b[0m\u001b[1;33m\u001b[0m\u001b[1;33m\u001b[0m\u001b[0m\n\u001b[1;32m----> 4\u001b[1;33m \u001b[0mstring1\u001b[0m\u001b[1;33m.\u001b[0m\u001b[0mindex\u001b[0m\u001b[1;33m(\u001b[0m\u001b[1;34m'z'\u001b[0m\u001b[1;33m)\u001b[0m\u001b[1;33m\u001b[0m\u001b[1;33m\u001b[0m\u001b[0m\n\u001b[0m",
      "\u001b[1;31mValueError\u001b[0m: substring not found"
     ]
    }
   ],
   "source": [
    "string1='welcome python'\n",
    "\n",
    "#index of 'z'\n",
    "string1.index('z')"
   ]
  },
  {
   "cell_type": "code",
   "execution_count": 56,
   "id": "8a827a62",
   "metadata": {},
   "outputs": [
    {
     "name": "stdout",
     "output_type": "stream",
     "text": [
      "3\n"
     ]
    }
   ],
   "source": [
    "string1='hai how are you and'\n",
    "count=0\n",
    "for i in string1:\n",
    "    if i=='a':\n",
    "        count+=1\n",
    "print(count)"
   ]
  },
  {
   "cell_type": "code",
   "execution_count": 57,
   "id": "4f869665",
   "metadata": {},
   "outputs": [
    {
     "data": {
      "text/plain": [
       "3"
      ]
     },
     "execution_count": 57,
     "metadata": {},
     "output_type": "execute_result"
    }
   ],
   "source": [
    "string1.count('a')"
   ]
  },
  {
   "cell_type": "code",
   "execution_count": 58,
   "id": "20f452a8",
   "metadata": {},
   "outputs": [
    {
     "name": "stdout",
     "output_type": "stream",
     "text": [
      "1\n",
      "8\n",
      "16\n"
     ]
    }
   ],
   "source": [
    "for i in range(len(string1)):\n",
    "    if string1[i]=='a':\n",
    "        print(i)"
   ]
  },
  {
   "cell_type": "code",
   "execution_count": 59,
   "id": "482b3a12",
   "metadata": {},
   "outputs": [
    {
     "data": {
      "text/plain": [
       "1"
      ]
     },
     "execution_count": 59,
     "metadata": {},
     "output_type": "execute_result"
    }
   ],
   "source": [
    "string1.index('a')"
   ]
  },
  {
   "cell_type": "code",
   "execution_count": 67,
   "id": "04da96ca",
   "metadata": {},
   "outputs": [
    {
     "name": "stdout",
     "output_type": "stream",
     "text": [
      "1 5 9 13 17\n"
     ]
    }
   ],
   "source": [
    "string1='hai hai hai hai hai hai'\n",
    "i1=string1.index('a')\n",
    "i2=string1.index('a',i1+1)\n",
    "i3=string1.index('a',i2+1)\n",
    "i4=string1.index('a',i3+1)\n",
    "i5=string1.index('a',i4+1)\n",
    "print(i1,i2,i3,i4,i5)"
   ]
  },
  {
   "cell_type": "code",
   "execution_count": 70,
   "id": "8632f461",
   "metadata": {},
   "outputs": [
    {
     "name": "stdout",
     "output_type": "stream",
     "text": [
      "1\n",
      "1\n",
      "1\n",
      "1\n",
      "1\n",
      "1\n"
     ]
    }
   ],
   "source": [
    "index=0\n",
    "for i in string1:\n",
    "    if i=='a':\n",
    "        index=string1.index(i)\n",
    "        print(index)\n",
    "        #print(string1.index(i,index+1))"
   ]
  },
  {
   "cell_type": "code",
   "execution_count": 79,
   "id": "04954db2",
   "metadata": {},
   "outputs": [
    {
     "ename": "ValueError",
     "evalue": "substring not found",
     "output_type": "error",
     "traceback": [
      "\u001b[1;31m---------------------------------------------------------------------------\u001b[0m",
      "\u001b[1;31mValueError\u001b[0m                                Traceback (most recent call last)",
      "\u001b[1;32m~\\AppData\\Local\\Temp\\ipykernel_25476\\1722409461.py\u001b[0m in \u001b[0;36m<module>\u001b[1;34m\u001b[0m\n\u001b[0;32m      3\u001b[0m \u001b[1;31m# if substring not found it returns -1\u001b[0m\u001b[1;33m\u001b[0m\u001b[1;33m\u001b[0m\u001b[0m\n\u001b[0;32m      4\u001b[0m \u001b[1;33m\u001b[0m\u001b[0m\n\u001b[1;32m----> 5\u001b[1;33m \u001b[0mstring1\u001b[0m\u001b[1;33m.\u001b[0m\u001b[0mindex\u001b[0m\u001b[1;33m(\u001b[0m\u001b[1;34m'z'\u001b[0m\u001b[1;33m)\u001b[0m \u001b[1;31m# ValueError: substring not found\u001b[0m\u001b[1;33m\u001b[0m\u001b[1;33m\u001b[0m\u001b[0m\n\u001b[0m\u001b[0;32m      6\u001b[0m \u001b[1;31m# ValueError: substring not found\u001b[0m\u001b[1;33m\u001b[0m\u001b[1;33m\u001b[0m\u001b[0m\n\u001b[0;32m      7\u001b[0m \u001b[1;33m\u001b[0m\u001b[0m\n",
      "\u001b[1;31mValueError\u001b[0m: substring not found"
     ]
    }
   ],
   "source": [
    "string1='hai hello how are you'\n",
    "string1.find('z') # no error\n",
    "# if substring not found it returns -1\n",
    "\n",
    "string1.index('z') # ValueError: substring not found\n",
    "# ValueError: substring not found\n",
    "\n",
    "string1.count('z') # no error\n",
    "# it returns zero(0)"
   ]
  },
  {
   "cell_type": "markdown",
   "id": "81df3b36",
   "metadata": {},
   "source": [
    "- capitalize/upper/lower/casefold\n",
    "- index/find\n",
    "- count\n",
    "- replace"
   ]
  },
  {
   "cell_type": "code",
   "execution_count": 1,
   "id": "80232b3b",
   "metadata": {},
   "outputs": [
    {
     "data": {
      "text/plain": [
       "2"
      ]
     },
     "execution_count": 1,
     "metadata": {},
     "output_type": "execute_result"
    }
   ],
   "source": [
    "str1='hai how are you, in good'\n",
    "str1.index('i')"
   ]
  },
  {
   "cell_type": "code",
   "execution_count": 2,
   "id": "abca1139",
   "metadata": {},
   "outputs": [
    {
     "data": {
      "text/plain": [
       "17"
      ]
     },
     "execution_count": 2,
     "metadata": {},
     "output_type": "execute_result"
    }
   ],
   "source": [
    "str1.index('i',str1.index('i')+1)"
   ]
  },
  {
   "cell_type": "markdown",
   "id": "df8c36e8",
   "metadata": {},
   "source": [
    "* strip\n",
    "- lstrip\n",
    "- rstrip"
   ]
  },
  {
   "cell_type": "code",
   "execution_count": 10,
   "id": "d93d9c54",
   "metadata": {},
   "outputs": [],
   "source": [
    "str1=' hello how are you '\n",
    "str2=' hello how are you'\n",
    "str3=' hello how are you'\n",
    "\n",
    "#i want remove the spaces\n",
    "# if you want to remove the spaces both use strip method\n",
    "# if you want to remove the spaces leftsid use Lstrip method\n",
    "# if you want to remove the spaces rightside use rstrip method"
   ]
  },
  {
   "cell_type": "code",
   "execution_count": 8,
   "id": "d19e3bf6",
   "metadata": {},
   "outputs": [
    {
     "name": "stdout",
     "output_type": "stream",
     "text": [
      "hello how are you\n",
      "hello how are you \n",
      " hello how are you\n"
     ]
    }
   ],
   "source": [
    "print(str1.strip())\n",
    "print(str1.lstrip())\n",
    "print(str1.rstrip())"
   ]
  },
  {
   "cell_type": "code",
   "execution_count": 9,
   "id": "d29602ff",
   "metadata": {},
   "outputs": [
    {
     "name": "stdout",
     "output_type": "stream",
     "text": [
      "hello how are you\n",
      "hello how are you\n",
      "hello how are you\n"
     ]
    }
   ],
   "source": [
    "print(str1.strip())\n",
    "print(str2.strip())\n",
    "print(str3.strip())"
   ]
  },
  {
   "cell_type": "code",
   "execution_count": 51,
   "id": "e58f1e05",
   "metadata": {},
   "outputs": [
    {
     "name": "stdout",
     "output_type": "stream",
     "text": [
      "first name: python\n",
      "second name: anaconda\n",
      "third name: nareshit\n"
     ]
    }
   ],
   "source": [
    "#wap to extract\n",
    "\n",
    "str1='python.anaconda@nareshit.com'\n",
    "\n",
    "# extract first name:python\n",
    "# extract second name:anaconda\n",
    "# extract comapny name:nareshit\n",
    "print('first name:',str1[:str1.find('.')])\n",
    "print('second name:',str1[str1.find('.')+1:str1.find('@')])\n",
    "print('third name:',str1[str1.find('@')+1:str1.find('.',str1.find('.')+1)])"
   ]
  },
  {
   "cell_type": "code",
   "execution_count": 54,
   "id": "b8256774",
   "metadata": {},
   "outputs": [
    {
     "name": "stdout",
     "output_type": "stream",
     "text": [
      "first name: virat\n",
      "second name: kholi\n",
      "third name: bcci\n"
     ]
    }
   ],
   "source": [
    "str2='virat.kholi@bcci.com'\n",
    "print('first name:',str2[:str2.find('.')])\n",
    "print('second name:',str2[str2.find('.')+1:str2.find('@')])\n",
    "print('third name:',str2[str2.find('@')+1:str2.find('.',str2.find('.')+1)])"
   ]
  },
  {
   "cell_type": "code",
   "execution_count": 38,
   "id": "5ab4af3f",
   "metadata": {},
   "outputs": [
    {
     "data": {
      "text/plain": [
       "15"
      ]
     },
     "execution_count": 38,
     "metadata": {},
     "output_type": "execute_result"
    }
   ],
   "source": [
    "str1.find('@')"
   ]
  },
  {
   "cell_type": "code",
   "execution_count": 56,
   "id": "36a1a4d1",
   "metadata": {},
   "outputs": [
    {
     "name": "stdout",
     "output_type": "stream",
     "text": [
      "first name: onepiece\n",
      "second name: oda\n",
      "third name: anime\n"
     ]
    }
   ],
   "source": [
    "str3='onepiece.oda@anime.com'\n",
    "print('first name:',str3[:str3.find('.')])\n",
    "print('second name:',str3[str3.find('.')+1:str3.find('@')])\n",
    "print('third name:',str3[str3.find('@')+1:str3.find('.',str3.find('.')+1)])"
   ]
  },
  {
   "cell_type": "code",
   "execution_count": 55,
   "id": "a8262a57",
   "metadata": {},
   "outputs": [
    {
     "data": {
      "text/plain": [
       "'anaconda'"
      ]
     },
     "execution_count": 55,
     "metadata": {},
     "output_type": "execute_result"
    }
   ],
   "source": [
    "str1[7:15]"
   ]
  },
  {
   "cell_type": "code",
   "execution_count": 57,
   "id": "5f8c8e25",
   "metadata": {},
   "outputs": [
    {
     "name": "stdout",
     "output_type": "stream",
     "text": [
      "first name: 3\n",
      "second name: 1489\n"
     ]
    }
   ],
   "source": [
    "str4='3.1489'\n",
    "print('first name:',str4[:str4.index('.')])\n",
    "print('second name:',str4[str4.index('.')+1:])"
   ]
  },
  {
   "cell_type": "markdown",
   "id": "9293d8cc",
   "metadata": {},
   "source": [
    "## startswith- endswith"
   ]
  },
  {
   "cell_type": "code",
   "execution_count": 59,
   "id": "4d67273e",
   "metadata": {},
   "outputs": [
    {
     "data": {
      "text/plain": [
       "True"
      ]
     },
     "execution_count": 59,
     "metadata": {},
     "output_type": "execute_result"
    }
   ],
   "source": [
    "str1='hai how are you'\n",
    "str1.endswith('you')"
   ]
  },
  {
   "cell_type": "code",
   "execution_count": 62,
   "id": "562cfb14",
   "metadata": {},
   "outputs": [
    {
     "data": {
      "text/plain": [
       "True"
      ]
     },
     "execution_count": 62,
     "metadata": {},
     "output_type": "execute_result"
    }
   ],
   "source": [
    "str1.startswith(str1)"
   ]
  },
  {
   "cell_type": "code",
   "execution_count": 63,
   "id": "7795b74d",
   "metadata": {},
   "outputs": [
    {
     "data": {
      "text/plain": [
       "True"
      ]
     },
     "execution_count": 63,
     "metadata": {},
     "output_type": "execute_result"
    }
   ],
   "source": [
    "str1.endswith(str1)"
   ]
  },
  {
   "cell_type": "code",
   "execution_count": 68,
   "id": "4001fe8c",
   "metadata": {},
   "outputs": [
    {
     "name": "stdout",
     "output_type": "stream",
     "text": [
      "True\n"
     ]
    }
   ],
   "source": [
    "import string\n",
    "string1='abc'\n",
    "print(string1.isalpha())"
   ]
  },
  {
   "cell_type": "code",
   "execution_count": 69,
   "id": "4e1c0018",
   "metadata": {},
   "outputs": [
    {
     "data": {
      "text/plain": [
       "False"
      ]
     },
     "execution_count": 69,
     "metadata": {},
     "output_type": "execute_result"
    }
   ],
   "source": [
    "string1.isnumeric()"
   ]
  },
  {
   "cell_type": "code",
   "execution_count": 70,
   "id": "730f30eb",
   "metadata": {},
   "outputs": [
    {
     "data": {
      "text/plain": [
       "False"
      ]
     },
     "execution_count": 70,
     "metadata": {},
     "output_type": "execute_result"
    }
   ],
   "source": [
    "string1.isupper()"
   ]
  },
  {
   "cell_type": "code",
   "execution_count": 71,
   "id": "e9218a5b",
   "metadata": {},
   "outputs": [
    {
     "data": {
      "text/plain": [
       "True"
      ]
     },
     "execution_count": 71,
     "metadata": {},
     "output_type": "execute_result"
    }
   ],
   "source": [
    "string1.islower()"
   ]
  },
  {
   "cell_type": "code",
   "execution_count": 72,
   "id": "4f510c6e",
   "metadata": {},
   "outputs": [
    {
     "data": {
      "text/plain": [
       "False"
      ]
     },
     "execution_count": 72,
     "metadata": {},
     "output_type": "execute_result"
    }
   ],
   "source": [
    "string2='23456'\n",
    "string2.isalpha()"
   ]
  },
  {
   "cell_type": "code",
   "execution_count": 73,
   "id": "1be89cd5",
   "metadata": {},
   "outputs": [
    {
     "data": {
      "text/plain": [
       "True"
      ]
     },
     "execution_count": 73,
     "metadata": {},
     "output_type": "execute_result"
    }
   ],
   "source": [
    "string2.isnumeric()"
   ]
  },
  {
   "cell_type": "code",
   "execution_count": 74,
   "id": "be0c39b9",
   "metadata": {},
   "outputs": [
    {
     "data": {
      "text/plain": [
       "False"
      ]
     },
     "execution_count": 74,
     "metadata": {},
     "output_type": "execute_result"
    }
   ],
   "source": [
    "string2.isupper()"
   ]
  },
  {
   "cell_type": "code",
   "execution_count": 76,
   "id": "308b7022",
   "metadata": {},
   "outputs": [
    {
     "data": {
      "text/plain": [
       "False"
      ]
     },
     "execution_count": 76,
     "metadata": {},
     "output_type": "execute_result"
    }
   ],
   "source": [
    "string2.islower()"
   ]
  },
  {
   "cell_type": "code",
   "execution_count": 78,
   "id": "0ee3fa24",
   "metadata": {},
   "outputs": [
    {
     "data": {
      "text/plain": [
       "True"
      ]
     },
     "execution_count": 78,
     "metadata": {},
     "output_type": "execute_result"
    }
   ],
   "source": [
    "string2.isalnum()"
   ]
  },
  {
   "cell_type": "code",
   "execution_count": 79,
   "id": "609c24be",
   "metadata": {},
   "outputs": [
    {
     "data": {
      "text/plain": [
       "['Formatter',\n",
       " 'Template',\n",
       " '_ChainMap',\n",
       " '__all__',\n",
       " '__builtins__',\n",
       " '__cached__',\n",
       " '__doc__',\n",
       " '__file__',\n",
       " '__loader__',\n",
       " '__name__',\n",
       " '__package__',\n",
       " '__spec__',\n",
       " '_re',\n",
       " '_sentinel_dict',\n",
       " '_string',\n",
       " 'ascii_letters',\n",
       " 'ascii_lowercase',\n",
       " 'ascii_uppercase',\n",
       " 'capwords',\n",
       " 'digits',\n",
       " 'hexdigits',\n",
       " 'octdigits',\n",
       " 'printable',\n",
       " 'punctuation',\n",
       " 'whitespace']"
      ]
     },
     "execution_count": 79,
     "metadata": {},
     "output_type": "execute_result"
    }
   ],
   "source": [
    "dir(string)"
   ]
  },
  {
   "cell_type": "code",
   "execution_count": 82,
   "id": "014a2eba",
   "metadata": {},
   "outputs": [
    {
     "data": {
      "text/plain": [
       "False"
      ]
     },
     "execution_count": 82,
     "metadata": {},
     "output_type": "execute_result"
    }
   ],
   "source": [
    "str1='abc.123'\n",
    "str1.isdecimal()"
   ]
  },
  {
   "cell_type": "code",
   "execution_count": 83,
   "id": "2138c92c",
   "metadata": {},
   "outputs": [
    {
     "data": {
      "text/plain": [
       "['hai', 'how', 'are', 'you']"
      ]
     },
     "execution_count": 83,
     "metadata": {},
     "output_type": "execute_result"
    }
   ],
   "source": [
    "str2='hai how are you'\n",
    "str2.split() # if i not provide anything inside brackets:space\n",
    "            # output is in list format"
   ]
  },
  {
   "cell_type": "code",
   "execution_count": 85,
   "id": "8721e132",
   "metadata": {},
   "outputs": [
    {
     "data": {
      "text/plain": [
       "['hai how', 'are you']"
      ]
     },
     "execution_count": 85,
     "metadata": {},
     "output_type": "execute_result"
    }
   ],
   "source": [
    "str2='hai how,are you'\n",
    "str2.split(',')"
   ]
  },
  {
   "cell_type": "code",
   "execution_count": 86,
   "id": "cb7408e9",
   "metadata": {},
   "outputs": [
    {
     "data": {
      "text/plain": [
       "['h', 'i how,', 're you']"
      ]
     },
     "execution_count": 86,
     "metadata": {},
     "output_type": "execute_result"
    }
   ],
   "source": [
    "str2='hai how,are you'\n",
    "str2.split('a')"
   ]
  },
  {
   "cell_type": "code",
   "execution_count": 87,
   "id": "beba12d4",
   "metadata": {},
   "outputs": [
    {
     "data": {
      "text/plain": [
       "'hello'"
      ]
     },
     "execution_count": 87,
     "metadata": {},
     "output_type": "execute_result"
    }
   ],
   "source": [
    "str3='%%%%hello%%%%'\n",
    "str3.strip('%')"
   ]
  },
  {
   "cell_type": "markdown",
   "id": "003e132b",
   "metadata": {},
   "source": [
    "- capitalize/upper/lower/casefold\n",
    "- index/find\n",
    "- count\n",
    "- replace\n",
    "- lstrip/rstrip/strip\n",
    "- startswith/endswith\n",
    "- isalpha/isalnum/isnumeric\n",
    "- split"
   ]
  },
  {
   "cell_type": "code",
   "execution_count": null,
   "id": "42b8e83e",
   "metadata": {},
   "outputs": [],
   "source": [
    "# wap to identify the largest word and shortest word in a given sentence\n",
    "# wap to identify the most repeated word in a given sentance\n",
    "# wap out of 3 strings 'hyd','blr','mumbai' which is greater and which is lower"
   ]
  },
  {
   "cell_type": "markdown",
   "id": "d56b3353",
   "metadata": {},
   "source": [
    "- how to read the strings\n",
    "- single/double/triples qoutes\n",
    "- docstring\n",
    "- type\n",
    "- max\n",
    "- min\n",
    "- len\n",
    "- addition of two strings(concatenation)\n",
    "- multiplicaton\n",
    "- subtraction\n",
    "- division\n",
    "- in operator\n",
    "- index\n",
    "- mutable condition\n",
    "- slice\n",
    "- string methods\n",
    "    - capitalize/upper/lower/casefold\n",
    "    - index/find\n",
    "    - count\n",
    "    - replace\n",
    "    - lstrip/rstrip/strip\n",
    "    - startswith/endswith\n",
    "    - isalpha/isalnum/isnumeric\n",
    "    - split\n"
   ]
  },
  {
   "cell_type": "code",
   "execution_count": null,
   "id": "b0553590",
   "metadata": {},
   "outputs": [],
   "source": []
  },
  {
   "cell_type": "code",
   "execution_count": null,
   "id": "636667bb",
   "metadata": {},
   "outputs": [],
   "source": []
  },
  {
   "cell_type": "code",
   "execution_count": null,
   "id": "255d5041",
   "metadata": {},
   "outputs": [],
   "source": []
  },
  {
   "cell_type": "code",
   "execution_count": null,
   "id": "a26e3cbf",
   "metadata": {},
   "outputs": [],
   "source": []
  },
  {
   "cell_type": "code",
   "execution_count": null,
   "id": "46c83cf5",
   "metadata": {},
   "outputs": [],
   "source": []
  }
 ],
 "metadata": {
  "kernelspec": {
   "display_name": "Python 3 (ipykernel)",
   "language": "python",
   "name": "python3"
  },
  "language_info": {
   "codemirror_mode": {
    "name": "ipython",
    "version": 3
   },
   "file_extension": ".py",
   "mimetype": "text/x-python",
   "name": "python",
   "nbconvert_exporter": "python",
   "pygments_lexer": "ipython3",
   "version": "3.11.5"
  }
 },
 "nbformat": 4,
 "nbformat_minor": 5
}

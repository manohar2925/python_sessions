{
 "cells": [
  {
   "cell_type": "code",
   "execution_count": null,
   "id": "3832cf63",
   "metadata": {},
   "outputs": [],
   "source": [
    "# create basic function"
   ]
  },
  {
   "cell_type": "markdown",
   "id": "b42a52f5",
   "metadata": {},
   "source": [
    "**one arguements**"
   ]
  },
  {
   "cell_type": "code",
   "execution_count": 1,
   "id": "ce2ed376",
   "metadata": {},
   "outputs": [
    {
     "data": {
      "text/plain": [
       "30"
      ]
     },
     "execution_count": 1,
     "metadata": {},
     "output_type": "execute_result"
    }
   ],
   "source": [
    "def add(x):\n",
    "    return(x+10)\n",
    "\n",
    "add(20)"
   ]
  },
  {
   "cell_type": "code",
   "execution_count": 2,
   "id": "01f50328",
   "metadata": {},
   "outputs": [
    {
     "data": {
      "text/plain": [
       "30"
      ]
     },
     "execution_count": 2,
     "metadata": {},
     "output_type": "execute_result"
    }
   ],
   "source": [
    "def add(x):\n",
    "    summ=x+10\n",
    "    return(summ)\n",
    "\n",
    "add(20)\n",
    "\n",
    "\n",
    "# how many arguements are present?: x\n",
    "# what you are retruning?: x+10\n",
    "\n",
    "# format: lambda<arguement_name>:<output>"
   ]
  },
  {
   "cell_type": "code",
   "execution_count": 5,
   "id": "54b7968e",
   "metadata": {},
   "outputs": [
    {
     "data": {
      "text/plain": [
       "30"
      ]
     },
     "execution_count": 5,
     "metadata": {},
     "output_type": "execute_result"
    }
   ],
   "source": [
    "add=lambda x:x+10\n",
    "add(20)"
   ]
  },
  {
   "cell_type": "code",
   "execution_count": 7,
   "id": "6e63fa7b",
   "metadata": {},
   "outputs": [
    {
     "data": {
      "text/plain": [
       "81"
      ]
     },
     "execution_count": 7,
     "metadata": {},
     "output_type": "execute_result"
    }
   ],
   "source": [
    "square=lambda x:x*x\n",
    "square(9)"
   ]
  },
  {
   "cell_type": "code",
   "execution_count": 10,
   "id": "296eb28f",
   "metadata": {},
   "outputs": [
    {
     "data": {
      "text/plain": [
       "343"
      ]
     },
     "execution_count": 10,
     "metadata": {},
     "output_type": "execute_result"
    }
   ],
   "source": [
    "cube=lambda x:x*x*x\n",
    "cube(7)"
   ]
  },
  {
   "cell_type": "markdown",
   "id": "cc1e8d00",
   "metadata": {},
   "source": [
    "**two arguements**"
   ]
  },
  {
   "cell_type": "code",
   "execution_count": null,
   "id": "77f5a7cd",
   "metadata": {},
   "outputs": [],
   "source": [
    "def add(a,b):\n",
    "    summ=a+b\n",
    "    return(summ)\n",
    "\n",
    "add(20,10)\n",
    "\n",
    "\n",
    "# how many arguements are present?: a,b\n",
    "# what you are retruning?: a+b\n",
    "\n",
    "# format: lambda<arguement_name1><arguement_name2>:<output>"
   ]
  },
  {
   "cell_type": "code",
   "execution_count": 13,
   "id": "f5fbf356",
   "metadata": {},
   "outputs": [
    {
     "data": {
      "text/plain": [
       "30"
      ]
     },
     "execution_count": 13,
     "metadata": {},
     "output_type": "execute_result"
    }
   ],
   "source": [
    "add=lambda a,b:a+b\n",
    "add(10,20)"
   ]
  },
  {
   "cell_type": "code",
   "execution_count": 15,
   "id": "5e507032",
   "metadata": {},
   "outputs": [
    {
     "data": {
      "text/plain": [
       "20.0"
      ]
     },
     "execution_count": 15,
     "metadata": {},
     "output_type": "execute_result"
    }
   ],
   "source": [
    "# implement avg of 3 numbers\n",
    "\n",
    "avg=lambda a,b,c:(a+b+c)/3\n",
    "avg(10,20,30)"
   ]
  },
  {
   "cell_type": "code",
   "execution_count": 19,
   "id": "efe45a01",
   "metadata": {},
   "outputs": [
    {
     "data": {
      "text/plain": [
       "26.67"
      ]
     },
     "execution_count": 19,
     "metadata": {},
     "output_type": "execute_result"
    }
   ],
   "source": [
    "# implement avg make c as default parameter\n",
    "\n",
    "avg1=lambda a,b,c=30:round((a+b+c)/3,2)\n",
    "avg1(30,20)"
   ]
  },
  {
   "cell_type": "markdown",
   "id": "5da1ba46",
   "metadata": {},
   "source": [
    "**if-else**"
   ]
  },
  {
   "cell_type": "code",
   "execution_count": null,
   "id": "05e73a19",
   "metadata": {},
   "outputs": [],
   "source": [
    "# create a function for finding greater number between two numbers"
   ]
  },
  {
   "cell_type": "code",
   "execution_count": null,
   "id": "43122f97",
   "metadata": {},
   "outputs": [],
   "source": [
    "# format:\n",
    "# lambda <arg1>,<arg2>:<if_output> <if_con> else <else_op>"
   ]
  },
  {
   "cell_type": "code",
   "execution_count": 25,
   "id": "b9fa4ca6",
   "metadata": {},
   "outputs": [
    {
     "data": {
      "text/plain": [
       "30"
      ]
     },
     "execution_count": 25,
     "metadata": {},
     "output_type": "execute_result"
    }
   ],
   "source": [
    "greater= lambda a,b:(a if a>b else b)\n",
    "greater(30,5)"
   ]
  },
  {
   "cell_type": "code",
   "execution_count": 5,
   "id": "c2f6fce4",
   "metadata": {},
   "outputs": [
    {
     "data": {
      "text/plain": [
       "['Hyd', 'Chennai', 'Mumbai']"
      ]
     },
     "execution_count": 5,
     "metadata": {},
     "output_type": "execute_result"
    }
   ],
   "source": [
    "list1=['hyd','chennai','mumbai']\n",
    "list2=[]\n",
    "\n",
    "# append method\n",
    "for i in list1:\n",
    "    list2.append(i.capitalize())\n",
    "list2"
   ]
  },
  {
   "cell_type": "code",
   "execution_count": null,
   "id": "f44d4ff1",
   "metadata": {},
   "outputs": [],
   "source": []
  },
  {
   "cell_type": "code",
   "execution_count": null,
   "id": "95b0a612",
   "metadata": {},
   "outputs": [],
   "source": [
    "#lambda <arguement>:<output>,<iterator>"
   ]
  },
  {
   "cell_type": "code",
   "execution_count": 6,
   "id": "819dbc08",
   "metadata": {},
   "outputs": [
    {
     "data": {
      "text/plain": [
       "['Hyd', 'Chennai', 'Mumbai']"
      ]
     },
     "execution_count": 6,
     "metadata": {},
     "output_type": "execute_result"
    }
   ],
   "source": [
    "list1=['hyd','chennai','mumbai']\n",
    "lambda i:i.capitalize(),list1\n",
    "map(lambda i:i.capitalize(),list1)\n",
    "list(map(lambda i:i.capitalize(),list1))"
   ]
  },
  {
   "cell_type": "code",
   "execution_count": 7,
   "id": "0d2ae3e5",
   "metadata": {},
   "outputs": [
    {
     "data": {
      "text/plain": [
       "[1, 4, 9, 16, 25]"
      ]
     },
     "execution_count": 7,
     "metadata": {},
     "output_type": "execute_result"
    }
   ],
   "source": [
    "l1=[1,2,3,4,5]\n",
    "l2=[]\n",
    "for i in l1:\n",
    "    l2.append(i*i)\n",
    "l2"
   ]
  },
  {
   "cell_type": "code",
   "execution_count": 11,
   "id": "91f30165",
   "metadata": {},
   "outputs": [
    {
     "data": {
      "text/plain": [
       "[1, 4, 9, 16, 25]"
      ]
     },
     "execution_count": 11,
     "metadata": {},
     "output_type": "execute_result"
    }
   ],
   "source": [
    "list(map(lambda i:i*i,l1))"
   ]
  },
  {
   "cell_type": "code",
   "execution_count": 13,
   "id": "a93d6640",
   "metadata": {},
   "outputs": [
    {
     "data": {
      "text/plain": [
       "[12, 24, 36]"
      ]
     },
     "execution_count": 13,
     "metadata": {},
     "output_type": "execute_result"
    }
   ],
   "source": [
    "list1=[1,2,3]\n",
    "list2=[11,22,33]\n",
    "l3=[]\n",
    "for i,j in zip(list1,list2):\n",
    "    l3.append(i+j)\n",
    "l3"
   ]
  },
  {
   "cell_type": "code",
   "execution_count": 19,
   "id": "afcb7ed0",
   "metadata": {},
   "outputs": [
    {
     "data": {
      "text/plain": [
       "[12, 24, 36]"
      ]
     },
     "execution_count": 19,
     "metadata": {},
     "output_type": "execute_result"
    }
   ],
   "source": [
    "list(map(lambda i,j:i+j,list1,list2))"
   ]
  },
  {
   "cell_type": "code",
   "execution_count": 23,
   "id": "5b7c10f0",
   "metadata": {},
   "outputs": [
    {
     "data": {
      "text/plain": [
       "['h#d', 'm#mbai']"
      ]
     },
     "execution_count": 23,
     "metadata": {},
     "output_type": "execute_result"
    }
   ],
   "source": [
    "l1=['h#d','m#mbai','chennai']\n",
    "\n",
    "[i for i in l1 if '#' in i]"
   ]
  },
  {
   "cell_type": "code",
   "execution_count": null,
   "id": "a300a60d",
   "metadata": {},
   "outputs": [],
   "source": [
    "#lambda <argument>:<conditon>,<iterator>"
   ]
  },
  {
   "cell_type": "code",
   "execution_count": 25,
   "id": "ea566cfe",
   "metadata": {},
   "outputs": [
    {
     "data": {
      "text/plain": [
       "[True, True, False]"
      ]
     },
     "execution_count": 25,
     "metadata": {},
     "output_type": "execute_result"
    }
   ],
   "source": [
    "l1=['h#d','m#mbai','chennai']\n",
    "list(map(lambda i: '#' in i ,l1))\n",
    "\n",
    "# condition mapping to list of items"
   ]
  },
  {
   "cell_type": "code",
   "execution_count": 26,
   "id": "ffed2b07",
   "metadata": {},
   "outputs": [
    {
     "data": {
      "text/plain": [
       "['h#d', 'm#mbai']"
      ]
     },
     "execution_count": 26,
     "metadata": {},
     "output_type": "execute_result"
    }
   ],
   "source": [
    "l1=['h#d','m#mbai','chennai']\n",
    "list(filter(lambda i: '#' in i ,l1))\n"
   ]
  },
  {
   "cell_type": "code",
   "execution_count": null,
   "id": "f4a50bab",
   "metadata": {},
   "outputs": [],
   "source": []
  },
  {
   "cell_type": "code",
   "execution_count": null,
   "id": "0dd6d0e1",
   "metadata": {},
   "outputs": [],
   "source": []
  },
  {
   "cell_type": "code",
   "execution_count": null,
   "id": "e76b9d9b",
   "metadata": {},
   "outputs": [],
   "source": []
  }
 ],
 "metadata": {
  "kernelspec": {
   "display_name": "Python 3 (ipykernel)",
   "language": "python",
   "name": "python3"
  },
  "language_info": {
   "codemirror_mode": {
    "name": "ipython",
    "version": 3
   },
   "file_extension": ".py",
   "mimetype": "text/x-python",
   "name": "python",
   "nbconvert_exporter": "python",
   "pygments_lexer": "ipython3",
   "version": "3.11.5"
  }
 },
 "nbformat": 4,
 "nbformat_minor": 5
}

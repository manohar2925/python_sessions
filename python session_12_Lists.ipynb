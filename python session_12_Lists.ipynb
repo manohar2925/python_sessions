{
 "cells": [
  {
   "cell_type": "code",
   "execution_count": 1,
   "id": "59e68466",
   "metadata": {},
   "outputs": [
    {
     "data": {
      "text/plain": [
       "[1, 2, 3, 4, 'a', 'b', 'c']"
      ]
     },
     "execution_count": 1,
     "metadata": {},
     "output_type": "execute_result"
    }
   ],
   "source": [
    "list1=[1,2,3,4,\"a\",\"b\",\"c\"]\n",
    "list1"
   ]
  },
  {
   "cell_type": "code",
   "execution_count": 2,
   "id": "a48ceb48",
   "metadata": {},
   "outputs": [
    {
     "data": {
      "text/plain": [
       "[1, 'apple', True]"
      ]
     },
     "execution_count": 2,
     "metadata": {},
     "output_type": "execute_result"
    }
   ],
   "source": [
    "list2=[1,\"apple\",True]\n",
    "list2"
   ]
  },
  {
   "cell_type": "code",
   "execution_count": 3,
   "id": "b2ae5c7c",
   "metadata": {},
   "outputs": [
    {
     "data": {
      "text/plain": [
       "['A', 'B', 'C', 'D']"
      ]
     },
     "execution_count": 3,
     "metadata": {},
     "output_type": "execute_result"
    }
   ],
   "source": [
    "list3=['A','B',\"C\",'D']\n",
    "list3"
   ]
  },
  {
   "cell_type": "code",
   "execution_count": 4,
   "id": "d101885f",
   "metadata": {},
   "outputs": [
    {
     "data": {
      "text/plain": [
       "[[1, 2, 3, 4]]"
      ]
     },
     "execution_count": 4,
     "metadata": {},
     "output_type": "execute_result"
    }
   ],
   "source": [
    "list4=[[1,2,3,4]]\n",
    "list4"
   ]
  },
  {
   "cell_type": "code",
   "execution_count": 5,
   "id": "907f8149",
   "metadata": {},
   "outputs": [
    {
     "data": {
      "text/plain": [
       "[1, 2, 3, 4]"
      ]
     },
     "execution_count": 5,
     "metadata": {},
     "output_type": "execute_result"
    }
   ],
   "source": [
    "list5=[1,2,3,4]\n",
    "list5"
   ]
  },
  {
   "cell_type": "markdown",
   "id": "a7128bf1",
   "metadata": {},
   "source": [
    "- list is an array of elements\n",
    "- list elements heterogenous(different) data types are allowed\n",
    "- duplicates are allowed\n",
    "- list in list also works"
   ]
  },
  {
   "cell_type": "markdown",
   "id": "655d1f67",
   "metadata": {},
   "source": [
    "list types"
   ]
  },
  {
   "cell_type": "code",
   "execution_count": 6,
   "id": "b4cd13c4",
   "metadata": {},
   "outputs": [
    {
     "data": {
      "text/plain": [
       "list"
      ]
     },
     "execution_count": 6,
     "metadata": {},
     "output_type": "execute_result"
    }
   ],
   "source": [
    "type(list1)"
   ]
  },
  {
   "cell_type": "markdown",
   "id": "52ef3a53",
   "metadata": {},
   "source": [
    "*max*"
   ]
  },
  {
   "cell_type": "code",
   "execution_count": 7,
   "id": "969c702a",
   "metadata": {},
   "outputs": [
    {
     "ename": "TypeError",
     "evalue": "'>' not supported between instances of 'str' and 'int'",
     "output_type": "error",
     "traceback": [
      "\u001b[1;31m---------------------------------------------------------------------------\u001b[0m",
      "\u001b[1;31mTypeError\u001b[0m                                 Traceback (most recent call last)",
      "Cell \u001b[1;32mIn[7], line 1\u001b[0m\n\u001b[1;32m----> 1\u001b[0m \u001b[38;5;28mmax\u001b[39m(list1)\n",
      "\u001b[1;31mTypeError\u001b[0m: '>' not supported between instances of 'str' and 'int'"
     ]
    }
   ],
   "source": [
    "max(list1)"
   ]
  },
  {
   "cell_type": "code",
   "execution_count": 10,
   "id": "046a34e0",
   "metadata": {},
   "outputs": [
    {
     "ename": "TypeError",
     "evalue": "'>' not supported between instances of 'str' and 'int'",
     "output_type": "error",
     "traceback": [
      "\u001b[1;31m---------------------------------------------------------------------------\u001b[0m",
      "\u001b[1;31mTypeError\u001b[0m                                 Traceback (most recent call last)",
      "\u001b[1;32m~\\AppData\\Local\\Temp\\ipykernel_2964\\1119603792.py\u001b[0m in \u001b[0;36m<module>\u001b[1;34m\u001b[0m\n\u001b[1;32m----> 1\u001b[1;33m \u001b[0mmax\u001b[0m\u001b[1;33m(\u001b[0m\u001b[0mlist2\u001b[0m\u001b[1;33m)\u001b[0m\u001b[1;33m\u001b[0m\u001b[1;33m\u001b[0m\u001b[0m\n\u001b[0m",
      "\u001b[1;31mTypeError\u001b[0m: '>' not supported between instances of 'str' and 'int'"
     ]
    }
   ],
   "source": [
    "max(list2)"
   ]
  },
  {
   "cell_type": "code",
   "execution_count": 11,
   "id": "d600d9ca",
   "metadata": {},
   "outputs": [
    {
     "data": {
      "text/plain": [
       "'D'"
      ]
     },
     "execution_count": 11,
     "metadata": {},
     "output_type": "execute_result"
    }
   ],
   "source": [
    "max(list3)"
   ]
  },
  {
   "cell_type": "code",
   "execution_count": 12,
   "id": "760abae4",
   "metadata": {},
   "outputs": [
    {
     "data": {
      "text/plain": [
       "[1, 2, 3, 4]"
      ]
     },
     "execution_count": 12,
     "metadata": {},
     "output_type": "execute_result"
    }
   ],
   "source": [
    "max(list4)"
   ]
  },
  {
   "cell_type": "code",
   "execution_count": 15,
   "id": "7081e785",
   "metadata": {},
   "outputs": [
    {
     "data": {
      "text/plain": [
       "4"
      ]
     },
     "execution_count": 15,
     "metadata": {},
     "output_type": "execute_result"
    }
   ],
   "source": [
    "max(list5)"
   ]
  },
  {
   "cell_type": "code",
   "execution_count": 17,
   "id": "00080864",
   "metadata": {},
   "outputs": [
    {
     "name": "stdout",
     "output_type": "stream",
     "text": [
      "7\n",
      "3\n",
      "4\n",
      "1\n",
      "4\n"
     ]
    }
   ],
   "source": [
    "print(len(list1))\n",
    "print(len(list2))\n",
    "print(len(list3))\n",
    "print(len(list4))\n",
    "print(len(list5))"
   ]
  },
  {
   "cell_type": "code",
   "execution_count": 24,
   "id": "931450e1",
   "metadata": {},
   "outputs": [
    {
     "ename": "TypeError",
     "evalue": "unsupported operand type(s) for +: 'int' and 'str'",
     "output_type": "error",
     "traceback": [
      "\u001b[1;31m---------------------------------------------------------------------------\u001b[0m",
      "\u001b[1;31mTypeError\u001b[0m                                 Traceback (most recent call last)",
      "\u001b[1;32m~\\AppData\\Local\\Temp\\ipykernel_2964\\1238871654.py\u001b[0m in \u001b[0;36m<module>\u001b[1;34m\u001b[0m\n\u001b[1;32m----> 1\u001b[1;33m \u001b[0mprint\u001b[0m\u001b[1;33m(\u001b[0m\u001b[0msum\u001b[0m\u001b[1;33m(\u001b[0m\u001b[0mlist1\u001b[0m\u001b[1;33m)\u001b[0m\u001b[1;33m)\u001b[0m\u001b[1;33m\u001b[0m\u001b[1;33m\u001b[0m\u001b[0m\n\u001b[0m\u001b[0;32m      2\u001b[0m \u001b[0mprint\u001b[0m\u001b[1;33m(\u001b[0m\u001b[0msum\u001b[0m\u001b[1;33m(\u001b[0m\u001b[0mlist2\u001b[0m\u001b[1;33m)\u001b[0m\u001b[1;33m)\u001b[0m\u001b[1;33m\u001b[0m\u001b[1;33m\u001b[0m\u001b[0m\n\u001b[0;32m      3\u001b[0m \u001b[0mprint\u001b[0m\u001b[1;33m(\u001b[0m\u001b[0msum\u001b[0m\u001b[1;33m(\u001b[0m\u001b[0mlist3\u001b[0m\u001b[1;33m)\u001b[0m\u001b[1;33m)\u001b[0m\u001b[1;33m\u001b[0m\u001b[1;33m\u001b[0m\u001b[0m\n\u001b[0;32m      4\u001b[0m \u001b[0mprint\u001b[0m\u001b[1;33m(\u001b[0m\u001b[0msum\u001b[0m\u001b[1;33m(\u001b[0m\u001b[0mlist4\u001b[0m\u001b[1;33m)\u001b[0m\u001b[1;33m)\u001b[0m\u001b[1;33m\u001b[0m\u001b[1;33m\u001b[0m\u001b[0m\n",
      "\u001b[1;31mTypeError\u001b[0m: unsupported operand type(s) for +: 'int' and 'str'"
     ]
    }
   ],
   "source": [
    "print(sum(list1))\n",
    "print(sum(list2))\n",
    "print(sum(list3))\n",
    "print(sum(list4))"
   ]
  },
  {
   "cell_type": "code",
   "execution_count": 23,
   "id": "be7bbf24",
   "metadata": {},
   "outputs": [
    {
     "name": "stdout",
     "output_type": "stream",
     "text": [
      "10\n"
     ]
    }
   ],
   "source": [
    "print(sum(list5))"
   ]
  },
  {
   "cell_type": "markdown",
   "id": "5a455fc1",
   "metadata": {},
   "source": [
    "$in$"
   ]
  },
  {
   "cell_type": "code",
   "execution_count": 27,
   "id": "c4fb553e",
   "metadata": {},
   "outputs": [
    {
     "data": {
      "text/plain": [
       "[1, 2, 3, 4]"
      ]
     },
     "execution_count": 27,
     "metadata": {},
     "output_type": "execute_result"
    }
   ],
   "source": [
    "list5=[1,2,3,4]\n",
    "list5"
   ]
  },
  {
   "cell_type": "code",
   "execution_count": 28,
   "id": "0aa96401",
   "metadata": {},
   "outputs": [
    {
     "data": {
      "text/plain": [
       "True"
      ]
     },
     "execution_count": 28,
     "metadata": {},
     "output_type": "execute_result"
    }
   ],
   "source": [
    "1 in list5\n",
    "2 in list5\n",
    "3 in list5\n",
    "4 in list5"
   ]
  },
  {
   "cell_type": "code",
   "execution_count": 29,
   "id": "563ba7ad",
   "metadata": {},
   "outputs": [
    {
     "name": "stdout",
     "output_type": "stream",
     "text": [
      "1\n",
      "2\n",
      "3\n",
      "4\n"
     ]
    }
   ],
   "source": [
    "for i in list5:\n",
    "    print(i)"
   ]
  },
  {
   "cell_type": "markdown",
   "id": "4d79cffe",
   "metadata": {},
   "source": [
    "$concatenation$"
   ]
  },
  {
   "cell_type": "code",
   "execution_count": 32,
   "id": "f6acc3cc",
   "metadata": {},
   "outputs": [
    {
     "data": {
      "text/plain": [
       "[1, 2, 3, 4]"
      ]
     },
     "execution_count": 32,
     "metadata": {},
     "output_type": "execute_result"
    }
   ],
   "source": [
    "list1=[1, 2, 3, 4]\n",
    "list1"
   ]
  },
  {
   "cell_type": "code",
   "execution_count": 34,
   "id": "f1b73570",
   "metadata": {},
   "outputs": [
    {
     "data": {
      "text/plain": [
       "['A', 'B', 'C', 'D']"
      ]
     },
     "execution_count": 34,
     "metadata": {},
     "output_type": "execute_result"
    }
   ],
   "source": [
    "list2=['A','B','C','D']\n",
    "list2"
   ]
  },
  {
   "cell_type": "code",
   "execution_count": 36,
   "id": "ef75e282",
   "metadata": {},
   "outputs": [
    {
     "name": "stdout",
     "output_type": "stream",
     "text": [
      "[1, 2, 3, 4, 'A', 'B', 'C', 'D']\n",
      "['A', 'B', 'C', 'D', 1, 2, 3, 4]\n"
     ]
    }
   ],
   "source": [
    "print(list1+list2)\n",
    "print(list2+list1)"
   ]
  },
  {
   "cell_type": "code",
   "execution_count": 38,
   "id": "2914b01d",
   "metadata": {},
   "outputs": [
    {
     "data": {
      "text/plain": [
       "[1, 2, 3, 4, 'A', 'B', 'C', 'D']"
      ]
     },
     "execution_count": 38,
     "metadata": {},
     "output_type": "execute_result"
    }
   ],
   "source": [
    "new_list=list1+list2\n",
    "new_list"
   ]
  },
  {
   "cell_type": "code",
   "execution_count": 39,
   "id": "16af8916",
   "metadata": {},
   "outputs": [
    {
     "data": {
      "text/plain": [
       "[1, 2, 3, 4, 1, 2, 3, 4, 1, 2, 3, 4]"
      ]
     },
     "execution_count": 39,
     "metadata": {},
     "output_type": "execute_result"
    }
   ],
   "source": [
    "list1*3"
   ]
  },
  {
   "cell_type": "code",
   "execution_count": 40,
   "id": "206a9b17",
   "metadata": {},
   "outputs": [
    {
     "ename": "TypeError",
     "evalue": "unsupported operand type(s) for -: 'list' and 'list'",
     "output_type": "error",
     "traceback": [
      "\u001b[1;31m---------------------------------------------------------------------------\u001b[0m",
      "\u001b[1;31mTypeError\u001b[0m                                 Traceback (most recent call last)",
      "\u001b[1;32m~\\AppData\\Local\\Temp\\ipykernel_2964\\3035482258.py\u001b[0m in \u001b[0;36m<module>\u001b[1;34m\u001b[0m\n\u001b[1;32m----> 1\u001b[1;33m \u001b[0mlist1\u001b[0m\u001b[1;33m-\u001b[0m\u001b[0mlist2\u001b[0m\u001b[1;33m\u001b[0m\u001b[1;33m\u001b[0m\u001b[0m\n\u001b[0m\u001b[0;32m      2\u001b[0m \u001b[0mlist1\u001b[0m\u001b[1;33m*\u001b[0m\u001b[0mlist2\u001b[0m\u001b[1;33m\u001b[0m\u001b[1;33m\u001b[0m\u001b[0m\n\u001b[0;32m      3\u001b[0m \u001b[0mlist1\u001b[0m\u001b[1;33m/\u001b[0m\u001b[0mlist2\u001b[0m\u001b[1;33m\u001b[0m\u001b[1;33m\u001b[0m\u001b[0m\n",
      "\u001b[1;31mTypeError\u001b[0m: unsupported operand type(s) for -: 'list' and 'list'"
     ]
    }
   ],
   "source": [
    "list1-list2  #fail\n",
    "list1*list2  #fail\n",
    "list1/list2  #fail"
   ]
  },
  {
   "cell_type": "markdown",
   "id": "17134f33",
   "metadata": {},
   "source": [
    "$index$"
   ]
  },
  {
   "cell_type": "code",
   "execution_count": 41,
   "id": "5c35d660",
   "metadata": {},
   "outputs": [
    {
     "data": {
      "text/plain": [
       "[1, 2, 3, 4, 'A', 'B', 'C', 'D']"
      ]
     },
     "execution_count": 41,
     "metadata": {},
     "output_type": "execute_result"
    }
   ],
   "source": [
    "list3=[1,2,3,4,'A','B','C','D']\n",
    "list3"
   ]
  },
  {
   "cell_type": "code",
   "execution_count": 43,
   "id": "37c6fdd6",
   "metadata": {},
   "outputs": [
    {
     "data": {
      "text/plain": [
       "(1, 2, 3, 4)"
      ]
     },
     "execution_count": 43,
     "metadata": {},
     "output_type": "execute_result"
    }
   ],
   "source": [
    "# python index starts with zero\n",
    "list3[0],list3[1],list3[2],list3[3]"
   ]
  },
  {
   "cell_type": "code",
   "execution_count": 44,
   "id": "04eeb9ec",
   "metadata": {},
   "outputs": [
    {
     "name": "stdout",
     "output_type": "stream",
     "text": [
      "0 1\n",
      "1 2\n",
      "2 3\n",
      "3 4\n",
      "4 A\n",
      "5 B\n",
      "6 C\n",
      "7 D\n"
     ]
    }
   ],
   "source": [
    "for i in range(len(list3)):\n",
    "    print(i,list3[i])"
   ]
  },
  {
   "cell_type": "code",
   "execution_count": 46,
   "id": "d700cb72",
   "metadata": {},
   "outputs": [
    {
     "data": {
      "text/plain": [
       "'D'"
      ]
     },
     "execution_count": 46,
     "metadata": {},
     "output_type": "execute_result"
    }
   ],
   "source": [
    "list3[-1]\n",
    "# -8 -7 -6 -5 -4 -3 -2 -1\n",
    "# 1   2  3  4  A  B  C  D\n",
    "# 0   1  2  3  4  5  6  7"
   ]
  },
  {
   "cell_type": "code",
   "execution_count": 79,
   "id": "e94686ad",
   "metadata": {},
   "outputs": [
    {
     "name": "stdout",
     "output_type": "stream",
     "text": [
      "positive is: 0 negitive is: -8 for an element 1\n",
      "positive is: 1 negitive is: -7 for an element 2\n",
      "positive is: 2 negitive is: -6 for an element 3\n",
      "positive is: 3 negitive is: -5 for an element 4\n",
      "positive is: 4 negitive is: -4 for an element A\n",
      "positive is: 5 negitive is: -3 for an element B\n",
      "positive is: 6 negitive is: -2 for an element C\n",
      "positive is: 7 negitive is: -1 for an element D\n"
     ]
    }
   ],
   "source": [
    "for i in range(len(list3)):\n",
    "    print('positive is: {} negitive is: {} for an element {}' .format(i,i-len(list3),list3[i]))"
   ]
  },
  {
   "cell_type": "code",
   "execution_count": 118,
   "id": "ccde90db",
   "metadata": {},
   "outputs": [
    {
     "name": "stdout",
     "output_type": "stream",
     "text": [
      "ab\n",
      "dc\n",
      "ef\n"
     ]
    }
   ],
   "source": [
    "list1=['apple','ball','cat','ab','dc','ef']\n",
    "for i in range(len(list1)):\n",
    "    if len(list1[i])<3:\n",
    "        print(list1[i])\n"
   ]
  },
  {
   "cell_type": "code",
   "execution_count": 58,
   "id": "d5f9d0e6",
   "metadata": {},
   "outputs": [
    {
     "name": "stdout",
     "output_type": "stream",
     "text": [
      "ab\n",
      "dc\n",
      "ef\n"
     ]
    }
   ],
   "source": [
    "for i in list1:\n",
    "    if len(i)<3:\n",
    "        print(i)"
   ]
  },
  {
   "cell_type": "code",
   "execution_count": 130,
   "id": "021fd492",
   "metadata": {},
   "outputs": [
    {
     "name": "stdout",
     "output_type": "stream",
     "text": [
      "app#e\n",
      "b#ll\n",
      "c#t\n",
      "ab\n",
      "dc\n",
      "ef\n"
     ]
    }
   ],
   "source": [
    "list2=['app#e','b#ll','c#t','ab','dc','ef']\n",
    "for i in range(len(list2)):\n",
    "    print(list2[i])"
   ]
  },
  {
   "cell_type": "code",
   "execution_count": 132,
   "id": "f707bac9",
   "metadata": {},
   "outputs": [
    {
     "name": "stdout",
     "output_type": "stream",
     "text": [
      "3\n"
     ]
    }
   ],
   "source": [
    "count=0\n",
    "for i in list2:\n",
    "    if '#' in i:\n",
    "        count+=1\n",
    "print(count)"
   ]
  },
  {
   "cell_type": "code",
   "execution_count": 125,
   "id": "9d03551a",
   "metadata": {},
   "outputs": [
    {
     "data": {
      "text/plain": [
       "'ball'"
      ]
     },
     "execution_count": 125,
     "metadata": {},
     "output_type": "execute_result"
    }
   ],
   "source": [
    "list1=[1,2,3,['apple','ball']]\n",
    "list1[3][1]"
   ]
  },
  {
   "cell_type": "code",
   "execution_count": 92,
   "id": "18bc148e",
   "metadata": {},
   "outputs": [
    {
     "data": {
      "text/plain": [
       "'cherry'"
      ]
     },
     "execution_count": 92,
     "metadata": {},
     "output_type": "execute_result"
    }
   ],
   "source": [
    "list2=[[[[[[['cherry']]]]]]]\n",
    "list2[0][0][0][0][0][0][0]"
   ]
  },
  {
   "cell_type": "code",
   "execution_count": 101,
   "id": "ce38b557",
   "metadata": {},
   "outputs": [
    {
     "data": {
      "text/plain": [
       "'car'"
      ]
     },
     "execution_count": 101,
     "metadata": {},
     "output_type": "execute_result"
    }
   ],
   "source": [
    "list3=[[[['a','b',[[[1,2,3,['car']]]]]]]]\n",
    "list3[0][0][0][2][0][0][3][0]"
   ]
  },
  {
   "cell_type": "markdown",
   "id": "9b39e6ae",
   "metadata": {},
   "source": [
    "$mutable$"
   ]
  },
  {
   "cell_type": "code",
   "execution_count": 104,
   "id": "81d7325c",
   "metadata": {},
   "outputs": [
    {
     "data": {
      "text/plain": [
       "['A', 100, 200]"
      ]
     },
     "execution_count": 104,
     "metadata": {},
     "output_type": "execute_result"
    }
   ],
   "source": [
    "list1=['welcome',100,200]\n",
    "list1[0]='A'\n",
    "list1"
   ]
  },
  {
   "cell_type": "markdown",
   "id": "c37b9b0f",
   "metadata": {},
   "source": [
    "$slice$"
   ]
  },
  {
   "cell_type": "code",
   "execution_count": 108,
   "id": "e9835eba",
   "metadata": {},
   "outputs": [
    {
     "name": "stdout",
     "output_type": "stream",
     "text": [
      "[30, 'p', 'h', 'a']\n",
      "[]\n",
      "[]\n",
      "[30]\n",
      "['c']\n",
      "[]\n",
      "['c', 'n', 't', 50]\n",
      "[]\n"
     ]
    }
   ],
   "source": [
    "list1=[10,20,30,40,50,'p','y','t','h','o','n','a','b','c','d']\n",
    "print(list1[2:14:3])  #p\n",
    "print(list1[2:14:-3]) #np\n",
    "print(list1[2:-14:3])  #np\n",
    "print(list1[2:-14:-3]) #p\n",
    "print(list1[-2:14:3])  #p\n",
    "print(list1[-2:-14:3]) #np\n",
    "print(list1[-2:-14:-3]) #p\n",
    "print(list1[-2:14:-3]) #np"
   ]
  },
  {
   "cell_type": "code",
   "execution_count": 115,
   "id": "ea54e496",
   "metadata": {},
   "outputs": [
    {
     "data": {
      "text/plain": [
       "['__add__',\n",
       " '__class__',\n",
       " '__class_getitem__',\n",
       " '__contains__',\n",
       " '__delattr__',\n",
       " '__delitem__',\n",
       " '__dir__',\n",
       " '__doc__',\n",
       " '__eq__',\n",
       " '__format__',\n",
       " '__ge__',\n",
       " '__getattribute__',\n",
       " '__getitem__',\n",
       " '__gt__',\n",
       " '__hash__',\n",
       " '__iadd__',\n",
       " '__imul__',\n",
       " '__init__',\n",
       " '__init_subclass__',\n",
       " '__iter__',\n",
       " '__le__',\n",
       " '__len__',\n",
       " '__lt__',\n",
       " '__mul__',\n",
       " '__ne__',\n",
       " '__new__',\n",
       " '__reduce__',\n",
       " '__reduce_ex__',\n",
       " '__repr__',\n",
       " '__reversed__',\n",
       " '__rmul__',\n",
       " '__setattr__',\n",
       " '__setitem__',\n",
       " '__sizeof__',\n",
       " '__str__',\n",
       " '__subclasshook__',\n",
       " 'append',\n",
       " 'clear',\n",
       " 'copy',\n",
       " 'count',\n",
       " 'extend',\n",
       " 'index',\n",
       " 'insert',\n",
       " 'pop',\n",
       " 'remove',\n",
       " 'reverse',\n",
       " 'sort']"
      ]
     },
     "execution_count": 115,
     "metadata": {},
     "output_type": "execute_result"
    }
   ],
   "source": [
    "dir([])"
   ]
  },
  {
   "cell_type": "markdown",
   "id": "022b5d88",
   "metadata": {},
   "source": [
    "$clear$-$copy$"
   ]
  },
  {
   "cell_type": "code",
   "execution_count": 110,
   "id": "9c71242e",
   "metadata": {},
   "outputs": [],
   "source": [
    "list1=[1,2,3,4] \n",
    "# i want copy these elements in a list2\n",
    "\n",
    "list2=list1.copy()"
   ]
  },
  {
   "cell_type": "code",
   "execution_count": 111,
   "id": "e356d5b0",
   "metadata": {},
   "outputs": [
    {
     "data": {
      "text/plain": [
       "[1, 2, 3, 4]"
      ]
     },
     "execution_count": 111,
     "metadata": {},
     "output_type": "execute_result"
    }
   ],
   "source": [
    "list2\n",
    "list1"
   ]
  },
  {
   "cell_type": "code",
   "execution_count": 112,
   "id": "b7779afa",
   "metadata": {},
   "outputs": [],
   "source": [
    "list1.clear()"
   ]
  },
  {
   "cell_type": "code",
   "execution_count": 113,
   "id": "beedfdda",
   "metadata": {},
   "outputs": [
    {
     "data": {
      "text/plain": [
       "[]"
      ]
     },
     "execution_count": 113,
     "metadata": {},
     "output_type": "execute_result"
    }
   ],
   "source": [
    "list1"
   ]
  },
  {
   "cell_type": "code",
   "execution_count": 114,
   "id": "5e5b11c7",
   "metadata": {},
   "outputs": [
    {
     "data": {
      "text/plain": [
       "[1, 2, 3, 4]"
      ]
     },
     "execution_count": 114,
     "metadata": {},
     "output_type": "execute_result"
    }
   ],
   "source": [
    "list2"
   ]
  },
  {
   "cell_type": "markdown",
   "id": "fb099642",
   "metadata": {},
   "source": [
    "$append$"
   ]
  },
  {
   "cell_type": "code",
   "execution_count": 2,
   "id": "a25e4782",
   "metadata": {},
   "outputs": [
    {
     "data": {
      "text/plain": [
       "[100, 300, 300]"
      ]
     },
     "execution_count": 2,
     "metadata": {},
     "output_type": "execute_result"
    }
   ],
   "source": [
    "# add something to the end of a written document.\n",
    "\n",
    "list1=[100,300]\n",
    "\n",
    "# [100,200,300]\n",
    "list1.append(300)\n",
    "list1"
   ]
  },
  {
   "cell_type": "code",
   "execution_count": 5,
   "id": "e6e2d28a",
   "metadata": {},
   "outputs": [
    {
     "data": {
      "text/plain": [
       "[100, 200, 300]"
      ]
     },
     "execution_count": 5,
     "metadata": {},
     "output_type": "execute_result"
    }
   ],
   "source": [
    "list1=[]\n",
    "\n",
    "\n",
    "list1.append(100)\n",
    "list1.append(200)\n",
    "list1.append(300)\n",
    "list1"
   ]
  },
  {
   "cell_type": "code",
   "execution_count": 7,
   "id": "c1df5c73",
   "metadata": {},
   "outputs": [
    {
     "data": {
      "text/plain": [
       "[100, 200, 300, [400, 500]]"
      ]
     },
     "execution_count": 7,
     "metadata": {},
     "output_type": "execute_result"
    }
   ],
   "source": [
    "list1.append([400,500])\n",
    "list1"
   ]
  },
  {
   "cell_type": "code",
   "execution_count": 9,
   "id": "a74efc1f",
   "metadata": {},
   "outputs": [
    {
     "data": {
      "text/plain": [
       "500"
      ]
     },
     "execution_count": 9,
     "metadata": {},
     "output_type": "execute_result"
    }
   ],
   "source": [
    "list1[3][1]"
   ]
  },
  {
   "cell_type": "code",
   "execution_count": 19,
   "id": "bf14eda0",
   "metadata": {},
   "outputs": [
    {
     "data": {
      "text/plain": [
       "[1, 2, 3, 4, 5, 'apple']"
      ]
     },
     "execution_count": 19,
     "metadata": {},
     "output_type": "execute_result"
    }
   ],
   "source": [
    "list1.append('apple')\n",
    "list1"
   ]
  },
  {
   "cell_type": "code",
   "execution_count": 38,
   "id": "4ff6ac16",
   "metadata": {},
   "outputs": [
    {
     "data": {
      "text/plain": [
       "[1, 4, 9, 16, 25]"
      ]
     },
     "execution_count": 38,
     "metadata": {},
     "output_type": "execute_result"
    }
   ],
   "source": [
    "list1=[1,2,3,4,5]\n",
    "output1=[]\n",
    "for i in list1:\n",
    "    output1.append(i*i)\n",
    "\n",
    "output1"
   ]
  },
  {
   "cell_type": "code",
   "execution_count": 28,
   "id": "5389fcd6",
   "metadata": {},
   "outputs": [
    {
     "data": {
      "text/plain": [
       "[1, 4, 9, 16, 25]"
      ]
     },
     "execution_count": 28,
     "metadata": {},
     "output_type": "execute_result"
    }
   ],
   "source": [
    "list1=[1,2,3,4,5]\n",
    "output1=[]\n",
    "for i in range(1,len(list1)+1):\n",
    "    output1.append(i*i)\n",
    "\n",
    "output1"
   ]
  },
  {
   "cell_type": "code",
   "execution_count": 53,
   "id": "e9a2382e",
   "metadata": {},
   "outputs": [
    {
     "data": {
      "text/plain": [
       "['Hyd', 'Bengaluru', 'Delhi']"
      ]
     },
     "execution_count": 53,
     "metadata": {},
     "output_type": "execute_result"
    }
   ],
   "source": [
    "import string\n",
    "list2=['hyd','bengaluru','delhi']\n",
    "output2=[]\n",
    "for i in list2:\n",
    "    cap=i.capitalize()\n",
    "    output2.append(cap)\n",
    "\n",
    "output2"
   ]
  },
  {
   "cell_type": "code",
   "execution_count": 60,
   "id": "dae383bd",
   "metadata": {},
   "outputs": [
    {
     "data": {
      "text/plain": [
       "['h#d', 'b#ngaluru']"
      ]
     },
     "execution_count": 60,
     "metadata": {},
     "output_type": "execute_result"
    }
   ],
   "source": [
    "list3=['h#d','b#ngaluru','delhi']\n",
    "output3=[]\n",
    "for i in list3:\n",
    "    if '#' in i:\n",
    "        output3.append(i)\n",
    "\n",
    "output3"
   ]
  },
  {
   "cell_type": "code",
   "execution_count": 62,
   "id": "887b35dd",
   "metadata": {},
   "outputs": [
    {
     "data": {
      "text/plain": [
       "['Hyd', 'Bengaluru', 'Delhi']"
      ]
     },
     "execution_count": 62,
     "metadata": {},
     "output_type": "execute_result"
    }
   ],
   "source": [
    "list2=['hyd','bengaluru','delhi']\n",
    "output2=[i.capitalize() for i in list2]\n",
    "\n",
    "output2"
   ]
  },
  {
   "cell_type": "code",
   "execution_count": 77,
   "id": "0d8270bc",
   "metadata": {},
   "outputs": [
    {
     "data": {
      "text/plain": [
       "[0, 1, 2, 3, 4, 5, 6, 7, 8, 9, 10, 11, 12, 13, 14, 15, 16, 17, 18, 19, 20]"
      ]
     },
     "execution_count": 77,
     "metadata": {},
     "output_type": "execute_result"
    }
   ],
   "source": [
    "# create the list of 20 numbers from 1 to 10\n",
    "\n",
    "# method-1\n",
    "list1=[]\n",
    "for i in range(21):\n",
    "    list1.append(i)\n",
    "list1\n",
    "\n",
    "# [<o/p> <forloop>]"
   ]
  },
  {
   "cell_type": "code",
   "execution_count": 70,
   "id": "4ecabec9",
   "metadata": {},
   "outputs": [
    {
     "data": {
      "text/plain": [
       "[0, 1, 2, 3, 4, 5, 6, 7, 8, 9, 10, 11, 12, 13, 14, 15, 16, 17, 18, 19, 20]"
      ]
     },
     "execution_count": 70,
     "metadata": {},
     "output_type": "execute_result"
    }
   ],
   "source": [
    "# method-2\n",
    "numbers=[i for i in range(21)]\n",
    "numbers"
   ]
  },
  {
   "cell_type": "code",
   "execution_count": null,
   "id": "79cdd6d2",
   "metadata": {},
   "outputs": [],
   "source": [
    "# list comprehenshion with if condition"
   ]
  },
  {
   "cell_type": "code",
   "execution_count": 76,
   "id": "c4c8bd7c",
   "metadata": {},
   "outputs": [
    {
     "data": {
      "text/plain": [
       "['h#d', 'b#ngaluru']"
      ]
     },
     "execution_count": 76,
     "metadata": {},
     "output_type": "execute_result"
    }
   ],
   "source": [
    "list3=['h#d','b#ngaluru','delhi']\n",
    "output3=[]\n",
    "for i in list3:\n",
    "    if '#' in i:\n",
    "        output3.append(i)\n",
    "\n",
    "output3\n",
    "\n",
    "#[<o/p> <forloop> <if_condition>]"
   ]
  },
  {
   "cell_type": "code",
   "execution_count": 74,
   "id": "925db704",
   "metadata": {},
   "outputs": [
    {
     "data": {
      "text/plain": [
       "['h#d', 'b#ngaluru']"
      ]
     },
     "execution_count": 74,
     "metadata": {},
     "output_type": "execute_result"
    }
   ],
   "source": [
    "list3=['h#d','b#ngaluru','delhi']\n",
    "output3=[i for i in list3 if '#' in i]\n",
    "output3"
   ]
  },
  {
   "cell_type": "code",
   "execution_count": 78,
   "id": "01951a77",
   "metadata": {},
   "outputs": [
    {
     "data": {
      "text/plain": [
       "['ac', 'a']"
      ]
     },
     "execution_count": 78,
     "metadata": {},
     "output_type": "execute_result"
    }
   ],
   "source": [
    "list4=['abcd','abc','ac','a']\n",
    "output4=[]\n",
    "for i in list4:\n",
    "    if len(i)<3:\n",
    "        output4.append(i)\n",
    "output4"
   ]
  },
  {
   "cell_type": "code",
   "execution_count": 79,
   "id": "b1a0c7ff",
   "metadata": {},
   "outputs": [
    {
     "data": {
      "text/plain": [
       "['ac', 'a']"
      ]
     },
     "execution_count": 79,
     "metadata": {},
     "output_type": "execute_result"
    }
   ],
   "source": [
    "output4=[i for i in list4 if len(i)<3]\n",
    "output4"
   ]
  },
  {
   "cell_type": "code",
   "execution_count": 82,
   "id": "916d652b",
   "metadata": {},
   "outputs": [
    {
     "data": {
      "text/plain": [
       "['odd:1', 'even:2', 'odd:3', 'even:4', 'odd:5', 'even:6']"
      ]
     },
     "execution_count": 82,
     "metadata": {},
     "output_type": "execute_result"
    }
   ],
   "source": [
    "# if else\n",
    "\n",
    "list1=[1,2,3,4,5,6]\n",
    "output=[]\n",
    "for i in list1:\n",
    "    if i%2==0:\n",
    "        output.append('even:{}'.format(i))\n",
    "    else:\n",
    "        output.append('odd:{}'.format(i))\n",
    "        \n",
    "output"
   ]
  },
  {
   "cell_type": "code",
   "execution_count": 84,
   "id": "b4717d3b",
   "metadata": {},
   "outputs": [
    {
     "data": {
      "text/plain": [
       "['odd:1', 'even:2', 'odd:3', 'even:4', 'odd:5', 'even:6']"
      ]
     },
     "execution_count": 84,
     "metadata": {},
     "output_type": "execute_result"
    }
   ],
   "source": [
    "list1=[1,2,3,4,5,6]\n",
    "\n",
    "output=['even:{}'.format(i) if i%2==0 else 'odd:{}'.format(i) for i in list1 ]\n",
    "output"
   ]
  },
  {
   "cell_type": "code",
   "execution_count": null,
   "id": "49680ced",
   "metadata": {},
   "outputs": [],
   "source": [
    "## [<if_output> <if_condition> else <else_output> <for_loop>]"
   ]
  },
  {
   "cell_type": "markdown",
   "id": "10eed760",
   "metadata": {},
   "source": [
    "$count$"
   ]
  },
  {
   "cell_type": "code",
   "execution_count": 86,
   "id": "19e53617",
   "metadata": {},
   "outputs": [
    {
     "data": {
      "text/plain": [
       "3"
      ]
     },
     "execution_count": 86,
     "metadata": {},
     "output_type": "execute_result"
    }
   ],
   "source": [
    "list1=[1,2,3,'A','B','C','D','B',\"D\",'B']\n",
    "list1.count('B')"
   ]
  },
  {
   "cell_type": "code",
   "execution_count": 87,
   "id": "79a02612",
   "metadata": {},
   "outputs": [
    {
     "name": "stdout",
     "output_type": "stream",
     "text": [
      "3\n"
     ]
    }
   ],
   "source": [
    "count=0\n",
    "for i in list1:\n",
    "    if i == \"B\":\n",
    "        count+=1\n",
    "print(count)"
   ]
  },
  {
   "cell_type": "markdown",
   "id": "e79d3e6d",
   "metadata": {},
   "source": [
    "$Extend$"
   ]
  },
  {
   "cell_type": "code",
   "execution_count": 91,
   "id": "f9ebfd9e",
   "metadata": {},
   "outputs": [
    {
     "data": {
      "text/plain": [
       "['A', 'B', 'C', 1, 2, 3]"
      ]
     },
     "execution_count": 91,
     "metadata": {},
     "output_type": "execute_result"
    }
   ],
   "source": [
    "list1=['A','B','C']\n",
    "list2=[1,2,3]\n",
    "\n",
    "list1.extend(list2)  # list1 is automatically updated list2 values\n",
    "list1"
   ]
  },
  {
   "cell_type": "code",
   "execution_count": 92,
   "id": "af03e358",
   "metadata": {},
   "outputs": [
    {
     "data": {
      "text/plain": [
       "['A', 'B', 'C', 1, 2, 3]"
      ]
     },
     "execution_count": 92,
     "metadata": {},
     "output_type": "execute_result"
    }
   ],
   "source": [
    "list1=['A','B','C']\n",
    "list2=[1,2,3]\n",
    "\n",
    "list1=list1+list2\n",
    "list1"
   ]
  },
  {
   "cell_type": "code",
   "execution_count": 93,
   "id": "ff50a676",
   "metadata": {},
   "outputs": [
    {
     "data": {
      "text/plain": [
       "['A', 'B', 'C', [1, 2, 3]]"
      ]
     },
     "execution_count": 93,
     "metadata": {},
     "output_type": "execute_result"
    }
   ],
   "source": [
    "list1=['A','B','C']\n",
    "list2=[1,2,3]\n",
    "\n",
    "list1.append(list2)\n",
    "list1"
   ]
  },
  {
   "cell_type": "markdown",
   "id": "828d60e4",
   "metadata": {},
   "source": [
    "*append vs extend vs concat*"
   ]
  },
  {
   "cell_type": "markdown",
   "id": "48bb88d5",
   "metadata": {},
   "source": [
    "- append will add the element at last , that element can be any type\n",
    "\n",
    "        - list1=[1,2,3]\n",
    "        - list2=['A','B']\n",
    "        - list1.append(list2)=[1,2,3,['A','B']]\n",
    "        \n",
    "- extend will update the list by adding new elements, the results also save in the same list\n",
    "\n",
    "        - list1=[1,2,3]\n",
    "        - list2=['A','B']\n",
    "        - list1.extend(list2)=[1,2,3,'A','B']\n",
    "        \n",
    "- concat will add two list, but the result will not update in a list\n",
    "\n",
    "        - list1=[1,2,3]\n",
    "        - list2=['A','B']\n",
    "        - list1+list2=[1,2,3,'A','B']"
   ]
  },
  {
   "cell_type": "markdown",
   "id": "6ae999bd",
   "metadata": {},
   "source": [
    "$iterator$"
   ]
  },
  {
   "cell_type": "markdown",
   "id": "236b6f3b",
   "metadata": {},
   "source": [
    "- iterator word =====> loop\n",
    "- the elements we can print using the loop\n",
    "- string='python' we can print each letter using for loop\n",
    "- list1=[1,2,3] we can print each element using for loop"
   ]
  },
  {
   "cell_type": "code",
   "execution_count": 95,
   "id": "ac8249d3",
   "metadata": {},
   "outputs": [
    {
     "data": {
      "text/plain": [
       "<reversed at 0x1a158ec0790>"
      ]
     },
     "execution_count": 95,
     "metadata": {},
     "output_type": "execute_result"
    }
   ],
   "source": [
    "val=reversed('python')\n",
    "val"
   ]
  },
  {
   "cell_type": "code",
   "execution_count": 97,
   "id": "9fbfcb00",
   "metadata": {},
   "outputs": [],
   "source": [
    "for i in val:\n",
    "    print(i)"
   ]
  },
  {
   "cell_type": "code",
   "execution_count": 107,
   "id": "5f9cdff0",
   "metadata": {},
   "outputs": [
    {
     "data": {
      "text/plain": [
       "[1, 2, 3, 4, 'p', 'y', 't', 'h', 'o', 'n', 'python']"
      ]
     },
     "execution_count": 107,
     "metadata": {},
     "output_type": "execute_result"
    }
   ],
   "source": [
    "list1=[1,2,3,4]\n",
    "list1.extend('python')\n",
    "list1.append('python')\n",
    "list1"
   ]
  },
  {
   "cell_type": "code",
   "execution_count": null,
   "id": "5d16cec8",
   "metadata": {},
   "outputs": [],
   "source": []
  },
  {
   "cell_type": "markdown",
   "id": "fd3dc4a7",
   "metadata": {},
   "source": [
    "$pop$-$remove$-$del$"
   ]
  },
  {
   "cell_type": "code",
   "execution_count": 103,
   "id": "cd1b51ae",
   "metadata": {},
   "outputs": [],
   "source": [
    "list1.extend('python')"
   ]
  },
  {
   "cell_type": "code",
   "execution_count": 108,
   "id": "05e2be12",
   "metadata": {},
   "outputs": [
    {
     "data": {
      "text/plain": [
       "[1, 2, 3, 4, 'p', 'y', 't', 'h', 'o', 'n', 'python']"
      ]
     },
     "execution_count": 108,
     "metadata": {},
     "output_type": "execute_result"
    }
   ],
   "source": [
    "list1"
   ]
  },
  {
   "cell_type": "code",
   "execution_count": 109,
   "id": "bd8015f8",
   "metadata": {},
   "outputs": [
    {
     "data": {
      "text/plain": [
       "'python'"
      ]
     },
     "execution_count": 109,
     "metadata": {},
     "output_type": "execute_result"
    }
   ],
   "source": [
    "list1.pop()\n",
    "\n",
    "# inside the bracket default argument is there index=-1\n",
    "# -1 means last value\n",
    "# if you not provide any value\n",
    "# it will remove last value\n",
    "# if i provide any index, it will remove that element\n",
    "# it is also returing, which ekement is removed"
   ]
  },
  {
   "cell_type": "code",
   "execution_count": 110,
   "id": "2690cd58",
   "metadata": {},
   "outputs": [
    {
     "ename": "IndexError",
     "evalue": "pop index out of range",
     "output_type": "error",
     "traceback": [
      "\u001b[1;31m---------------------------------------------------------------------------\u001b[0m",
      "\u001b[1;31mIndexError\u001b[0m                                Traceback (most recent call last)",
      "\u001b[1;32m~\\AppData\\Local\\Temp\\ipykernel_16780\\2493946212.py\u001b[0m in \u001b[0;36m<module>\u001b[1;34m\u001b[0m\n\u001b[1;32m----> 1\u001b[1;33m \u001b[0mlist1\u001b[0m\u001b[1;33m.\u001b[0m\u001b[0mpop\u001b[0m\u001b[1;33m(\u001b[0m\u001b[1;36m100\u001b[0m\u001b[1;33m)\u001b[0m\u001b[1;33m\u001b[0m\u001b[1;33m\u001b[0m\u001b[0m\n\u001b[0m",
      "\u001b[1;31mIndexError\u001b[0m: pop index out of range"
     ]
    }
   ],
   "source": [
    "list1.pop(100)"
   ]
  },
  {
   "cell_type": "code",
   "execution_count": 113,
   "id": "0566abcc",
   "metadata": {},
   "outputs": [
    {
     "data": {
      "text/plain": [
       "[200, 300, 100, 400]"
      ]
     },
     "execution_count": 113,
     "metadata": {},
     "output_type": "execute_result"
    }
   ],
   "source": [
    "list1=[100,200,300,100,400]  # duplictes are allowed\n",
    "list1.remove(100)            # first occurance will gone\n",
    "list1                        # it will not return value"
   ]
  },
  {
   "cell_type": "code",
   "execution_count": 114,
   "id": "e6d8e0ec",
   "metadata": {},
   "outputs": [],
   "source": [
    "del(list1)"
   ]
  },
  {
   "cell_type": "code",
   "execution_count": 115,
   "id": "bfdabeb9",
   "metadata": {},
   "outputs": [
    {
     "ename": "NameError",
     "evalue": "name 'list1' is not defined",
     "output_type": "error",
     "traceback": [
      "\u001b[1;31m---------------------------------------------------------------------------\u001b[0m",
      "\u001b[1;31mNameError\u001b[0m                                 Traceback (most recent call last)",
      "\u001b[1;32m~\\AppData\\Local\\Temp\\ipykernel_16780\\866546473.py\u001b[0m in \u001b[0;36m<module>\u001b[1;34m\u001b[0m\n\u001b[1;32m----> 1\u001b[1;33m \u001b[0mlist1\u001b[0m\u001b[1;33m\u001b[0m\u001b[1;33m\u001b[0m\u001b[0m\n\u001b[0m",
      "\u001b[1;31mNameError\u001b[0m: name 'list1' is not defined"
     ]
    }
   ],
   "source": [
    "list1"
   ]
  },
  {
   "cell_type": "code",
   "execution_count": 123,
   "id": "47d3aa05",
   "metadata": {},
   "outputs": [
    {
     "data": {
      "text/plain": [
       "[100, 200, 300, 100, 400]"
      ]
     },
     "execution_count": 123,
     "metadata": {},
     "output_type": "execute_result"
    }
   ],
   "source": [
    "list1=[100,200,300,100,400]\n",
    "list1 "
   ]
  },
  {
   "cell_type": "code",
   "execution_count": 126,
   "id": "6c6afed1",
   "metadata": {},
   "outputs": [],
   "source": [
    "del list1[2]"
   ]
  },
  {
   "cell_type": "code",
   "execution_count": 127,
   "id": "5f16b339",
   "metadata": {},
   "outputs": [
    {
     "data": {
      "text/plain": [
       "[100, 200, 400]"
      ]
     },
     "execution_count": 127,
     "metadata": {},
     "output_type": "execute_result"
    }
   ],
   "source": [
    "list1"
   ]
  },
  {
   "cell_type": "markdown",
   "id": "60419f32",
   "metadata": {},
   "source": [
    "- index\n",
    "- insert\n",
    "- reverse ======= reversed\n",
    "- sort ========== sorted"
   ]
  },
  {
   "cell_type": "markdown",
   "id": "d2fe763e",
   "metadata": {},
   "source": [
    "$index$"
   ]
  },
  {
   "cell_type": "code",
   "execution_count": 137,
   "id": "ac8b6804",
   "metadata": {},
   "outputs": [
    {
     "name": "stdout",
     "output_type": "stream",
     "text": [
      "index: 6\n"
     ]
    }
   ],
   "source": [
    "list1=[1,2,3,4,5,6,7,8]\n",
    "x=list1.index(7)\n",
    "print('index:',x)\n",
    "\n",
    "# The index() method only returns the first occurrence of the value"
   ]
  },
  {
   "cell_type": "markdown",
   "id": "237b795c",
   "metadata": {},
   "source": [
    "$insert$"
   ]
  },
  {
   "cell_type": "code",
   "execution_count": 153,
   "id": "0d1653d3",
   "metadata": {},
   "outputs": [
    {
     "data": {
      "text/plain": [
       "[1, 2, 3, 4, 'p', 'y', 't', 'h', 'o', 'n', 'python']"
      ]
     },
     "execution_count": 153,
     "metadata": {},
     "output_type": "execute_result"
    }
   ],
   "source": [
    "list1=[1, 2, 3, 4, 'p', 'y', 't', 'h', 'o', 'n', 'python']\n",
    "list1"
   ]
  },
  {
   "cell_type": "code",
   "execution_count": 156,
   "id": "07992d4f",
   "metadata": {},
   "outputs": [],
   "source": [
    "list1.insert(4,'hai')"
   ]
  },
  {
   "cell_type": "code",
   "execution_count": 157,
   "id": "e15fe6ba",
   "metadata": {},
   "outputs": [
    {
     "data": {
      "text/plain": [
       "[1, 2, 3, 4, 'hai', 'p', 'y', 't', 'h', 'o', 'n', 'python']"
      ]
     },
     "execution_count": 157,
     "metadata": {},
     "output_type": "execute_result"
    }
   ],
   "source": [
    "list1"
   ]
  },
  {
   "cell_type": "markdown",
   "id": "f78bd355",
   "metadata": {},
   "source": [
    "$reverse$"
   ]
  },
  {
   "cell_type": "code",
   "execution_count": 158,
   "id": "50675862",
   "metadata": {},
   "outputs": [
    {
     "data": {
      "text/plain": [
       "[1, 2, 3, 4, 'p', 'y', 't', 'h', 'o', 'n', 'python']"
      ]
     },
     "execution_count": 158,
     "metadata": {},
     "output_type": "execute_result"
    }
   ],
   "source": [
    "list1=[1, 2, 3, 4, 'p', 'y', 't', 'h', 'o', 'n', 'python']\n",
    "list1"
   ]
  },
  {
   "cell_type": "code",
   "execution_count": 159,
   "id": "c44fd553",
   "metadata": {},
   "outputs": [
    {
     "data": {
      "text/plain": [
       "['python', 'n', 'o', 'h', 't', 'y', 'p', 4, 3, 2, 1]"
      ]
     },
     "execution_count": 159,
     "metadata": {},
     "output_type": "execute_result"
    }
   ],
   "source": [
    "list1.reverse()\n",
    "list1"
   ]
  },
  {
   "cell_type": "markdown",
   "id": "4373cf6d",
   "metadata": {},
   "source": [
    "$sort$"
   ]
  },
  {
   "cell_type": "code",
   "execution_count": 160,
   "id": "d90390ed",
   "metadata": {},
   "outputs": [
    {
     "data": {
      "text/plain": [
       "[1, 2, 3, 4, 'p', 'y', 't', 'h', 'o', 'n', 'python']"
      ]
     },
     "execution_count": 160,
     "metadata": {},
     "output_type": "execute_result"
    }
   ],
   "source": [
    "list1=[1, 2, 3, 4, 'p', 'y', 't', 'h', 'o', 'n', 'python']\n",
    "list1"
   ]
  },
  {
   "cell_type": "code",
   "execution_count": 161,
   "id": "12eb6560",
   "metadata": {},
   "outputs": [
    {
     "ename": "TypeError",
     "evalue": "'<' not supported between instances of 'str' and 'int'",
     "output_type": "error",
     "traceback": [
      "\u001b[1;31m---------------------------------------------------------------------------\u001b[0m",
      "\u001b[1;31mTypeError\u001b[0m                                 Traceback (most recent call last)",
      "\u001b[1;32m~\\AppData\\Local\\Temp\\ipykernel_16780\\3465620299.py\u001b[0m in \u001b[0;36m<module>\u001b[1;34m\u001b[0m\n\u001b[1;32m----> 1\u001b[1;33m \u001b[0mlist1\u001b[0m\u001b[1;33m.\u001b[0m\u001b[0msort\u001b[0m\u001b[1;33m(\u001b[0m\u001b[1;33m)\u001b[0m\u001b[1;33m\u001b[0m\u001b[1;33m\u001b[0m\u001b[0m\n\u001b[0m\u001b[0;32m      2\u001b[0m \u001b[0mlist1\u001b[0m\u001b[1;33m\u001b[0m\u001b[1;33m\u001b[0m\u001b[0m\n",
      "\u001b[1;31mTypeError\u001b[0m: '<' not supported between instances of 'str' and 'int'"
     ]
    }
   ],
   "source": [
    "list1.sort()\n",
    "list1  # TypeError: '<' not supported between instances of 'str' and 'int'"
   ]
  },
  {
   "cell_type": "code",
   "execution_count": 162,
   "id": "4ff3bb46",
   "metadata": {},
   "outputs": [
    {
     "data": {
      "text/plain": [
       "['h', 'n', 'o', 'p', 'python', 't', 'y']"
      ]
     },
     "execution_count": 162,
     "metadata": {},
     "output_type": "execute_result"
    }
   ],
   "source": [
    "list1=['p', 'y', 't', 'h', 'o', 'n', 'python']\n",
    "list1.sort()\n",
    "list1"
   ]
  },
  {
   "cell_type": "code",
   "execution_count": 2,
   "id": "2c3ccf4f",
   "metadata": {},
   "outputs": [
    {
     "data": {
      "text/plain": [
       "[0, 2, 3, 4, 7, 8, 8, 9]"
      ]
     },
     "execution_count": 2,
     "metadata": {},
     "output_type": "execute_result"
    }
   ],
   "source": [
    "# ascending order\n",
    "list1=[8,4,8,3,2,7,9,0]\n",
    "list1.sort()\n",
    "list1"
   ]
  },
  {
   "cell_type": "code",
   "execution_count": 5,
   "id": "d9b21ebd",
   "metadata": {},
   "outputs": [
    {
     "name": "stdout",
     "output_type": "stream",
     "text": [
      "[4, 3, 2, 1]\n"
     ]
    }
   ],
   "source": [
    "# descending order\n",
    "numbers = [1, 3, 4, 2]\n",
    "numbers.sort(reverse=True)\n",
    "\n",
    "print(numbers)"
   ]
  },
  {
   "cell_type": "markdown",
   "id": "ca3be2be",
   "metadata": {},
   "source": [
    "$zip$"
   ]
  },
  {
   "cell_type": "code",
   "execution_count": 166,
   "id": "4a290444",
   "metadata": {},
   "outputs": [
    {
     "name": "stdout",
     "output_type": "stream",
     "text": [
      "ram age is 25\n",
      "robert age is 30\n",
      "raheem age is 35\n"
     ]
    }
   ],
   "source": [
    "list1=['ram','robert','raheem']\n",
    "list2=[25,30,35]\n",
    "\n",
    "for i,j in zip(list1,list2):\n",
    "    print('{} age is {}'.format(i,j))\n",
    "    "
   ]
  },
  {
   "cell_type": "code",
   "execution_count": 177,
   "id": "3fad9cd8",
   "metadata": {},
   "outputs": [
    {
     "data": {
      "text/plain": [
       "[125, 230, 335]"
      ]
     },
     "execution_count": 177,
     "metadata": {},
     "output_type": "execute_result"
    }
   ],
   "source": [
    "list1=[100,200,300]\n",
    "list2=[25,30,35]\n",
    "\n",
    "#output=['{} + {} : {}'.format(i,j,i+j) for i,j in zip(list1,list2)]\n",
    "output=[i+j for i,j in zip(list1,list2)]\n",
    "output"
   ]
  },
  {
   "cell_type": "code",
   "execution_count": 1,
   "id": "53932cdf",
   "metadata": {},
   "outputs": [],
   "source": [
    "# take 3 ques in list1\n",
    "# take correspoding 3 answers in another list2\n",
    "# iterate through list1\n",
    "# every ques should print\n",
    "# answer =input('tell the answer')\n",
    "# answer will check in list2\n",
    "# if it is there: marks=marks+1\n",
    "# else: no marks\n",
    "\n",
    "# how many write answers you made, how may answers you got\n",
    "\n",
    "############################################################\n",
    "\n",
    "# list1=['who is PM of india','what is the capital of india','who is the president of india']\n",
    "# list2=['modi','delhi','Draupadi']\n",
    "# marks=0\n",
    "# correct_answer=0\n",
    "# for i in range(len(list1)):\n",
    "#    print('q1',<>)\n",
    "#    answer=input(\"enter the number:\")\n",
    "#    if answer.lower()==list2.index(i):\n",
    "#        marks+=1"
   ]
  },
  {
   "cell_type": "code",
   "execution_count": 49,
   "id": "92cd2e2e",
   "metadata": {},
   "outputs": [
    {
     "name": "stdout",
     "output_type": "stream",
     "text": [
      "Q1: who is PM of india ?\n",
      "Enter your answer:modi\n",
      "Q2: what is the capital of india ?\n",
      "Enter your answer:delhi\n",
      "Q3: who is the president of india ?\n",
      "Enter your answer:fawhw\n",
      "Your correct answers = 2 and marks = 2\n"
     ]
    }
   ],
   "source": [
    "list1=['who is PM of india','what is the capital of india','who is the president of india']\n",
    "list2=['modi','delhi','draupadi']\n",
    "marks=0\n",
    "correct_answer=0\n",
    "for i in range(len(list1)):\n",
    "    print('Q{}: {} ?'.format(i+1,list1[i]))\n",
    "    \n",
    "    answer=input('Enter your answer:')\n",
    "    if answer.lower() == list2[i]:\n",
    "        marks+=1\n",
    "        correct_answer+=1\n",
    "        \n",
    "print(\"Your correct answers = {} and marks = {}\".format(correct_answer,marks))"
   ]
  },
  {
   "cell_type": "code",
   "execution_count": 47,
   "id": "558141de",
   "metadata": {},
   "outputs": [
    {
     "data": {
      "text/plain": [
       "str"
      ]
     },
     "execution_count": 47,
     "metadata": {},
     "output_type": "execute_result"
    }
   ],
   "source": [
    "type(answer)"
   ]
  },
  {
   "cell_type": "code",
   "execution_count": 36,
   "id": "ccfccc17",
   "metadata": {},
   "outputs": [
    {
     "data": {
      "text/plain": [
       "['Formatter',\n",
       " 'Template',\n",
       " '_ChainMap',\n",
       " '__all__',\n",
       " '__builtins__',\n",
       " '__cached__',\n",
       " '__doc__',\n",
       " '__file__',\n",
       " '__loader__',\n",
       " '__name__',\n",
       " '__package__',\n",
       " '__spec__',\n",
       " '_re',\n",
       " '_sentinel_dict',\n",
       " '_string',\n",
       " 'ascii_letters',\n",
       " 'ascii_lowercase',\n",
       " 'ascii_uppercase',\n",
       " 'capwords',\n",
       " 'digits',\n",
       " 'hexdigits',\n",
       " 'octdigits',\n",
       " 'printable',\n",
       " 'punctuation',\n",
       " 'whitespace']"
      ]
     },
     "execution_count": 36,
     "metadata": {},
     "output_type": "execute_result"
    }
   ],
   "source": [
    "import string\n",
    "dir(string)"
   ]
  },
  {
   "cell_type": "code",
   "execution_count": 26,
   "id": "176dd3bd",
   "metadata": {},
   "outputs": [
    {
     "name": "stdout",
     "output_type": "stream",
     "text": [
      "350\n"
     ]
    }
   ],
   "source": [
    "#list1 = [100,200,300]\n",
    "list1 = [200,350,150,65,2]\n",
    "x=0\n",
    "for i in list1:\n",
    "    if i>x:\n",
    "        x=i\n",
    "print(x)"
   ]
  },
  {
   "cell_type": "code",
   "execution_count": null,
   "id": "5cd10cb0",
   "metadata": {},
   "outputs": [],
   "source": [
    "list2=[20,30,50,60,100,90,70,50,30]"
   ]
  }
 ],
 "metadata": {
  "kernelspec": {
   "display_name": "Python 3 (ipykernel)",
   "language": "python",
   "name": "python3"
  },
  "language_info": {
   "codemirror_mode": {
    "name": "ipython",
    "version": 3
   },
   "file_extension": ".py",
   "mimetype": "text/x-python",
   "name": "python",
   "nbconvert_exporter": "python",
   "pygments_lexer": "ipython3",
   "version": "3.11.5"
  }
 },
 "nbformat": 4,
 "nbformat_minor": 5
}

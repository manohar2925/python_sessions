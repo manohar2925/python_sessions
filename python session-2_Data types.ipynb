{
 "cells": [
  {
   "cell_type": "markdown",
   "id": "d4289ac7",
   "metadata": {},
   "source": [
    "### data types\n",
    "- integer\n",
    "    - int\n",
    "- float\n",
    "    - float\n",
    "- strings\n",
    "   - str\n",
    "- boolean\n",
    "   - bool\n",
    "- complex conjugate\n",
    "    - complex"
   ]
  },
  {
   "cell_type": "markdown",
   "id": "16e74427",
   "metadata": {},
   "source": [
    "integer"
   ]
  },
  {
   "cell_type": "code",
   "execution_count": 1,
   "id": "b4169be5",
   "metadata": {},
   "outputs": [
    {
     "data": {
      "text/plain": [
       "100"
      ]
     },
     "execution_count": 1,
     "metadata": {},
     "output_type": "execute_result"
    }
   ],
   "source": [
    "number=100\n",
    "number"
   ]
  },
  {
   "cell_type": "code",
   "execution_count": 2,
   "id": "54a4b951",
   "metadata": {},
   "outputs": [
    {
     "data": {
      "text/plain": [
       "int"
      ]
     },
     "execution_count": 2,
     "metadata": {},
     "output_type": "execute_result"
    }
   ],
   "source": [
    "#type of the variable : type\n",
    "type(number)"
   ]
  },
  {
   "cell_type": "markdown",
   "id": "a979b427",
   "metadata": {},
   "source": [
    "# in maths we have different number system\n",
    "- decimal\n",
    "- binary \n",
    "- octal \n",
    "- hexa"
   ]
  },
  {
   "cell_type": "markdown",
   "id": "8c237b9e",
   "metadata": {},
   "source": [
    "**binary**\n",
    "- Bi means 2\n",
    "\n",
    "- so the base is also 2\n",
    "\n",
    "- 0 1 2 3 4 5 6 7 8 9 \n",
    "\n",
    "- here we will use only two digits: 0 and 1\n",
    "\n",
    "- representation is : 0b<combinations of 0 and 1>\n",
    "\n",
    "- 0b110 , 0B011101\n",
    "\n",
    "- power: 2"
   ]
  },
  {
   "cell_type": "code",
   "execution_count": 6,
   "id": "e9193071",
   "metadata": {},
   "outputs": [
    {
     "data": {
      "text/plain": [
       "7"
      ]
     },
     "execution_count": 6,
     "metadata": {},
     "output_type": "execute_result"
    }
   ],
   "source": [
    "0b111\n",
    "# python output wil come as decimal format only"
   ]
  },
  {
   "cell_type": "code",
   "execution_count": 7,
   "id": "39eda6e7",
   "metadata": {},
   "outputs": [
    {
     "data": {
      "text/plain": [
       "5"
      ]
     },
     "execution_count": 7,
     "metadata": {},
     "output_type": "execute_result"
    }
   ],
   "source": [
    "0b101"
   ]
  },
  {
   "cell_type": "code",
   "execution_count": 8,
   "id": "3f1485d3",
   "metadata": {},
   "outputs": [
    {
     "data": {
      "text/plain": [
       "15"
      ]
     },
     "execution_count": 8,
     "metadata": {},
     "output_type": "execute_result"
    }
   ],
   "source": [
    "0b1111"
   ]
  },
  {
   "cell_type": "code",
   "execution_count": null,
   "id": "89817602",
   "metadata": {},
   "outputs": [],
   "source": [
    "# 3 digits = 4 2 1\n",
    "# 4 digits = 8 4 2 1\n",
    "# 5 digits = 16 8 4 2 1\n",
    "\n",
    "4   2   1\n",
    "0   0   0\n",
    "0   0   1\n",
    "0   1   0\n",
    "0   1   1\n",
    "1   0   0\n",
    "1   0   1\n",
    "1   1   0\n",
    "1   1   1\n",
    "\n",
    "4 = 4 times 0 and 4 times 1 will come\n",
    "2 = 2 times 0 and 2 times 1\n",
    "1 = 1 times 0 and 1 time  1\n",
    "\n",
    "off=0\n",
    "on =1\n"
   ]
  },
  {
   "cell_type": "code",
   "execution_count": 15,
   "id": "1ce159f4",
   "metadata": {},
   "outputs": [
    {
     "data": {
      "text/plain": [
       "2"
      ]
     },
     "execution_count": 15,
     "metadata": {},
     "output_type": "execute_result"
    }
   ],
   "source": [
    "0b010"
   ]
  },
  {
   "cell_type": "code",
   "execution_count": null,
   "id": "47e83509",
   "metadata": {},
   "outputs": [],
   "source": [
    "8 4 2 1  DECIMACAL output\n",
    "0 0 0 0  0\n",
    "0 0 0 1  1\n",
    "0 0 1 0  2\n",
    "0 0 1 1  3\n",
    "0 1 0 0  4\n",
    "0 1 0 1  5\n",
    "0 1 1 0  6 \n",
    "0 1 1 1  7\n",
    "1 0 0 0  8\n",
    "1 0 0 1  9\n",
    "1 0 1 0  10\n",
    "1 0 1 1  11\n",
    "1 1 0 0  12\n",
    "1 1 0 1  13\n",
    "1 1 1 0  14\n",
    "1 1 1 1  15\n"
   ]
  },
  {
   "cell_type": "code",
   "execution_count": 17,
   "id": "c2adef11",
   "metadata": {},
   "outputs": [
    {
     "data": {
      "text/plain": [
       "12"
      ]
     },
     "execution_count": 17,
     "metadata": {},
     "output_type": "execute_result"
    }
   ],
   "source": [
    "0b1100 "
   ]
  },
  {
   "cell_type": "markdown",
   "id": "02545a94",
   "metadata": {},
   "source": [
    "**octa**\n",
    "\n",
    "- octa means 8\n",
    "\n",
    "- so the base is also 8\n",
    "\n",
    "- 0 1 2 3 4 5 6 7 8 9\n",
    "\n",
    "- here will use only 8 digits : 0,1,2,3,4,5,6,7 (0 to 7 means 8 deigits )\n",
    "\n",
    "- representation is: 0o<combinations of 0 to 7>\n",
    "    \n",
    "- 0o123, 0o7564\n",
    "\n",
    "- power : 8 "
   ]
  },
  {
   "cell_type": "code",
   "execution_count": 19,
   "id": "22b2aa34",
   "metadata": {},
   "outputs": [
    {
     "data": {
      "text/plain": [
       "302"
      ]
     },
     "execution_count": 19,
     "metadata": {},
     "output_type": "execute_result"
    }
   ],
   "source": [
    "0o456"
   ]
  },
  {
   "cell_type": "code",
   "execution_count": 20,
   "id": "cca24c32",
   "metadata": {},
   "outputs": [
    {
     "data": {
      "text/plain": [
       "83"
      ]
     },
     "execution_count": 20,
     "metadata": {},
     "output_type": "execute_result"
    }
   ],
   "source": [
    "0o123"
   ]
  },
  {
   "cell_type": "markdown",
   "id": "2985f36d",
   "metadata": {},
   "source": [
    "**hexa**\n",
    "\n",
    "- hexa means 16\n",
    "\n",
    "- so the base is also 16\n",
    "\n",
    "- 0 1 2 3 4 5 6 7 8 9 , A, B, C, D, E, F\n",
    "\n",
    "- here will use only 16 digits : (0 to 9 and A to F )\n",
    "\n",
    "- representation is: 0x<combinations of 0 to 9 and A to F>\n",
    "    \n",
    "- 0xabc, 0X9DF\n",
    "\n",
    "- power : 16"
   ]
  },
  {
   "cell_type": "code",
   "execution_count": 22,
   "id": "9ad52f18",
   "metadata": {},
   "outputs": [
    {
     "data": {
      "text/plain": [
       "10"
      ]
     },
     "execution_count": 22,
     "metadata": {},
     "output_type": "execute_result"
    }
   ],
   "source": [
    "0xA"
   ]
  },
  {
   "cell_type": "markdown",
   "id": "25622b8d",
   "metadata": {},
   "source": [
    "$float$"
   ]
  },
  {
   "cell_type": "code",
   "execution_count": 28,
   "id": "6f4d52e2",
   "metadata": {},
   "outputs": [
    {
     "data": {
      "text/plain": [
       "123.5"
      ]
     },
     "execution_count": 28,
     "metadata": {},
     "output_type": "execute_result"
    }
   ],
   "source": [
    "number1=123.5\n",
    "number1"
   ]
  },
  {
   "cell_type": "code",
   "execution_count": 29,
   "id": "bee64609",
   "metadata": {},
   "outputs": [
    {
     "data": {
      "text/plain": [
       "float"
      ]
     },
     "execution_count": 29,
     "metadata": {},
     "output_type": "execute_result"
    }
   ],
   "source": [
    "type(number1)"
   ]
  },
  {
   "cell_type": "markdown",
   "id": "75a01995",
   "metadata": {},
   "source": [
    "**e representation**"
   ]
  },
  {
   "cell_type": "code",
   "execution_count": 30,
   "id": "bb9b123a",
   "metadata": {},
   "outputs": [
    {
     "data": {
      "text/plain": [
       "10000.0"
      ]
     },
     "execution_count": 30,
     "metadata": {},
     "output_type": "execute_result"
    }
   ],
   "source": [
    "10e3  # 10 * 1000 =10000\n"
   ]
  },
  {
   "cell_type": "code",
   "execution_count": 32,
   "id": "43c23870",
   "metadata": {},
   "outputs": [
    {
     "data": {
      "text/plain": [
       "10000.0"
      ]
     },
     "execution_count": 32,
     "metadata": {},
     "output_type": "execute_result"
    }
   ],
   "source": [
    "10e+3"
   ]
  },
  {
   "cell_type": "code",
   "execution_count": 33,
   "id": "9f6bab0e",
   "metadata": {},
   "outputs": [
    {
     "data": {
      "text/plain": [
       "100000.0"
      ]
     },
     "execution_count": 33,
     "metadata": {},
     "output_type": "execute_result"
    }
   ],
   "source": [
    "1e5 # 1 * 100000"
   ]
  },
  {
   "cell_type": "code",
   "execution_count": 34,
   "id": "3eb56cc7",
   "metadata": {},
   "outputs": [
    {
     "data": {
      "text/plain": [
       "0.01"
      ]
     },
     "execution_count": 34,
     "metadata": {},
     "output_type": "execute_result"
    }
   ],
   "source": [
    "10e-3 # 10/1000 = 1/100 =0.01"
   ]
  },
  {
   "cell_type": "code",
   "execution_count": 35,
   "id": "b2ac9aae",
   "metadata": {},
   "outputs": [
    {
     "data": {
      "text/plain": [
       "0.01"
      ]
     },
     "execution_count": 35,
     "metadata": {},
     "output_type": "execute_result"
    }
   ],
   "source": [
    "1000e-5 #1000 / 100000"
   ]
  },
  {
   "cell_type": "markdown",
   "id": "35dbe779",
   "metadata": {},
   "source": [
    "$strings$"
   ]
  },
  {
   "cell_type": "code",
   "execution_count": 38,
   "id": "bc523680",
   "metadata": {},
   "outputs": [
    {
     "data": {
      "text/plain": [
       "str"
      ]
     },
     "execution_count": 38,
     "metadata": {},
     "output_type": "execute_result"
    }
   ],
   "source": [
    "name=\"python\" #write anything in quotes\n",
    "type(name)"
   ]
  },
  {
   "cell_type": "code",
   "execution_count": 40,
   "id": "aece8951",
   "metadata": {},
   "outputs": [
    {
     "data": {
      "text/plain": [
       "str"
      ]
     },
     "execution_count": 40,
     "metadata": {},
     "output_type": "execute_result"
    }
   ],
   "source": [
    "name1=\"100\"\n",
    "type(name1)"
   ]
  },
  {
   "cell_type": "code",
   "execution_count": 41,
   "id": "07ff4afb",
   "metadata": {},
   "outputs": [
    {
     "data": {
      "text/plain": [
       "'how are you?'"
      ]
     },
     "execution_count": 41,
     "metadata": {},
     "output_type": "execute_result"
    }
   ],
   "source": [
    "name2='how are you?'\n",
    "name2"
   ]
  },
  {
   "cell_type": "markdown",
   "id": "f6638f62",
   "metadata": {},
   "source": [
    "hai\n",
    "\n",
    "how are you\n",
    "\n",
    "write above sentence in the one string\n",
    "when you call your output should line be lie"
   ]
  },
  {
   "cell_type": "code",
   "execution_count": 42,
   "id": "baae2b36",
   "metadata": {},
   "outputs": [
    {
     "ename": "SyntaxError",
     "evalue": "EOL while scanning string literal (479942645.py, line 1)",
     "output_type": "error",
     "traceback": [
      "\u001b[1;36m  File \u001b[1;32m\"C:\\Users\\Manohar\\AppData\\Local\\Temp\\ipykernel_864\\479942645.py\"\u001b[1;36m, line \u001b[1;32m1\u001b[0m\n\u001b[1;33m    name3= \"hai\u001b[0m\n\u001b[1;37m               ^\u001b[0m\n\u001b[1;31mSyntaxError\u001b[0m\u001b[1;31m:\u001b[0m EOL while scanning string literal\n"
     ]
    }
   ],
   "source": [
    "name3= \"hai\n",
    "        how r u\""
   ]
  },
  {
   "cell_type": "code",
   "execution_count": 45,
   "id": "f248c7c4",
   "metadata": {},
   "outputs": [
    {
     "data": {
      "text/plain": [
       "'hai\\n        how r u'"
      ]
     },
     "execution_count": 45,
     "metadata": {},
     "output_type": "execute_result"
    }
   ],
   "source": [
    "#whenever you want write multi lines use triple quotes\n",
    "name4=\"\"\"hai\n",
    "        how r u\"\"\"\n",
    "name4\n",
    "#doc string"
   ]
  },
  {
   "cell_type": "code",
   "execution_count": 46,
   "id": "5fa14f69",
   "metadata": {},
   "outputs": [],
   "source": [
    "# doc string is very important\n",
    "# jupyter notebook : markdown\n",
    "# vs code and pycharm: uses doc strings for strory telling"
   ]
  },
  {
   "cell_type": "code",
   "execution_count": 1,
   "id": "1d2b9f81",
   "metadata": {},
   "outputs": [
    {
     "data": {
      "text/plain": [
       "'python'"
      ]
     },
     "execution_count": 1,
     "metadata": {},
     "output_type": "execute_result"
    }
   ],
   "source": [
    "string1='python'\n",
    "string1"
   ]
  },
  {
   "cell_type": "code",
   "execution_count": 2,
   "id": "3f7ea6d3",
   "metadata": {},
   "outputs": [
    {
     "data": {
      "text/plain": [
       "'hai'"
      ]
     },
     "execution_count": 2,
     "metadata": {},
     "output_type": "execute_result"
    }
   ],
   "source": [
    "string2=\"hai\"\n",
    "string2"
   ]
  },
  {
   "cell_type": "code",
   "execution_count": 4,
   "id": "44816662",
   "metadata": {},
   "outputs": [
    {
     "data": {
      "text/plain": [
       "'how are you'"
      ]
     },
     "execution_count": 4,
     "metadata": {},
     "output_type": "execute_result"
    }
   ],
   "source": [
    "#triple quotes =======.doc string\n",
    "#you are writting an information\n",
    "string3=\"\"\"how are you\"\"\"\n",
    "string3"
   ]
  },
  {
   "cell_type": "markdown",
   "id": "d247be00",
   "metadata": {},
   "source": [
    "bollean"
   ]
  },
  {
   "cell_type": "code",
   "execution_count": 6,
   "id": "e00e6fb6",
   "metadata": {},
   "outputs": [
    {
     "data": {
      "text/plain": [
       "False"
      ]
     },
     "execution_count": 6,
     "metadata": {},
     "output_type": "execute_result"
    }
   ],
   "source": [
    "# whenever if you ask any question to the computer\n",
    "# what its replay? true or false\n",
    "# true=1\n",
    "# false=0\n",
    "True #keyword\n",
    "False #keyword\n"
   ]
  },
  {
   "cell_type": "code",
   "execution_count": 7,
   "id": "86ca9ae3",
   "metadata": {},
   "outputs": [
    {
     "data": {
      "text/plain": [
       "False"
      ]
     },
     "execution_count": 7,
     "metadata": {},
     "output_type": "execute_result"
    }
   ],
   "source": [
    "value= False #we are assigning false in a variable value\n",
    "value"
   ]
  },
  {
   "cell_type": "code",
   "execution_count": 8,
   "id": "122fc838",
   "metadata": {},
   "outputs": [
    {
     "data": {
      "text/plain": [
       "bool"
      ]
     },
     "execution_count": 8,
     "metadata": {},
     "output_type": "execute_result"
    }
   ],
   "source": [
    "type(value)"
   ]
  },
  {
   "cell_type": "code",
   "execution_count": 9,
   "id": "be131a5c",
   "metadata": {},
   "outputs": [
    {
     "ename": "NameError",
     "evalue": "name 'true' is not defined",
     "output_type": "error",
     "traceback": [
      "\u001b[1;31m---------------------------------------------------------------------------\u001b[0m",
      "\u001b[1;31mNameError\u001b[0m                                 Traceback (most recent call last)",
      "\u001b[1;32m~\\AppData\\Local\\Temp\\ipykernel_19060\\2387416417.py\u001b[0m in \u001b[0;36m<module>\u001b[1;34m\u001b[0m\n\u001b[0;32m      1\u001b[0m \u001b[0mname1\u001b[0m \u001b[1;33m=\u001b[0m \u001b[1;32mTrue\u001b[0m \u001b[1;31m#boolean\u001b[0m\u001b[1;33m\u001b[0m\u001b[1;33m\u001b[0m\u001b[0m\n\u001b[1;32m----> 2\u001b[1;33m \u001b[0mname2\u001b[0m \u001b[1;33m=\u001b[0m \u001b[0mtrue\u001b[0m \u001b[1;31m#both are variables\u001b[0m\u001b[1;33m\u001b[0m\u001b[1;33m\u001b[0m\u001b[0m\n\u001b[0m\u001b[0;32m      3\u001b[0m \u001b[0mname3\u001b[0m \u001b[1;33m=\u001b[0m\u001b[1;34m\"true\"\u001b[0m \u001b[1;31m#string\u001b[0m\u001b[1;33m\u001b[0m\u001b[1;33m\u001b[0m\u001b[0m\n",
      "\u001b[1;31mNameError\u001b[0m: name 'true' is not defined"
     ]
    }
   ],
   "source": [
    "name1 = True #boolean\n",
    "name2 = true #both are variables\n",
    "name3 =\"true\" #string"
   ]
  },
  {
   "cell_type": "code",
   "execution_count": 10,
   "id": "e6c95c99",
   "metadata": {},
   "outputs": [
    {
     "data": {
      "text/plain": [
       "500"
      ]
     },
     "execution_count": 10,
     "metadata": {},
     "output_type": "execute_result"
    }
   ],
   "source": [
    "a = 100   # 100 saved in a\n",
    "b = 200   # 200 saved in b\n",
    "a = b     # b is saved in a =200\n",
    "b = a     # a is saved in b =200\n",
    "a = 500   # 500 saved in a = 500\n",
    "b = a     # a is saved in b = 500\n",
    "b = 900   # 900 is saved in b\n",
    "a         # latest value = 500"
   ]
  },
  {
   "cell_type": "markdown",
   "id": "4f9543f9",
   "metadata": {},
   "source": [
    "complex - conjugate"
   ]
  },
  {
   "cell_type": "markdown",
   "id": "6da39e57",
   "metadata": {},
   "source": [
    "- a + jb or a + ib\n",
    "- where a = real number\n",
    "- b = imaginary number\n",
    "- i = sqrt(-1)"
   ]
  },
  {
   "cell_type": "code",
   "execution_count": 12,
   "id": "7b2866a7",
   "metadata": {},
   "outputs": [
    {
     "data": {
      "text/plain": [
       "(3+5j)"
      ]
     },
     "execution_count": 12,
     "metadata": {},
     "output_type": "execute_result"
    }
   ],
   "source": [
    "number = 3+5j\n",
    "number"
   ]
  },
  {
   "cell_type": "code",
   "execution_count": 13,
   "id": "6beca847",
   "metadata": {},
   "outputs": [
    {
     "data": {
      "text/plain": [
       "complex"
      ]
     },
     "execution_count": 13,
     "metadata": {},
     "output_type": "execute_result"
    }
   ],
   "source": [
    "type(number)"
   ]
  },
  {
   "cell_type": "code",
   "execution_count": 15,
   "id": "fd1e5fc0",
   "metadata": {},
   "outputs": [
    {
     "data": {
      "text/plain": [
       "['__abs__',\n",
       " '__add__',\n",
       " '__bool__',\n",
       " '__class__',\n",
       " '__delattr__',\n",
       " '__dir__',\n",
       " '__divmod__',\n",
       " '__doc__',\n",
       " '__eq__',\n",
       " '__float__',\n",
       " '__floordiv__',\n",
       " '__format__',\n",
       " '__ge__',\n",
       " '__getattribute__',\n",
       " '__getnewargs__',\n",
       " '__gt__',\n",
       " '__hash__',\n",
       " '__init__',\n",
       " '__init_subclass__',\n",
       " '__int__',\n",
       " '__le__',\n",
       " '__lt__',\n",
       " '__mod__',\n",
       " '__mul__',\n",
       " '__ne__',\n",
       " '__neg__',\n",
       " '__new__',\n",
       " '__pos__',\n",
       " '__pow__',\n",
       " '__radd__',\n",
       " '__rdivmod__',\n",
       " '__reduce__',\n",
       " '__reduce_ex__',\n",
       " '__repr__',\n",
       " '__rfloordiv__',\n",
       " '__rmod__',\n",
       " '__rmul__',\n",
       " '__rpow__',\n",
       " '__rsub__',\n",
       " '__rtruediv__',\n",
       " '__setattr__',\n",
       " '__sizeof__',\n",
       " '__str__',\n",
       " '__sub__',\n",
       " '__subclasshook__',\n",
       " '__truediv__',\n",
       " 'conjugate',\n",
       " 'imag',\n",
       " 'real']"
      ]
     },
     "execution_count": 15,
     "metadata": {},
     "output_type": "execute_result"
    }
   ],
   "source": [
    "dir(number)"
   ]
  },
  {
   "cell_type": "code",
   "execution_count": 22,
   "id": "e8d22eef",
   "metadata": {},
   "outputs": [
    {
     "data": {
      "text/plain": [
       "3.0"
      ]
     },
     "execution_count": 22,
     "metadata": {},
     "output_type": "execute_result"
    }
   ],
   "source": [
    "number.real"
   ]
  },
  {
   "cell_type": "code",
   "execution_count": 20,
   "id": "4fd73a2d",
   "metadata": {},
   "outputs": [
    {
     "data": {
      "text/plain": [
       "(3-5j)"
      ]
     },
     "execution_count": 20,
     "metadata": {},
     "output_type": "execute_result"
    }
   ],
   "source": [
    "number.conjugate()\n",
    "\n",
    "# + become -\n",
    "# - become +"
   ]
  },
  {
   "cell_type": "code",
   "execution_count": 19,
   "id": "4e666ac1",
   "metadata": {},
   "outputs": [
    {
     "data": {
      "text/plain": [
       "5.0"
      ]
     },
     "execution_count": 19,
     "metadata": {},
     "output_type": "execute_result"
    }
   ],
   "source": [
    "number.imag"
   ]
  },
  {
   "cell_type": "code",
   "execution_count": 23,
   "id": "d9a3a02f",
   "metadata": {},
   "outputs": [],
   "source": [
    "number1= 3-5j\n",
    "# number1.real=3\n",
    "# number1.imag= -5\n",
    "# number1.conjugate= 3+5j"
   ]
  },
  {
   "cell_type": "code",
   "execution_count": 24,
   "id": "76f5e854",
   "metadata": {},
   "outputs": [
    {
     "data": {
      "text/plain": [
       "(4+10j)"
      ]
     },
     "execution_count": 24,
     "metadata": {},
     "output_type": "execute_result"
    }
   ],
   "source": [
    "complex(4,10)"
   ]
  },
  {
   "cell_type": "code",
   "execution_count": 25,
   "id": "a760958c",
   "metadata": {},
   "outputs": [
    {
     "data": {
      "text/plain": [
       "(4-10j)"
      ]
     },
     "execution_count": 25,
     "metadata": {},
     "output_type": "execute_result"
    }
   ],
   "source": [
    "complex(4,-10)\n",
    "# inside what ur seeing are\n",
    "# parameters / arguements"
   ]
  },
  {
   "cell_type": "code",
   "execution_count": 26,
   "id": "115f0a19",
   "metadata": {},
   "outputs": [
    {
     "data": {
      "text/plain": [
       "0j"
      ]
     },
     "execution_count": 26,
     "metadata": {},
     "output_type": "execute_result"
    }
   ],
   "source": [
    "complex() \n",
    "\n",
    "# default value\n",
    "\n",
    "        # if i did not provide anything inside bracket \n",
    "        # i will use real value as 0\n",
    "        # imaginary value also 0\n",
    "        # 0+0j ---> 0j"
   ]
  },
  {
   "cell_type": "markdown",
   "id": "aec461a3",
   "metadata": {},
   "source": [
    "- when if you see any brackets (), this is called function\n",
    "- another name of function is called method\n",
    "- inside brackets what u see is called parameters\n",
    "- another name for parameter is  arguments\n"
   ]
  },
  {
   "cell_type": "code",
   "execution_count": 34,
   "id": "fbc08e4e",
   "metadata": {},
   "outputs": [
    {
     "data": {
      "text/plain": [
       "52"
      ]
     },
     "execution_count": 34,
     "metadata": {},
     "output_type": "execute_result"
    }
   ],
   "source": [
    "import random\n",
    "random.randint(1,100)"
   ]
  },
  {
   "cell_type": "code",
   "execution_count": 33,
   "id": "45fee0c1",
   "metadata": {},
   "outputs": [
    {
     "data": {
      "text/plain": [
       "-0.9880316240928618"
      ]
     },
     "execution_count": 33,
     "metadata": {},
     "output_type": "execute_result"
    }
   ],
   "source": [
    "import math\n",
    "math.sin(30)"
   ]
  },
  {
   "cell_type": "code",
   "execution_count": 35,
   "id": "84dd54d6",
   "metadata": {},
   "outputs": [],
   "source": [
    "# packages\n",
    "# methods\n",
    "# parameters"
   ]
  },
  {
   "cell_type": "markdown",
   "id": "12a1b18b",
   "metadata": {},
   "source": [
    "- int\n",
    "- float\n",
    "- string\n",
    "- boolean\n",
    "- complex"
   ]
  },
  {
   "cell_type": "code",
   "execution_count": null,
   "id": "fb2fb0da",
   "metadata": {},
   "outputs": [],
   "source": []
  }
 ],
 "metadata": {
  "kernelspec": {
   "display_name": "Python 3 (ipykernel)",
   "language": "python",
   "name": "python3"
  },
  "language_info": {
   "codemirror_mode": {
    "name": "ipython",
    "version": 3
   },
   "file_extension": ".py",
   "mimetype": "text/x-python",
   "name": "python",
   "nbconvert_exporter": "python",
   "pygments_lexer": "ipython3",
   "version": "3.9.13"
  }
 },
 "nbformat": 4,
 "nbformat_minor": 5
}

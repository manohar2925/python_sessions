{
 "cells": [
  {
   "cell_type": "markdown",
   "id": "dbaf558f",
   "metadata": {},
   "source": [
    "- Basic syntax\n",
    "- conditional statements\n",
    "- try-exception\n",
    "- functions\n",
    "- loops\n",
    "    - for\n",
    "    - while"
   ]
  },
  {
   "cell_type": "markdown",
   "id": "624747e7",
   "metadata": {},
   "source": [
    "*for loop*"
   ]
  },
  {
   "cell_type": "markdown",
   "id": "60bfe390",
   "metadata": {},
   "source": [
    "- you will be in the loop\n",
    "- when you will enter the loop\n",
    "- how much time will you stay in the loop\n",
    "- how will you comeout of the loop`"
   ]
  },
  {
   "cell_type": "markdown",
   "id": "c1c8d741",
   "metadata": {},
   "source": [
    "- intialization\n",
    "- increment / decrement\n",
    "- condition to stop the loop"
   ]
  },
  {
   "cell_type": "code",
   "execution_count": null,
   "id": "fb0d15be",
   "metadata": {},
   "outputs": [],
   "source": [
    "# i want to print first 10 numbers\n",
    "# initial point: 0\n",
    "# increment\n",
    "# cond=10"
   ]
  },
  {
   "cell_type": "markdown",
   "id": "a9e0a99d",
   "metadata": {},
   "source": [
    "$pattern-1"
   ]
  },
  {
   "cell_type": "markdown",
   "id": "0efdad0f",
   "metadata": {},
   "source": [
    "for i in range(stop):\n",
    "\n",
    "- in the bracket if we have only single value that is consider as stop value\n",
    "\n",
    "- the default start value is =0\n",
    "\n",
    "- python index always start with : 0\n",
    "    \n",
    "- if direction sign is not mentioned: increment(+) sign\n",
    "    \n",
    "- if direction is positive side the end = stop-1\n"
   ]
  },
  {
   "cell_type": "code",
   "execution_count": null,
   "id": "4de8e9c2",
   "metadata": {},
   "outputs": [],
   "source": [
    "for i in range(10):\n",
    "    print(i)\n",
    "    \n",
    "# "
   ]
  },
  {
   "cell_type": "markdown",
   "id": "1b20703c",
   "metadata": {},
   "source": [
    "- intial\n",
    "\n",
    "- increment/ decrement\n",
    "\n",
    "- condition\n",
    "    "
   ]
  },
  {
   "cell_type": "code",
   "execution_count": null,
   "id": "1ff21648",
   "metadata": {},
   "outputs": [],
   "source": [
    "for i in range(20):\n",
    "    print(i,end=' ')"
   ]
  },
  {
   "cell_type": "markdown",
   "id": "ecb67759",
   "metadata": {},
   "source": [
    "$pattern-2$"
   ]
  },
  {
   "cell_type": "markdown",
   "id": "424348c3",
   "metadata": {},
   "source": [
    " for i in range(start,stop)\n",
    "    \n",
    "- start: start of the loop, intial point\n",
    "    \n",
    "- direction sign not mentioned: +ve direction i.e increment\n",
    "\n",
    "- end = stop-1"
   ]
  },
  {
   "cell_type": "code",
   "execution_count": null,
   "id": "c5fbdbe7",
   "metadata": {},
   "outputs": [],
   "source": [
    "for i in range(10,20):\n",
    "    print(i,end=' ')"
   ]
  },
  {
   "cell_type": "markdown",
   "id": "aeca1747",
   "metadata": {},
   "source": [
    "$pattern-3$\n",
    "\n",
    "for i in range(start,stop,step)\n",
    "    \n",
    "- start: start of the loop, intial point\n",
    "    \n",
    "- direction: what is sign of step value, that is the direction\n",
    "\n",
    "            - direction will not decide by start and stop value\n",
    "            \n",
    "            - direction will provided by the step value\n",
    "            \n",
    "- if step size is positive direction\n",
    "        \n",
    "            end = stop-1\n",
    "            \n",
    "- if step size is negitive direction\n",
    "        \n",
    "            end = stop+1"
   ]
  },
  {
   "cell_type": "code",
   "execution_count": null,
   "id": "f4f06834",
   "metadata": {},
   "outputs": [],
   "source": [
    "for i in range(2,20,2): #(start,stop,step)\n",
    "    print(i,end=' ')\n",
    "    \n",
    "# start: 2\n",
    "# direction: "
   ]
  },
  {
   "cell_type": "code",
   "execution_count": null,
   "id": "5474b9d1",
   "metadata": {},
   "outputs": [],
   "source": [
    "# wap print : hello 3 times \n",
    "for i in range (3):\n",
    "    print(\"hello\")"
   ]
  },
  {
   "cell_type": "code",
   "execution_count": null,
   "id": "563cdc3a",
   "metadata": {},
   "outputs": [],
   "source": [
    "for i in range (3):\n",
    "    print(\"A\")\n",
    "for i in range (2):\n",
    "    print(\"B\")\n",
    "for i in range (3):\n",
    "    print(\"C\")"
   ]
  },
  {
   "cell_type": "code",
   "execution_count": null,
   "id": "9806840e",
   "metadata": {},
   "outputs": [],
   "source": [
    "for i in range (3):\n",
    "    print(\"A\")\n",
    "    print(\"B\")\n",
    "for i in range (3):\n",
    "    print(\"C\")"
   ]
  },
  {
   "cell_type": "code",
   "execution_count": null,
   "id": "8e781e50",
   "metadata": {},
   "outputs": [],
   "source": [
    "# wap ask the user get the square of the numbers\n",
    "# between 10 to 15"
   ]
  },
  {
   "cell_type": "code",
   "execution_count": null,
   "id": "e08f42b0",
   "metadata": {},
   "outputs": [],
   "source": [
    "\n",
    "for i in range(10,16):\n",
    "    print(\"The square of {} is {}\".format(i,i*i))"
   ]
  },
  {
   "cell_type": "code",
   "execution_count": null,
   "id": "b7529a90",
   "metadata": {},
   "outputs": [],
   "source": [
    "# Wap same above question \n",
    "# take the numbers from keyboard\n"
   ]
  },
  {
   "cell_type": "code",
   "execution_count": null,
   "id": "00e0ad7a",
   "metadata": {},
   "outputs": [],
   "source": [
    "\n",
    "num1=eval(input(\"enter number1:\"))\n",
    "num2=eval(input(\"enter number2:\"))\n",
    "for i in range(num1,num2):\n",
    "    print(\"The square of {} is {}\".format(i,i*i))\n"
   ]
  },
  {
   "cell_type": "code",
   "execution_count": null,
   "id": "03167b48",
   "metadata": {},
   "outputs": [],
   "source": [
    "for i in range(eval(input(\"enter number1:\")),eval(input(\"enter number2:\"))):\n",
    "    print(\"The square of {} is {}\".format(i,i*i))"
   ]
  },
  {
   "cell_type": "code",
   "execution_count": null,
   "id": "b2d2e92f",
   "metadata": {},
   "outputs": [],
   "source": [
    "# without arguments\n",
    "def square1():\n",
    "    num1=eval(input(\"enter number1:\"))\n",
    "    num2=eval(input(\"enter number2:\"))\n",
    "    for i in range(num1,num2):\n",
    "        print(\"The square of {} is {}\".format(i,i*i))\n",
    "square1()"
   ]
  },
  {
   "cell_type": "code",
   "execution_count": null,
   "id": "31666910",
   "metadata": {},
   "outputs": [],
   "source": [
    "# with arguemnets\n",
    "\n",
    "def square2(a,b):\n",
    "    #num1=eval(input(\"enter number1:\"))\n",
    "    #num2=eval(input(\"enter number2:\"))\n",
    "    for i in range(num1,num2):\n",
    "        print(\"The square of {} is {}\".format(i,i*i))\n",
    "num1=10\n",
    "num2=16\n",
    "square2(num1,num2)"
   ]
  },
  {
   "cell_type": "code",
   "execution_count": null,
   "id": "30e57887",
   "metadata": {},
   "outputs": [],
   "source": [
    "# wap ask the user to print saquare of the five numbers\n",
    "# and these five numbers you need ask the user every time"
   ]
  },
  {
   "cell_type": "code",
   "execution_count": null,
   "id": "6ee87bc8",
   "metadata": {},
   "outputs": [],
   "source": [
    "for i in range (5):\n",
    "    num=eval(input('enter the number:'))\n",
    "    print(\"the square of {} is {}\".format(num,num*num))"
   ]
  },
  {
   "cell_type": "code",
   "execution_count": null,
   "id": "c6825955",
   "metadata": {},
   "outputs": [],
   "source": [
    "num=eval(input('enter the number:'))\n",
    "for i in range (5):\n",
    "    print(\"the square of {} is {}\".format(num,num*num))"
   ]
  },
  {
   "cell_type": "code",
   "execution_count": null,
   "id": "94f23989",
   "metadata": {},
   "outputs": [],
   "source": [
    "# wap ask the user to print five times square of a number\n",
    "# this time you need to take every time a random number between 10 to 15"
   ]
  },
  {
   "cell_type": "code",
   "execution_count": null,
   "id": "e271de44",
   "metadata": {},
   "outputs": [],
   "source": [
    "import random\n",
    "\n",
    "for i in range (5):\n",
    "    num=random.randint(10,60)\n",
    "    print(\"the square of {} is {}\".format(num,num*num))"
   ]
  },
  {
   "cell_type": "code",
   "execution_count": null,
   "id": "ce3cf446",
   "metadata": {},
   "outputs": [],
   "source": [
    "# wap ask the user the given num is even or odd\n",
    "# u need to take between 10 to 30\n",
    "\n",
    "# iterate the loop between 10 and 30\n",
    "# evry time apply if i%2==0: print even\n",
    "                #else: print odd"
   ]
  },
  {
   "cell_type": "code",
   "execution_count": null,
   "id": "34d1ee33",
   "metadata": {},
   "outputs": [],
   "source": [
    "for i in range (5):\n",
    "    num1=eval(input('enter the number:'))\n",
    "    if num1%2==0:\n",
    "        print('the given number is {}:even'.format(num1))\n",
    "    else:\n",
    "        print('the given number is {}:odd'.format(num1))"
   ]
  },
  {
   "cell_type": "code",
   "execution_count": null,
   "id": "18e0e4aa",
   "metadata": {},
   "outputs": [],
   "source": [
    "# wap ask the user the given num is even or odd\n",
    "# u need to take between 10 to 30\n",
    "\n",
    "# iterate the loop between 10 and 30\n",
    "# randomly\n",
    "for i in range (5):\n",
    "    num2=random.randint(10,100)\n",
    "    if num2%2==0:\n",
    "        print('The given number is {} : even'.format(num2))\n",
    "    else:\n",
    "        print('The given number is {} : odd'.format(num2))"
   ]
  },
  {
   "cell_type": "code",
   "execution_count": null,
   "id": "1eb1c6bb",
   "metadata": {},
   "outputs": [],
   "source": [
    "def copy(num):\n",
    "    if num2%2==0:\n",
    "        print('The given number is {} : even'.format(num2))\n",
    "    else:\n",
    "        print('The given number is {} : odd'.format(num2))\n"
   ]
  },
  {
   "cell_type": "code",
   "execution_count": null,
   "id": "1e2c2c21",
   "metadata": {},
   "outputs": [],
   "source": [
    "for i in range (5):\n",
    "    num2=random.randint(10,100)\n",
    "    copy(num2)"
   ]
  },
  {
   "cell_type": "code",
   "execution_count": null,
   "id": "5114cc0a",
   "metadata": {},
   "outputs": [],
   "source": [
    "# 5 lines \n",
    "# take a random number from the random package btw 1 to 10\n",
    "# ask the user to enter the number btw 1 to 10\n",
    "# if "
   ]
  },
  {
   "cell_type": "code",
   "execution_count": null,
   "id": "3c0b4ba3",
   "metadata": {},
   "outputs": [],
   "source": [
    "for i in range(3):\n",
    "    number=eval(input('enter the number'))\n",
    "    r_num=random.randint(1,10)\n",
    "    if number==r_num:\n",
    "        print(\"u won\")\n",
    "        break\n",
    "    else:\n",
    "        print(\"u lost\")"
   ]
  },
  {
   "cell_type": "code",
   "execution_count": null,
   "id": "7c2227ae",
   "metadata": {},
   "outputs": [],
   "source": [
    "import random\n",
    "chance=eval(input('enter the chance u want:'))\n",
    "for i in range(3):\n",
    "    number=eval(input('enter the number'))\n",
    "    r_num=random.randint(1,10)\n",
    "    if number==r_num:\n",
    "        print(\"u won\")\n",
    "        break\n",
    "    else:\n",
    "        print(\"u lost, u have {} chances left\".format(chance-1-i))"
   ]
  },
  {
   "cell_type": "code",
   "execution_count": null,
   "id": "dae26ec1",
   "metadata": {},
   "outputs": [],
   "source": []
  },
  {
   "cell_type": "code",
   "execution_count": 7,
   "id": "b897b742",
   "metadata": {},
   "outputs": [
    {
     "name": "stdout",
     "output_type": "stream",
     "text": [
      "enter the chance u want:3\n",
      "enter the number:2\n",
      "u won\n"
     ]
    }
   ],
   "source": [
    "import random\n",
    "chance=eval(input('enter the chance u want:'))\n",
    "for i in range(chance):\n",
    "    number=eval(input('enter the number:'))\n",
    "    r_num=random.randint(1,10)\n",
    "    if number==r_num:\n",
    "        print(\"u won\")\n",
    "        break\n",
    "    elif chance-1-i==0:\n",
    "        print(\"you lost\")\n",
    "        print(\"chances are over\")\n",
    "        \n",
    "    else:\n",
    "        print('u lost')\n",
    "        print(\"you have {} chances left\".format(chance-1-i))\n",
    "        print(\"-----------------------------------------\")"
   ]
  },
  {
   "cell_type": "markdown",
   "id": "5fa99c66",
   "metadata": {},
   "source": []
  },
  {
   "cell_type": "code",
   "execution_count": null,
   "id": "0d1fddc4",
   "metadata": {},
   "outputs": [],
   "source": []
  },
  {
   "cell_type": "code",
   "execution_count": null,
   "id": "42d88cac",
   "metadata": {},
   "outputs": [],
   "source": []
  },
  {
   "cell_type": "code",
   "execution_count": null,
   "id": "93ada8f9",
   "metadata": {},
   "outputs": [],
   "source": [
    "def game():\n",
    "    number=eval(input('enter the number'))\n",
    "    r_num=random.randint(1,10)\n",
    "    if number==r_num:\n",
    "        print(\"u won\")\n",
    "    else:\n",
    "        print(\"u lost\")"
   ]
  },
  {
   "cell_type": "code",
   "execution_count": null,
   "id": "490452c0",
   "metadata": {},
   "outputs": [],
   "source": [
    "for i in range(3):\n",
    "    game()"
   ]
  },
  {
   "cell_type": "code",
   "execution_count": null,
   "id": "5ba3952e",
   "metadata": {},
   "outputs": [],
   "source": [
    "# wap of sum of 10 natural numbers"
   ]
  },
  {
   "cell_type": "code",
   "execution_count": 20,
   "id": "11ca069a",
   "metadata": {},
   "outputs": [
    {
     "name": "stdout",
     "output_type": "stream",
     "text": [
      "0 + 1 is:\n",
      "1\n",
      "1 + 2 is:\n",
      "3\n",
      "3 + 3 is:\n",
      "6\n",
      "6 + 4 is:\n",
      "10\n",
      "10 + 5 is:\n",
      "15\n",
      "15 + 6 is:\n",
      "21\n",
      "21 + 7 is:\n",
      "28\n",
      "28 + 8 is:\n",
      "36\n",
      "36 + 9 is:\n",
      "45\n",
      "45 + 10 is:\n",
      "55\n"
     ]
    },
    {
     "data": {
      "text/plain": [
       "55"
      ]
     },
     "execution_count": 20,
     "metadata": {},
     "output_type": "execute_result"
    }
   ],
   "source": [
    "summ=0\n",
    "for i in range(1,11):\n",
    "    print(\"{} + {} is:\".format(summ,i))\n",
    "    summ=summ+i\n",
    "    #print(summ,end=\" \")\n",
    "    print(summ)"
   ]
  },
  {
   "cell_type": "markdown",
   "id": "4f11f3b0",
   "metadata": {},
   "source": [
    "- whenever if you want implement counter program\n",
    "\n",
    "- summ program\n",
    "\n",
    "- intialize the variable with zero\n",
    "\n",
    "- like: summ=0 or count=0\n",
    "    \n",
    "- inside the loop based on the problem update the variable\n",
    "\n",
    "- like: summ=summ+i or count=count+i\n",
    "        summ+=i     or count+=i"
   ]
  },
  {
   "cell_type": "code",
   "execution_count": 45,
   "id": "962ee06f",
   "metadata": {},
   "outputs": [
    {
     "name": "stdout",
     "output_type": "stream",
     "text": [
      "The given number is 51 : odd\n",
      "The given number is 86 : even\n",
      "The given number is 39 : odd\n",
      "The given number is 19 : odd\n",
      "The given number is 43 : odd\n",
      "1\n",
      "4\n"
     ]
    }
   ],
   "source": [
    "import random\n",
    "even_count=0\n",
    "odd_count=0\n",
    "for i in range (5):\n",
    "    num2=random.randint(10,100)\n",
    "    if num2%2==0:\n",
    "        print('The given number is {} : even'.format(num2))\n",
    "        even_count=even_count+1\n",
    "    else:\n",
    "        print('The given number is {} : odd'.format(num2))\n",
    "        odd_count=odd_count+1\n",
    "print(even_count)\n",
    "print(odd_count)"
   ]
  },
  {
   "cell_type": "code",
   "execution_count": 54,
   "id": "0c561b82",
   "metadata": {},
   "outputs": [
    {
     "name": "stdout",
     "output_type": "stream",
     "text": [
      "number =  93\n",
      "number =  49\n",
      "number =  95\n",
      "number =  49\n",
      "number =  95\n",
      "number =  77\n",
      "number =  55\n",
      "number =  98\n",
      "number =  87\n",
      "number =  17\n",
      "number =  26\n",
      "7 are greater than 50\n"
     ]
    }
   ],
   "source": [
    "import random\n",
    "count=0\n",
    "\n",
    "for i in range (11):\n",
    "    num3=random.randint(1,99)\n",
    "    print(\"number = \",num3)\n",
    "    if num3>50:\n",
    "        count=count+1\n",
    "        \n",
    "print(\"{} are greater than 50\".format(count))"
   ]
  },
  {
   "cell_type": "code",
   "execution_count": 63,
   "id": "96454c35",
   "metadata": {},
   "outputs": [
    {
     "name": "stdout",
     "output_type": "stream",
     "text": [
      "enter divisors:30\n",
      "30 is divisible by 1\n",
      "30 is divisible by 2\n",
      "30 is divisible by 4\n",
      "30 is divisible by 5\n",
      "30 is divisible by 10\n",
      "30 is divisible by 20\n",
      " the number of divisors are: 6\n",
      " the number of non divisors are: 24\n"
     ]
    }
   ],
   "source": [
    "# number of divisors program\n",
    "# 10 is divisible by what number\n",
    "# \n",
    "\n",
    "count=0\n",
    "count1=0\n",
    "num4=eval(input('enter divisors:'))\n",
    "for i in range (1,num4+1):\n",
    "    #print(i)\n",
    "    if num%i==0:\n",
    "        print(\"{} is divisible by {}\".format(num4,i))\n",
    "        count=count+1\n",
    "    else:\n",
    "        count1=count1+1\n",
    "\n",
    "print(\" the number of divisors are:\",count)\n",
    "print(\" the number of non divisors are:\",count1)       \n",
    "        "
   ]
  },
  {
   "cell_type": "code",
   "execution_count": 73,
   "id": "f700435a",
   "metadata": {},
   "outputs": [
    {
     "name": "stdout",
     "output_type": "stream",
     "text": [
      "enter divisors:10\n",
      "10 is divisible by 1\n",
      "10 is divisible by 2\n",
      "10 is divisible by 4\n",
      "10 is divisible by 5\n",
      "10 is divisible by 10\n",
      "5 5\n"
     ]
    }
   ],
   "source": [
    "num4=eval(input('enter divisors:'))\n",
    "\n",
    "def division():\n",
    "    count=0\n",
    "    count1=0\n",
    "    for i in range (1,num4+1):\n",
    "        #print(i)\n",
    "        if num%i==0:\n",
    "            print(\"{} is divisible by {}\".format(num4,i))\n",
    "            count=count+1\n",
    "        else:\n",
    "            count1=count1+1\n",
    "        return(count,count1)\n",
    "\n",
    "    print(\" the number of divisors are:\",count)\n",
    "    print(\" the number of non divisors are:\",count1)       \n",
    "d_count,dn_count = division()\n",
    "print(d_count,dn_count)"
   ]
  },
  {
   "cell_type": "markdown",
   "id": "c611c3f6",
   "metadata": {},
   "source": [
    "- whenever if you want implement counter program\n",
    "\n",
    "- initialzile count variable inside the function"
   ]
  },
  {
   "cell_type": "code",
   "execution_count": 74,
   "id": "dd864147",
   "metadata": {},
   "outputs": [],
   "source": [
    "def condition(num,i,count,count1):\n",
    "\n",
    "    if num%i==0:\n",
    "        print(\"{} is divisible by {}\".format(num4,i))\n",
    "        count=count+1\n",
    "    else:\n",
    "        count1=count1+1\n",
    "    return(count,count1)\n"
   ]
  },
  {
   "cell_type": "code",
   "execution_count": 76,
   "id": "03ae312d",
   "metadata": {},
   "outputs": [
    {
     "name": "stdout",
     "output_type": "stream",
     "text": [
      "enter divisors:10\n",
      "10 is divisible by 1\n",
      "10 is divisible by 2\n",
      "10 is divisible by 4\n",
      "10 is divisible by 5\n",
      "10 is divisible by 10\n",
      "1 0\n"
     ]
    }
   ],
   "source": [
    "num4=eval(input('enter divisors:'))\n",
    "\n",
    "def division():\n",
    "    count=0\n",
    "    count1=0\n",
    "    for i in range (1,num4+1):\n",
    "        val1,val2=condition(num,i,count,count1)\n",
    "    return(val1,val2)\n",
    "\n",
    "    print(\" the number of divisors are:\",count)\n",
    "    print(\" the number of non divisors are:\",count1)       \n",
    "d_count,dn_count = division()\n",
    "print(d_count,dn_count)"
   ]
  },
  {
   "cell_type": "code",
   "execution_count": null,
   "id": "42b87c2e",
   "metadata": {},
   "outputs": [],
   "source": []
  },
  {
   "cell_type": "code",
   "execution_count": null,
   "id": "d7b7122c",
   "metadata": {},
   "outputs": [],
   "source": []
  },
  {
   "cell_type": "code",
   "execution_count": null,
   "id": "9509efbd",
   "metadata": {},
   "outputs": [],
   "source": []
  }
 ],
 "metadata": {
  "kernelspec": {
   "display_name": "Python 3 (ipykernel)",
   "language": "python",
   "name": "python3"
  },
  "language_info": {
   "codemirror_mode": {
    "name": "ipython",
    "version": 3
   },
   "file_extension": ".py",
   "mimetype": "text/x-python",
   "name": "python",
   "nbconvert_exporter": "python",
   "pygments_lexer": "ipython3",
   "version": "3.9.13"
  }
 },
 "nbformat": 4,
 "nbformat_minor": 5
}

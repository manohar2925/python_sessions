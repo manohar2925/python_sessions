{
 "cells": [
  {
   "cell_type": "code",
   "execution_count": 1,
   "id": "25f12505",
   "metadata": {},
   "outputs": [],
   "source": [
    "list1=['Ram','Raheem','Robert']\n",
    "\n",
    "list2=[25,30,35]"
   ]
  },
  {
   "cell_type": "code",
   "execution_count": null,
   "id": "96b8d8c2",
   "metadata": {},
   "outputs": [],
   "source": [
    "'Ram has age 25'\n",
    "'Raheem has age 30'\n",
    "'Robert has age 35'"
   ]
  },
  {
   "cell_type": "code",
   "execution_count": 2,
   "id": "40030e53",
   "metadata": {},
   "outputs": [
    {
     "name": "stdout",
     "output_type": "stream",
     "text": [
      "Ram 25\n",
      "Raheem 30\n",
      "Robert 35\n"
     ]
    }
   ],
   "source": [
    "for i,j in zip(list1,list2):\n",
    "    print(i,j)"
   ]
  },
  {
   "cell_type": "code",
   "execution_count": null,
   "id": "dfbd6332",
   "metadata": {},
   "outputs": [],
   "source": [
    "#{key:value}"
   ]
  },
  {
   "cell_type": "code",
   "execution_count": 3,
   "id": "294342c3",
   "metadata": {},
   "outputs": [
    {
     "data": {
      "text/plain": [
       "{'Ram': 25, 'Raheem': 30, 'Robert': 35}"
      ]
     },
     "execution_count": 3,
     "metadata": {},
     "output_type": "execute_result"
    }
   ],
   "source": [
    "d1={'Ram':25,\n",
    " 'Raheem':30,\n",
    " 'Robert':35}\n",
    "\n",
    "d1\n",
    "\n",
    "#keys= 'Ram','Raheem','Robert'\n",
    "#values=25,30,35"
   ]
  },
  {
   "cell_type": "code",
   "execution_count": 4,
   "id": "6cb661a3",
   "metadata": {},
   "outputs": [
    {
     "data": {
      "text/plain": [
       "{25: 'Ram', 30: 'Raheem', 35: 'Robert'}"
      ]
     },
     "execution_count": 4,
     "metadata": {},
     "output_type": "execute_result"
    }
   ],
   "source": [
    "d2={25:'Ram',30:'Raheem',35:'Robert'}\n",
    "d2\n",
    "\n",
    "#keys: 25,30,35\n",
    "#values: 'Ram','Raheem','Robert'"
   ]
  },
  {
   "cell_type": "code",
   "execution_count": 5,
   "id": "b2dcdcb5",
   "metadata": {},
   "outputs": [
    {
     "data": {
      "text/plain": [
       "{'even': [2, 4, 6], 'odd': [3, 5, 7]}"
      ]
     },
     "execution_count": 5,
     "metadata": {},
     "output_type": "execute_result"
    }
   ],
   "source": [
    "d3={'even':[2,4,6],\n",
    "   'odd':[3,5,7]}\n",
    "\n",
    "d3"
   ]
  },
  {
   "cell_type": "code",
   "execution_count": 2,
   "id": "6c1fb6b8",
   "metadata": {},
   "outputs": [
    {
     "ename": "TypeError",
     "evalue": "unhashable type: 'list'",
     "output_type": "error",
     "traceback": [
      "\u001b[1;31m---------------------------------------------------------------------------\u001b[0m",
      "\u001b[1;31mTypeError\u001b[0m                                 Traceback (most recent call last)",
      "Cell \u001b[1;32mIn[2], line 1\u001b[0m\n\u001b[1;32m----> 1\u001b[0m d4\u001b[38;5;241m=\u001b[39m{[\u001b[38;5;241m2\u001b[39m,\u001b[38;5;241m4\u001b[39m,\u001b[38;5;241m6\u001b[39m]:\u001b[38;5;124m'\u001b[39m\u001b[38;5;124meven\u001b[39m\u001b[38;5;124m'\u001b[39m,\n\u001b[0;32m      2\u001b[0m    [\u001b[38;5;241m3\u001b[39m,\u001b[38;5;241m5\u001b[39m,\u001b[38;5;241m7\u001b[39m]:\u001b[38;5;124m'\u001b[39m\u001b[38;5;124modd\u001b[39m\u001b[38;5;124m'\u001b[39m}\n",
      "\u001b[1;31mTypeError\u001b[0m: unhashable type: 'list'"
     ]
    }
   ],
   "source": [
    "d4={[2,4,6]:'even',\n",
    "   [3,5,7]:'odd'}      # fail"
   ]
  },
  {
   "cell_type": "code",
   "execution_count": 3,
   "id": "889378b8",
   "metadata": {},
   "outputs": [
    {
     "data": {
      "text/plain": [
       "{(2, 4, 6): 'even', (3, 5, 7): 'odd'}"
      ]
     },
     "execution_count": 3,
     "metadata": {},
     "output_type": "execute_result"
    }
   ],
   "source": [
    "d4={(2,4,6):'even',\n",
    "   (3,5,7):'odd'}\n",
    "\n",
    "d4"
   ]
  },
  {
   "cell_type": "code",
   "execution_count": 9,
   "id": "62bbbc16",
   "metadata": {},
   "outputs": [
    {
     "data": {
      "text/plain": [
       "{'item_list': {'fruiits': 'Apple'}}"
      ]
     },
     "execution_count": 9,
     "metadata": {},
     "output_type": "execute_result"
    }
   ],
   "source": [
    "# {'key':<{}>}\n",
    "d5={'item_list':{'fruiits':'Apple'}}\n",
    "d5"
   ]
  },
  {
   "cell_type": "code",
   "execution_count": 4,
   "id": "4a439414",
   "metadata": {},
   "outputs": [
    {
     "ename": "TypeError",
     "evalue": "unhashable type: 'dict'",
     "output_type": "error",
     "traceback": [
      "\u001b[1;31m---------------------------------------------------------------------------\u001b[0m",
      "\u001b[1;31mTypeError\u001b[0m                                 Traceback (most recent call last)",
      "Cell \u001b[1;32mIn[4], line 1\u001b[0m\n\u001b[1;32m----> 1\u001b[0m d6\u001b[38;5;241m=\u001b[39m{{\u001b[38;5;124m'\u001b[39m\u001b[38;5;124mfruiits\u001b[39m\u001b[38;5;124m'\u001b[39m:\u001b[38;5;124m'\u001b[39m\u001b[38;5;124mApple\u001b[39m\u001b[38;5;124m'\u001b[39m}:\u001b[38;5;124m'\u001b[39m\u001b[38;5;124mitem_list\u001b[39m\u001b[38;5;124m'\u001b[39m}\n\u001b[0;32m      2\u001b[0m d6\n",
      "\u001b[1;31mTypeError\u001b[0m: unhashable type: 'dict'"
     ]
    }
   ],
   "source": [
    "d6={{'fruiits':'Apple'}:'item_list'}\n",
    "d6"
   ]
  },
  {
   "cell_type": "code",
   "execution_count": 11,
   "id": "8cc16ed0",
   "metadata": {},
   "outputs": [],
   "source": [
    "a=[1,2]\n",
    "b=(1,2)"
   ]
  },
  {
   "cell_type": "code",
   "execution_count": 18,
   "id": "2acbab12",
   "metadata": {},
   "outputs": [
    {
     "data": {
      "text/plain": [
       "2"
      ]
     },
     "execution_count": 18,
     "metadata": {},
     "output_type": "execute_result"
    }
   ],
   "source": [
    "a,b=[1,2]\n",
    "c,d=(1,2)\n",
    "d"
   ]
  },
  {
   "cell_type": "code",
   "execution_count": 6,
   "id": "7ccdb33f",
   "metadata": {},
   "outputs": [
    {
     "data": {
      "text/plain": [
       "(1, 2)"
      ]
     },
     "execution_count": 6,
     "metadata": {},
     "output_type": "execute_result"
    }
   ],
   "source": [
    "a=1,2\n",
    "a"
   ]
  },
  {
   "cell_type": "code",
   "execution_count": 7,
   "id": "a2d05b13",
   "metadata": {},
   "outputs": [
    {
     "data": {
      "text/plain": [
       "tuple"
      ]
     },
     "execution_count": 7,
     "metadata": {},
     "output_type": "execute_result"
    }
   ],
   "source": [
    "type(a)"
   ]
  },
  {
   "cell_type": "code",
   "execution_count": 20,
   "id": "4e015037",
   "metadata": {},
   "outputs": [
    {
     "data": {
      "text/plain": [
       "{'A': 1, 'B': 2}"
      ]
     },
     "execution_count": 20,
     "metadata": {},
     "output_type": "execute_result"
    }
   ],
   "source": [
    "d1={'A':1,'B':2,'A':1}\n",
    "d1"
   ]
  },
  {
   "cell_type": "code",
   "execution_count": 22,
   "id": "6c163610",
   "metadata": {},
   "outputs": [
    {
     "data": {
      "text/plain": [
       "{'A': 3, 'B': 2}"
      ]
     },
     "execution_count": 22,
     "metadata": {},
     "output_type": "execute_result"
    }
   ],
   "source": [
    "d1={'A':1,'B':2,'A':3}\n",
    "d1"
   ]
  },
  {
   "cell_type": "markdown",
   "id": "692b71e4",
   "metadata": {},
   "source": [
    "- Dictionary is a key:value pair \n",
    "\n",
    "- at values postition you can take any data type\n",
    "\n",
    "- at keys postion list and dictionary will fail\n",
    "\n",
    "- Duplicates are not allowed\n",
    "\n",
    "- If you will update a key value, latest value it will take"
   ]
  },
  {
   "cell_type": "markdown",
   "id": "857f2d6d",
   "metadata": {},
   "source": [
    "$type$"
   ]
  },
  {
   "cell_type": "code",
   "execution_count": 23,
   "id": "777553a1",
   "metadata": {},
   "outputs": [
    {
     "data": {
      "text/plain": [
       "dict"
      ]
     },
     "execution_count": 23,
     "metadata": {},
     "output_type": "execute_result"
    }
   ],
   "source": [
    "type(d1)"
   ]
  },
  {
   "cell_type": "markdown",
   "id": "f5ebd8ba",
   "metadata": {},
   "source": [
    "- str\n",
    "\n",
    "- list\n",
    "\n",
    "- dict\n",
    "\n",
    "- int\n",
    "\n",
    "- float\n",
    "\n",
    "- bool\n",
    "\n",
    "- complex\n",
    "\n",
    "- tuple\n",
    "\n",
    "- set"
   ]
  },
  {
   "cell_type": "code",
   "execution_count": 10,
   "id": "1c645dba",
   "metadata": {},
   "outputs": [
    {
     "data": {
      "text/plain": [
       "'Robert'"
      ]
     },
     "execution_count": 10,
     "metadata": {},
     "output_type": "execute_result"
    }
   ],
   "source": [
    "d1={'Ram':25,\n",
    " 'Raheem':30,\n",
    " 'Robert':35}\n",
    "\n",
    "max(d1)\n",
    "\n",
    "# this maximum we are getting based on key or value"
   ]
  },
  {
   "cell_type": "code",
   "execution_count": 25,
   "id": "0a70fb43",
   "metadata": {},
   "outputs": [
    {
     "data": {
      "text/plain": [
       "'Robert'"
      ]
     },
     "execution_count": 25,
     "metadata": {},
     "output_type": "execute_result"
    }
   ],
   "source": [
    "d1={'Ram':25,\n",
    " 'Raheem':30,\n",
    " 'Robert':3}\n",
    "\n",
    "max(d1)"
   ]
  },
  {
   "cell_type": "markdown",
   "id": "5c9d61f9",
   "metadata": {},
   "source": [
    "- Maximum and minimum value based on key only"
   ]
  },
  {
   "cell_type": "code",
   "execution_count": 12,
   "id": "456e6408",
   "metadata": {},
   "outputs": [
    {
     "data": {
      "text/plain": [
       "'Robert'"
      ]
     },
     "execution_count": 12,
     "metadata": {},
     "output_type": "execute_result"
    }
   ],
   "source": [
    "min(d1)\n",
    "\n",
    "'Ram',     ord('m')\n",
    "'Raheem',  ord('h')\n",
    "'Robert'"
   ]
  },
  {
   "cell_type": "code",
   "execution_count": 27,
   "id": "790085f3",
   "metadata": {},
   "outputs": [
    {
     "data": {
      "text/plain": [
       "3"
      ]
     },
     "execution_count": 27,
     "metadata": {},
     "output_type": "execute_result"
    }
   ],
   "source": [
    "len(d1)"
   ]
  },
  {
   "cell_type": "code",
   "execution_count": 28,
   "id": "8add7fab",
   "metadata": {},
   "outputs": [
    {
     "data": {
      "text/plain": [
       "{'Ram': 25, 'Raheem': 30, 'Robert': 3}"
      ]
     },
     "execution_count": 28,
     "metadata": {},
     "output_type": "execute_result"
    }
   ],
   "source": [
    "d1"
   ]
  },
  {
   "cell_type": "code",
   "execution_count": 29,
   "id": "3d0c3775",
   "metadata": {},
   "outputs": [
    {
     "ename": "TypeError",
     "evalue": "unsupported operand type(s) for +: 'int' and 'str'",
     "output_type": "error",
     "traceback": [
      "\u001b[1;31m---------------------------------------------------------------------------\u001b[0m",
      "\u001b[1;31mTypeError\u001b[0m                                 Traceback (most recent call last)",
      "Cell \u001b[1;32mIn[29], line 1\u001b[0m\n\u001b[1;32m----> 1\u001b[0m \u001b[38;5;28msum\u001b[39m(d1)\n",
      "\u001b[1;31mTypeError\u001b[0m: unsupported operand type(s) for +: 'int' and 'str'"
     ]
    }
   ],
   "source": [
    "sum(d1)"
   ]
  },
  {
   "cell_type": "code",
   "execution_count": 32,
   "id": "0d831b6b",
   "metadata": {},
   "outputs": [
    {
     "data": {
      "text/plain": [
       "400"
      ]
     },
     "execution_count": 32,
     "metadata": {},
     "output_type": "execute_result"
    }
   ],
   "source": [
    "d2={100:'2',300:'4'}\n",
    "sum(d2)"
   ]
  },
  {
   "cell_type": "markdown",
   "id": "15098c67",
   "metadata": {},
   "source": [
    "- if keys has numeric then we can do sum"
   ]
  },
  {
   "cell_type": "code",
   "execution_count": 35,
   "id": "409748c7",
   "metadata": {},
   "outputs": [
    {
     "ename": "TypeError",
     "evalue": "can't multiply sequence by non-int of type 'str'",
     "output_type": "error",
     "traceback": [
      "\u001b[1;31m---------------------------------------------------------------------------\u001b[0m",
      "\u001b[1;31mTypeError\u001b[0m                                 Traceback (most recent call last)",
      "Cell \u001b[1;32mIn[35], line 1\u001b[0m\n\u001b[1;32m----> 1\u001b[0m \u001b[38;5;124m'\u001b[39m\u001b[38;5;124ma\u001b[39m\u001b[38;5;124m'\u001b[39m\u001b[38;5;241m*\u001b[39m\u001b[38;5;124m'\u001b[39m\u001b[38;5;124mb\u001b[39m\u001b[38;5;124m'\u001b[39m\n",
      "\u001b[1;31mTypeError\u001b[0m: can't multiply sequence by non-int of type 'str'"
     ]
    }
   ],
   "source": [
    "'a'*'b'"
   ]
  },
  {
   "cell_type": "markdown",
   "id": "ec7ec1e5",
   "metadata": {},
   "source": [
    "- type\n",
    "\n",
    "- len\n",
    "\n",
    "- max\n",
    "\n",
    "- min\n",
    "\n",
    "- sum"
   ]
  },
  {
   "cell_type": "markdown",
   "id": "4af9bd7c",
   "metadata": {},
   "source": [
    "$in$"
   ]
  },
  {
   "cell_type": "code",
   "execution_count": 40,
   "id": "e873e297",
   "metadata": {},
   "outputs": [
    {
     "data": {
      "text/plain": [
       "True"
      ]
     },
     "execution_count": 40,
     "metadata": {},
     "output_type": "execute_result"
    }
   ],
   "source": [
    "d1={'Ram':25,\n",
    " 'Raheem':30,\n",
    " 'Robert':35}\n",
    "\n",
    "\n",
    "#'Ram':25  in d1  fail\n",
    "    \n",
    "'Ram'  in d1   # works\n",
    "\n",
    "#25  in d1    # Fails"
   ]
  },
  {
   "cell_type": "code",
   "execution_count": 39,
   "id": "27909e4d",
   "metadata": {},
   "outputs": [
    {
     "name": "stdout",
     "output_type": "stream",
     "text": [
      "Ram\n",
      "Raheem\n",
      "Robert\n"
     ]
    }
   ],
   "source": [
    "for i in d1:\n",
    "    print(i)"
   ]
  },
  {
   "cell_type": "code",
   "execution_count": 38,
   "id": "be396548",
   "metadata": {},
   "outputs": [
    {
     "name": "stdout",
     "output_type": "stream",
     "text": [
      "1\n",
      "2\n",
      "3\n"
     ]
    }
   ],
   "source": [
    "str1='apple'\n",
    "'a' in str1\n",
    "\n",
    "l1=[1,2,3]\n",
    "1 in l1\n",
    "\n",
    "for i in l1:\n",
    "    print(i)"
   ]
  },
  {
   "cell_type": "markdown",
   "id": "3497c3a4",
   "metadata": {},
   "source": [
    "$index$"
   ]
  },
  {
   "cell_type": "code",
   "execution_count": 42,
   "id": "26d133df",
   "metadata": {},
   "outputs": [
    {
     "data": {
      "text/plain": [
       "'a'"
      ]
     },
     "execution_count": 42,
     "metadata": {},
     "output_type": "execute_result"
    }
   ],
   "source": [
    "l1=[10,20,30,40]\n",
    "l1[0]\n",
    "\n",
    "str1='apple'\n",
    "str1[0]"
   ]
  },
  {
   "cell_type": "code",
   "execution_count": 13,
   "id": "d2c208f0",
   "metadata": {},
   "outputs": [
    {
     "data": {
      "text/plain": [
       "25"
      ]
     },
     "execution_count": 13,
     "metadata": {},
     "output_type": "execute_result"
    }
   ],
   "source": [
    "d1={'Ram':25,\n",
    " 'Raheem':30,\n",
    " 'Robert':35}\n",
    "\n",
    "d1['Ram']\n",
    "\n",
    "# can we get values using for loop"
   ]
  },
  {
   "cell_type": "code",
   "execution_count": 49,
   "id": "0f6da84f",
   "metadata": {},
   "outputs": [
    {
     "name": "stdout",
     "output_type": "stream",
     "text": [
      "The age of Ram is 25\n",
      "The age of Raheem is 30\n",
      "The age of Robert is 35\n"
     ]
    }
   ],
   "source": [
    "for key in d1:\n",
    "    print(\"The age of {} is {}\".format(key,d1[key]))"
   ]
  },
  {
   "cell_type": "code",
   "execution_count": 51,
   "id": "947507cf",
   "metadata": {},
   "outputs": [
    {
     "name": "stdout",
     "output_type": "stream",
     "text": [
      "0 10\n",
      "1 20\n",
      "2 30\n",
      "3 40\n"
     ]
    }
   ],
   "source": [
    "for i in range(len(l1)):\n",
    "    print(i,l1[i])"
   ]
  },
  {
   "cell_type": "code",
   "execution_count": 52,
   "id": "3ff381b0",
   "metadata": {},
   "outputs": [
    {
     "name": "stdout",
     "output_type": "stream",
     "text": [
      "0\n",
      "1\n",
      "2\n"
     ]
    }
   ],
   "source": [
    "for key in range(len(d1)):\n",
    "    print(key)\n",
    "    #print(\"The age of {} is {}\".format(key,d1[key]))  # possibile / not possible"
   ]
  },
  {
   "cell_type": "markdown",
   "id": "43376fb6",
   "metadata": {},
   "source": [
    "**Creating a empty dictionary and update**"
   ]
  },
  {
   "cell_type": "code",
   "execution_count": 54,
   "id": "b31bab13",
   "metadata": {},
   "outputs": [
    {
     "name": "stdout",
     "output_type": "stream",
     "text": [
      "apple\n"
     ]
    }
   ],
   "source": [
    "s=''\n",
    "\n",
    "for i in 'apple':\n",
    "    s=s+i\n",
    "    \n",
    "print(s)"
   ]
  },
  {
   "cell_type": "code",
   "execution_count": 55,
   "id": "a4f047f7",
   "metadata": {},
   "outputs": [
    {
     "data": {
      "text/plain": [
       "[0, 1, 2, 3, 4, 5, 6, 7, 8, 9]"
      ]
     },
     "execution_count": 55,
     "metadata": {},
     "output_type": "execute_result"
    }
   ],
   "source": [
    "l=[i for i in range(10)]\n",
    "\n",
    "l=[]\n",
    "for i in range(10):\n",
    "    l.append(i)\n",
    "    \n",
    "l"
   ]
  },
  {
   "cell_type": "code",
   "execution_count": 56,
   "id": "c3918531",
   "metadata": {},
   "outputs": [
    {
     "data": {
      "text/plain": [
       "{'fruite': 'Apple'}"
      ]
     },
     "execution_count": 56,
     "metadata": {},
     "output_type": "execute_result"
    }
   ],
   "source": [
    "d1={}\n",
    "d1['fruite']='Apple'\n",
    "d1"
   ]
  },
  {
   "cell_type": "code",
   "execution_count": 57,
   "id": "33e2b22c",
   "metadata": {},
   "outputs": [
    {
     "data": {
      "text/plain": [
       "{'First name': 'Nikita',\n",
       " 'sir name': 'Parolekar',\n",
       " 'Nativeplace': 'Dhule',\n",
       " 'State': 'Maharashtra'}"
      ]
     },
     "execution_count": 57,
     "metadata": {},
     "output_type": "execute_result"
    }
   ],
   "source": [
    "d1={}\n",
    "d1[\"First name\"]=\"Nikita\"\n",
    "d1[\"sir name\"]=\"Parolekar\"\n",
    "d1[\"Nativeplace\"]=\"Dhule\"\n",
    "d1[\"State\"]=\"Maharashtra\"\n",
    "d1"
   ]
  },
  {
   "cell_type": "code",
   "execution_count": null,
   "id": "7d91d2cf",
   "metadata": {},
   "outputs": [],
   "source": [
    "# WAP create a dictionary based on two lists\n",
    "# names=['Ram','Raheem','Robert']\n",
    "# age=[25,30,35]\n",
    "# d1={'Ram':25,'Raheem':30,'Robert':35}\n",
    "\n",
    "names=['Ram','Raheem','Robert']\n",
    "age=[25,30,35]"
   ]
  },
  {
   "cell_type": "code",
   "execution_count": 58,
   "id": "caa5deb7",
   "metadata": {},
   "outputs": [
    {
     "data": {
      "text/plain": [
       "{'Ram': 35, 'Raheem': 25, 'Robert': 30}"
      ]
     },
     "execution_count": 58,
     "metadata": {},
     "output_type": "execute_result"
    }
   ],
   "source": [
    "names=['Ram','Raheem','Robert']\n",
    "age=[35,25,30]\n",
    "dict1={}\n",
    "for i,j in zip(names,age):\n",
    "    dict1[i]=j\n",
    "dict1\n",
    "\n",
    "############################################################\n",
    "dict1={name:age for name,age in zip(names,age)}"
   ]
  },
  {
   "cell_type": "code",
   "execution_count": 73,
   "id": "9dc28ca7",
   "metadata": {},
   "outputs": [
    {
     "name": "stdout",
     "output_type": "stream",
     "text": [
      "Ram 25\n",
      "Raheem 30\n",
      "Robert 35\n"
     ]
    }
   ],
   "source": [
    "dict1={}\n",
    "for i in range(len(names)):\n",
    "    dict1[names[i]]=age[i]\n",
    "    \n",
    "#######################################################################\n",
    "dict1={names[i]:age[i] for i in range(len(names))}\n"
   ]
  },
  {
   "cell_type": "code",
   "execution_count": 68,
   "id": "983aa834",
   "metadata": {},
   "outputs": [
    {
     "data": {
      "text/plain": [
       "[0, 1, 2]"
      ]
     },
     "execution_count": 68,
     "metadata": {},
     "output_type": "execute_result"
    }
   ],
   "source": [
    "list1=[]\n",
    "for i in range(len(names)):\n",
    "    list1.append(i)\n",
    "    \n",
    "list1=[i for i in range(len(names))]\n",
    "list1"
   ]
  },
  {
   "cell_type": "code",
   "execution_count": null,
   "id": "66e59a94",
   "metadata": {},
   "outputs": [],
   "source": [
    "#WAP take 5 random numbers\n",
    "# and create a dictionary with even and odd\n",
    "\n",
    "# Output: {'even':[20,22],'odd':[19,21,23]}\n",
    "\n",
    "# step-1: take empty dictionary\n",
    "# step-2: take two even and odd list\n",
    "# step-3: import random\n",
    "# step-4: for i in range(5):\n",
    "# step-5:     num=random.randint(a,b)\n",
    "# step-6:     if <even>:\n",
    "# step-7:        append the values in even list\n",
    "# step-8:    else:\n",
    "# step-9:        append the values in odd list\n",
    "# step-10: create dictinary"
   ]
  },
  {
   "cell_type": "code",
   "execution_count": 15,
   "id": "b574591e",
   "metadata": {},
   "outputs": [
    {
     "data": {
      "text/plain": [
       "'C:\\\\Users\\\\Manohar\\\\Documents\\\\Data_science course\\\\Class_Notes'"
      ]
     },
     "execution_count": 15,
     "metadata": {},
     "output_type": "execute_result"
    }
   ],
   "source": [
    "import os\n",
    "os.getcwd()"
   ]
  },
  {
   "cell_type": "markdown",
   "id": "1f99fb08",
   "metadata": {},
   "source": [
    "### dictionary methods"
   ]
  },
  {
   "cell_type": "code",
   "execution_count": 18,
   "id": "d9e46115",
   "metadata": {},
   "outputs": [
    {
     "data": {
      "text/plain": [
       "['__class__',\n",
       " '__class_getitem__',\n",
       " '__contains__',\n",
       " '__delattr__',\n",
       " '__delitem__',\n",
       " '__dir__',\n",
       " '__doc__',\n",
       " '__eq__',\n",
       " '__format__',\n",
       " '__ge__',\n",
       " '__getattribute__',\n",
       " '__getitem__',\n",
       " '__getstate__',\n",
       " '__gt__',\n",
       " '__hash__',\n",
       " '__init__',\n",
       " '__init_subclass__',\n",
       " '__ior__',\n",
       " '__iter__',\n",
       " '__le__',\n",
       " '__len__',\n",
       " '__lt__',\n",
       " '__ne__',\n",
       " '__new__',\n",
       " '__or__',\n",
       " '__reduce__',\n",
       " '__reduce_ex__',\n",
       " '__repr__',\n",
       " '__reversed__',\n",
       " '__ror__',\n",
       " '__setattr__',\n",
       " '__setitem__',\n",
       " '__sizeof__',\n",
       " '__str__',\n",
       " '__subclasshook__',\n",
       " 'clear',\n",
       " 'copy',\n",
       " 'fromkeys',\n",
       " 'get',\n",
       " 'items',\n",
       " 'keys',\n",
       " 'pop',\n",
       " 'popitem',\n",
       " 'setdefault',\n",
       " 'update',\n",
       " 'values']"
      ]
     },
     "execution_count": 18,
     "metadata": {},
     "output_type": "execute_result"
    }
   ],
   "source": [
    "dir({})\n",
    "\n",
    "# str=''\n",
    "# list=[]\n",
    "# dict={}"
   ]
  },
  {
   "cell_type": "markdown",
   "id": "397aba0f",
   "metadata": {},
   "source": [
    "$items-keys-values$"
   ]
  },
  {
   "cell_type": "code",
   "execution_count": 19,
   "id": "284405b3",
   "metadata": {},
   "outputs": [
    {
     "data": {
      "text/plain": [
       "{'Ram': 25, 'Raheem': 30, 'Robert': 35}"
      ]
     },
     "execution_count": 19,
     "metadata": {},
     "output_type": "execute_result"
    }
   ],
   "source": [
    "d1={'Ram':25,\n",
    " 'Raheem':30,\n",
    " 'Robert':35}\n",
    "\n",
    "d1"
   ]
  },
  {
   "cell_type": "code",
   "execution_count": 28,
   "id": "d4d1ce53",
   "metadata": {},
   "outputs": [
    {
     "data": {
      "text/plain": [
       "dict_items([('Ram', 25), ('Raheem', 30), ('Robert', 35)])"
      ]
     },
     "execution_count": 28,
     "metadata": {},
     "output_type": "execute_result"
    }
   ],
   "source": [
    "# items\n",
    "items=d1.items()\n",
    "items"
   ]
  },
  {
   "cell_type": "code",
   "execution_count": 27,
   "id": "79eff1f5",
   "metadata": {},
   "outputs": [
    {
     "data": {
      "text/plain": [
       "dict_items"
      ]
     },
     "execution_count": 27,
     "metadata": {},
     "output_type": "execute_result"
    }
   ],
   "source": [
    "type(items)"
   ]
  },
  {
   "cell_type": "code",
   "execution_count": 29,
   "id": "2d2ba475",
   "metadata": {},
   "outputs": [
    {
     "data": {
      "text/plain": [
       "dict_keys(['Ram', 'Raheem', 'Robert'])"
      ]
     },
     "execution_count": 29,
     "metadata": {},
     "output_type": "execute_result"
    }
   ],
   "source": [
    "# keys \n",
    "keys=d1.keys()\n",
    "keys"
   ]
  },
  {
   "cell_type": "code",
   "execution_count": 30,
   "id": "367e99d0",
   "metadata": {},
   "outputs": [
    {
     "data": {
      "text/plain": [
       "dict_keys"
      ]
     },
     "execution_count": 30,
     "metadata": {},
     "output_type": "execute_result"
    }
   ],
   "source": [
    "type(keys)"
   ]
  },
  {
   "cell_type": "code",
   "execution_count": 32,
   "id": "0b367485",
   "metadata": {},
   "outputs": [
    {
     "data": {
      "text/plain": [
       "dict_values([25, 30, 35])"
      ]
     },
     "execution_count": 32,
     "metadata": {},
     "output_type": "execute_result"
    }
   ],
   "source": [
    "# values\n",
    "values=d1.values()\n",
    "values"
   ]
  },
  {
   "cell_type": "code",
   "execution_count": 33,
   "id": "ce8a1619",
   "metadata": {},
   "outputs": [
    {
     "data": {
      "text/plain": [
       "dict_values"
      ]
     },
     "execution_count": 33,
     "metadata": {},
     "output_type": "execute_result"
    }
   ],
   "source": [
    "type(values)"
   ]
  },
  {
   "cell_type": "code",
   "execution_count": 36,
   "id": "4165720d",
   "metadata": {},
   "outputs": [
    {
     "data": {
      "text/plain": [
       "[24, 45, 67, 233]"
      ]
     },
     "execution_count": 36,
     "metadata": {},
     "output_type": "execute_result"
    }
   ],
   "source": [
    "l1=[24,45,67]\n",
    "l1.append(233)\n",
    "l1"
   ]
  },
  {
   "cell_type": "code",
   "execution_count": 38,
   "id": "ba44d205",
   "metadata": {},
   "outputs": [
    {
     "data": {
      "text/plain": [
       "[25, 30, 35]"
      ]
     },
     "execution_count": 38,
     "metadata": {},
     "output_type": "execute_result"
    }
   ],
   "source": [
    "values   # i want to comvert into a list\n",
    "values_list=list(values) # then you can apply list methods\n",
    "values_list"
   ]
  },
  {
   "cell_type": "code",
   "execution_count": 39,
   "id": "d9f55bcc",
   "metadata": {},
   "outputs": [
    {
     "data": {
      "text/plain": [
       "['Ram', 'Raheem', 'Robert']"
      ]
     },
     "execution_count": 39,
     "metadata": {},
     "output_type": "execute_result"
    }
   ],
   "source": [
    "keys_list=list(keys)\n",
    "keys_list"
   ]
  },
  {
   "cell_type": "code",
   "execution_count": null,
   "id": "202789ab",
   "metadata": {},
   "outputs": [],
   "source": [
    "# i will give the dictionary \n"
   ]
  },
  {
   "cell_type": "code",
   "execution_count": 42,
   "id": "dd509651",
   "metadata": {},
   "outputs": [],
   "source": [
    "keys=lisy(d1.keys())\n",
    "values=list(d1.values)"
   ]
  },
  {
   "cell_type": "code",
   "execution_count": 43,
   "id": "dfbfc93c",
   "metadata": {},
   "outputs": [
    {
     "data": {
      "text/plain": [
       "(dict_keys(['Ram', 'Raheem', 'Robert']), dict_values([25, 30, 35]))"
      ]
     },
     "execution_count": 43,
     "metadata": {},
     "output_type": "execute_result"
    }
   ],
   "source": [
    "keys,values"
   ]
  },
  {
   "cell_type": "code",
   "execution_count": 48,
   "id": "8a46ea35",
   "metadata": {},
   "outputs": [
    {
     "data": {
      "text/plain": [
       "{'Ram': 25, 'Raheem': 30, 'Robert': 35}"
      ]
     },
     "execution_count": 48,
     "metadata": {},
     "output_type": "execute_result"
    }
   ],
   "source": [
    "d2={i:j for i,j in zip(keys,values)}\n",
    "d2"
   ]
  },
  {
   "cell_type": "code",
   "execution_count": null,
   "id": "9786b87a",
   "metadata": {},
   "outputs": [],
   "source": [
    " "
   ]
  },
  {
   "cell_type": "code",
   "execution_count": 52,
   "id": "e30f4d8c",
   "metadata": {},
   "outputs": [
    {
     "data": {
      "text/plain": [
       "{'Ram': 25, 'Raheem': 30, 'Robert': 35}"
      ]
     },
     "execution_count": 52,
     "metadata": {},
     "output_type": "execute_result"
    }
   ],
   "source": [
    "dict(zip(keys,values))"
   ]
  },
  {
   "cell_type": "code",
   "execution_count": 93,
   "id": "08742dbf",
   "metadata": {},
   "outputs": [],
   "source": [
    "s1='virat.kohli@blr.com,Rohit.sharma@mumbai.com,Kl.rahul@lucknow.com'\n",
    "s1.split(',')\n",
    "d1={}"
   ]
  },
  {
   "cell_type": "code",
   "execution_count": 94,
   "id": "4576029a",
   "metadata": {},
   "outputs": [],
   "source": [
    "fn=[s1[:s1.find('.')] for s1 in s1.split(',')]\n",
    "sn=[s1[s1.find('.')+1:s1.find('@')] for s1 in s1.split(',')]\n",
    "cn=[s1[s1.find('@')+1:s1.find('.',s1.find('.')+1)] for s1 in s1.split(',')]"
   ]
  },
  {
   "cell_type": "code",
   "execution_count": 95,
   "id": "124894af",
   "metadata": {},
   "outputs": [
    {
     "data": {
      "text/plain": [
       "(['virat', 'Rohit', 'Kl'],\n",
       " ['kohli', 'sharma', 'rahul'],\n",
       " ['blr', 'mumbai', 'lucknow'])"
      ]
     },
     "execution_count": 95,
     "metadata": {},
     "output_type": "execute_result"
    }
   ],
   "source": [
    "fn,sn,cn"
   ]
  },
  {
   "cell_type": "code",
   "execution_count": 97,
   "id": "52fc8f36",
   "metadata": {},
   "outputs": [
    {
     "data": {
      "text/plain": [
       "{'first_name': ['virat', 'Rohit', 'Kl'],\n",
       " 'second_name': ['kohli', 'sharma', 'rahul'],\n",
       " 'company_name': ['blr', 'mumbai', 'lucknow']}"
      ]
     },
     "execution_count": 97,
     "metadata": {},
     "output_type": "execute_result"
    }
   ],
   "source": [
    "d1['first_name']=fn\n",
    "d1['second_name']=sn\n",
    "d1['company_name']=cn\n",
    "d1"
   ]
  },
  {
   "cell_type": "code",
   "execution_count": 112,
   "id": "85336a19",
   "metadata": {},
   "outputs": [
    {
     "data": {
      "text/plain": [
       "{'can': 4, 'you': 2, 'canner': 2, 'able': 1, 'to': 1}"
      ]
     },
     "execution_count": 112,
     "metadata": {},
     "output_type": "execute_result"
    }
   ],
   "source": [
    "str1='can can you canner can you able to can canner'\n",
    "list1=str1.split(' ')\n",
    "d2={}\n",
    "for i in list1:\n",
    "    d2[i]=list1.count(i)\n",
    "\n",
    "d2"
   ]
  },
  {
   "cell_type": "code",
   "execution_count": 126,
   "id": "8a18ce19",
   "metadata": {},
   "outputs": [
    {
     "data": {
      "text/plain": [
       "{'a': 70, 'b': 130, 'c': 240}"
      ]
     },
     "execution_count": 126,
     "metadata": {},
     "output_type": "execute_result"
    }
   ],
   "source": [
    "d1={'a':20,'b':30,'c':40}\n",
    "d2={'a':50,'b':100,'c':200}\n",
    "\n",
    "d3={}\n",
    "for i,j in zip(d1,d2):\n",
    "    d3[i]=d1[i]+d2[i]\n",
    "d3"
   ]
  },
  {
   "cell_type": "code",
   "execution_count": 139,
   "id": "e65adad4",
   "metadata": {},
   "outputs": [
    {
     "data": {
      "text/plain": [
       "{'a': 70, 'b': 130, 'c': 240, 'd': 500}"
      ]
     },
     "execution_count": 139,
     "metadata": {},
     "output_type": "execute_result"
    }
   ],
   "source": [
    "d1={'a':20,'b':30,'c':40,'d':500}\n",
    "d2={'a':50,'b':100,'c':200}\n",
    "\n",
    "for i in range(min(len(d1),len(d2))):\n",
    "    d1[list(d1.keys())[i]]+=d2[list(d2.keys())[i]]\n",
    "    \n",
    "d1"
   ]
  },
  {
   "cell_type": "code",
   "execution_count": 1,
   "id": "ae3d73ec",
   "metadata": {},
   "outputs": [
    {
     "data": {
      "text/plain": [
       "['__class__',\n",
       " '__class_getitem__',\n",
       " '__contains__',\n",
       " '__delattr__',\n",
       " '__delitem__',\n",
       " '__dir__',\n",
       " '__doc__',\n",
       " '__eq__',\n",
       " '__format__',\n",
       " '__ge__',\n",
       " '__getattribute__',\n",
       " '__getitem__',\n",
       " '__getstate__',\n",
       " '__gt__',\n",
       " '__hash__',\n",
       " '__init__',\n",
       " '__init_subclass__',\n",
       " '__ior__',\n",
       " '__iter__',\n",
       " '__le__',\n",
       " '__len__',\n",
       " '__lt__',\n",
       " '__ne__',\n",
       " '__new__',\n",
       " '__or__',\n",
       " '__reduce__',\n",
       " '__reduce_ex__',\n",
       " '__repr__',\n",
       " '__reversed__',\n",
       " '__ror__',\n",
       " '__setattr__',\n",
       " '__setitem__',\n",
       " '__sizeof__',\n",
       " '__str__',\n",
       " '__subclasshook__',\n",
       " 'clear',\n",
       " 'copy',\n",
       " 'fromkeys',\n",
       " 'get',\n",
       " 'items',\n",
       " 'keys',\n",
       " 'pop',\n",
       " 'popitem',\n",
       " 'setdefault',\n",
       " 'update',\n",
       " 'values']"
      ]
     },
     "execution_count": 1,
     "metadata": {},
     "output_type": "execute_result"
    }
   ],
   "source": [
    "dir({})"
   ]
  },
  {
   "cell_type": "markdown",
   "id": "921403a0",
   "metadata": {},
   "source": [
    "$clear$-$copy$"
   ]
  },
  {
   "cell_type": "code",
   "execution_count": 18,
   "id": "8dd901a4",
   "metadata": {},
   "outputs": [
    {
     "name": "stdout",
     "output_type": "stream",
     "text": [
      "{}\n"
     ]
    }
   ],
   "source": [
    "d1={'a':20,'b':30,'c':40}\n",
    "d2=d1.copy()\n",
    "d1.clear()\n",
    "print(d1)"
   ]
  },
  {
   "cell_type": "code",
   "execution_count": 17,
   "id": "6c142cd0",
   "metadata": {},
   "outputs": [
    {
     "name": "stdout",
     "output_type": "stream",
     "text": [
      "{'a': 20, 'b': 30, 'c': 40}\n"
     ]
    }
   ],
   "source": [
    "print(d2)"
   ]
  },
  {
   "cell_type": "markdown",
   "id": "574f5dd8",
   "metadata": {},
   "source": [
    "$pop$-$popitem$-$del$"
   ]
  },
  {
   "cell_type": "markdown",
   "id": "8c71634e",
   "metadata": {},
   "source": [
    "- what is pop()\n",
    "    - removes the key and return the values\n",
    "- what is popitem()\n",
    "    - remove the last values\n",
    "    - return the pair\n",
    "- what is del\n",
    "     - del is keyword\n",
    "     - it deletes the pair which is provided"
   ]
  },
  {
   "cell_type": "code",
   "execution_count": 25,
   "id": "6dfd6cd6",
   "metadata": {},
   "outputs": [
    {
     "data": {
      "text/plain": [
       "30"
      ]
     },
     "execution_count": 25,
     "metadata": {},
     "output_type": "execute_result"
    }
   ],
   "source": [
    "d1={'a':20,'b':30,'c':40}\n",
    "d1.pop('b')"
   ]
  },
  {
   "cell_type": "code",
   "execution_count": 26,
   "id": "01cfd219",
   "metadata": {},
   "outputs": [
    {
     "data": {
      "text/plain": [
       "{'a': 20, 'c': 40}"
      ]
     },
     "execution_count": 26,
     "metadata": {},
     "output_type": "execute_result"
    }
   ],
   "source": [
    "d1"
   ]
  },
  {
   "cell_type": "code",
   "execution_count": 28,
   "id": "c4760602",
   "metadata": {},
   "outputs": [
    {
     "data": {
      "text/plain": [
       "('c', 40)"
      ]
     },
     "execution_count": 28,
     "metadata": {},
     "output_type": "execute_result"
    }
   ],
   "source": [
    "d1.popitem()"
   ]
  },
  {
   "cell_type": "code",
   "execution_count": 32,
   "id": "2d558e7a",
   "metadata": {},
   "outputs": [
    {
     "data": {
      "text/plain": [
       "{'a': 20, 'b': 30, 'd': 500}"
      ]
     },
     "execution_count": 32,
     "metadata": {},
     "output_type": "execute_result"
    }
   ],
   "source": [
    "# del is a keyword\n",
    "\n",
    "d2={'a':20,'b':30,'c':40,'d':500}\n",
    "del d2['c']\n",
    "d2"
   ]
  },
  {
   "cell_type": "code",
   "execution_count": 30,
   "id": "e3468cc1",
   "metadata": {},
   "outputs": [
    {
     "data": {
      "text/plain": [
       "[10, 30, 40, 50]"
      ]
     },
     "execution_count": 30,
     "metadata": {},
     "output_type": "execute_result"
    }
   ],
   "source": [
    "l1=[10,20,30,40,50]\n",
    "del l1[1]\n",
    "l1           # list is access by index"
   ]
  },
  {
   "cell_type": "code",
   "execution_count": 33,
   "id": "eb14ead4",
   "metadata": {},
   "outputs": [],
   "source": [
    "del(d2)"
   ]
  },
  {
   "cell_type": "code",
   "execution_count": 34,
   "id": "04d1ade4",
   "metadata": {},
   "outputs": [
    {
     "ename": "NameError",
     "evalue": "name 'd2' is not defined",
     "output_type": "error",
     "traceback": [
      "\u001b[1;31m---------------------------------------------------------------------------\u001b[0m",
      "\u001b[1;31mNameError\u001b[0m                                 Traceback (most recent call last)",
      "Cell \u001b[1;32mIn[34], line 1\u001b[0m\n\u001b[1;32m----> 1\u001b[0m d2\n",
      "\u001b[1;31mNameError\u001b[0m: name 'd2' is not defined"
     ]
    }
   ],
   "source": [
    "d2"
   ]
  },
  {
   "cell_type": "markdown",
   "id": "e28d7d71",
   "metadata": {},
   "source": [
    "- items/values/keys\n",
    "- if i provide two list you know how to make dict\n",
    "- if i provide dict, you know how to generate the list\n",
    "- create a empty string and dictionary\n",
    "- counter\n",
    "- summ\n",
    "- function\n",
    "- pop/popitem/del\n",
    "- copy/clear"
   ]
  },
  {
   "cell_type": "markdown",
   "id": "aa6b795b",
   "metadata": {},
   "source": [
    "$fromkeys-get$"
   ]
  },
  {
   "cell_type": "code",
   "execution_count": 39,
   "id": "04177410",
   "metadata": {},
   "outputs": [
    {
     "data": {
      "text/plain": [
       "30"
      ]
     },
     "execution_count": 39,
     "metadata": {},
     "output_type": "execute_result"
    }
   ],
   "source": [
    "d1={'a':20,'b':30,'c':40,'d':500}\n",
    "d1.get('b')"
   ]
  },
  {
   "cell_type": "code",
   "execution_count": 41,
   "id": "3ee42845",
   "metadata": {},
   "outputs": [],
   "source": [
    "d1.get('z')"
   ]
  },
  {
   "cell_type": "code",
   "execution_count": 42,
   "id": "85e0491c",
   "metadata": {},
   "outputs": [
    {
     "ename": "KeyError",
     "evalue": "'z'",
     "output_type": "error",
     "traceback": [
      "\u001b[1;31m---------------------------------------------------------------------------\u001b[0m",
      "\u001b[1;31mKeyError\u001b[0m                                  Traceback (most recent call last)",
      "Cell \u001b[1;32mIn[42], line 1\u001b[0m\n\u001b[1;32m----> 1\u001b[0m d1[\u001b[38;5;124m'\u001b[39m\u001b[38;5;124mz\u001b[39m\u001b[38;5;124m'\u001b[39m]\n",
      "\u001b[1;31mKeyError\u001b[0m: 'z'"
     ]
    }
   ],
   "source": [
    "d1['z']"
   ]
  },
  {
   "cell_type": "markdown",
   "id": "70e5ef1c",
   "metadata": {},
   "source": [
    "- how many ways we can do\n",
    "- what output it is returning\n",
    "- what is the difference\n",
    "- we can access the values by providing the key as index and key in get method\n",
    "- but if the key is not present in dictionary, key as index will give key error\n",
    "- get method will not return anything and no error"
   ]
  },
  {
   "cell_type": "code",
   "execution_count": 65,
   "id": "2cb5bf61",
   "metadata": {},
   "outputs": [
    {
     "data": {
      "text/plain": [
       "{'r': 25, 'a': 25, 'h': 25, 'e': 25, 'm': 25}"
      ]
     },
     "execution_count": 65,
     "metadata": {},
     "output_type": "execute_result"
    }
   ],
   "source": [
    "# fromkeys\n",
    "\n",
    "d2=d1.fromkeys('raheem',25)\n",
    "d2"
   ]
  },
  {
   "cell_type": "code",
   "execution_count": 64,
   "id": "e73d8f28",
   "metadata": {},
   "outputs": [
    {
     "data": {
      "text/plain": [
       "{1: 'odd', 3: 'odd', 5: 'odd'}"
      ]
     },
     "execution_count": 64,
     "metadata": {},
     "output_type": "execute_result"
    }
   ],
   "source": [
    "d3={}.fromkeys([1,3,5],'odd')\n",
    "d3"
   ]
  },
  {
   "cell_type": "markdown",
   "id": "54ab08dc",
   "metadata": {},
   "source": [
    "$setdefault$"
   ]
  },
  {
   "cell_type": "code",
   "execution_count": 66,
   "id": "db7f80cd",
   "metadata": {},
   "outputs": [
    {
     "data": {
      "text/plain": [
       "{'a': 20, 'b': 30, 'c': 40, 'd': 500}"
      ]
     },
     "execution_count": 66,
     "metadata": {},
     "output_type": "execute_result"
    }
   ],
   "source": [
    "d1"
   ]
  },
  {
   "cell_type": "code",
   "execution_count": 87,
   "id": "204db216",
   "metadata": {},
   "outputs": [],
   "source": [
    "d1={}\n",
    "d1.setdefault('nareshit','Ds')\n",
    "d1.setdefault('city')\n",
    "d1.setdefault('nareshit',['Ds','MLOps','DE'])\n",
    "d1['nareshit']='Ds'\n",
    "d1['city']"
   ]
  },
  {
   "cell_type": "code",
   "execution_count": 88,
   "id": "2961f0a9",
   "metadata": {},
   "outputs": [
    {
     "data": {
      "text/plain": [
       "{'nareshit': 'Ds', 'city': None}"
      ]
     },
     "execution_count": 88,
     "metadata": {},
     "output_type": "execute_result"
    }
   ],
   "source": [
    "d1"
   ]
  },
  {
   "cell_type": "markdown",
   "id": "49cf3245",
   "metadata": {},
   "source": [
    "$update$"
   ]
  },
  {
   "cell_type": "code",
   "execution_count": 91,
   "id": "fd9e7f1d",
   "metadata": {},
   "outputs": [
    {
     "data": {
      "text/plain": [
       "{'a': 1, 'b': 7, 'c': 5, 'd': 9}"
      ]
     },
     "execution_count": 91,
     "metadata": {},
     "output_type": "execute_result"
    }
   ],
   "source": [
    "d1 = {'a':1, 'b':4, 'c':5}\n",
    "d2 = {'b':7, 'd':9}\n",
    "d1.update(d2)\n",
    "d1"
   ]
  },
  {
   "cell_type": "code",
   "execution_count": 92,
   "id": "a4c61a54",
   "metadata": {},
   "outputs": [
    {
     "data": {
      "text/plain": [
       "{'b': 4, 'd': 9, 'a': 1, 'c': 5}"
      ]
     },
     "execution_count": 92,
     "metadata": {},
     "output_type": "execute_result"
    }
   ],
   "source": [
    "d1 = {'a':1, 'b':4, 'c':5}\n",
    "d2 = {'b':7, 'd':9}\n",
    "d2.update(d1)\n",
    "d2"
   ]
  },
  {
   "cell_type": "markdown",
   "id": "88008af7",
   "metadata": {},
   "source": [
    "- update method will update a dictionary with elements from another dictionary. it modifies the dictionary\n"
   ]
  },
  {
   "cell_type": "markdown",
   "id": "ac6c9a6f",
   "metadata": {},
   "source": [
    "- tuple\n",
    "\n",
    "write an article on tuple"
   ]
  },
  {
   "cell_type": "markdown",
   "id": "6c3d9c1f",
   "metadata": {},
   "source": [
    "- how to read \n",
    "- type/max/min/len/sum\n",
    "- index / mutable\n",
    "- in / for\n",
    "- slice\n",
    "- methods"
   ]
  },
  {
   "cell_type": "code",
   "execution_count": null,
   "id": "a6a81c7e",
   "metadata": {},
   "outputs": [],
   "source": []
  }
 ],
 "metadata": {
  "kernelspec": {
   "display_name": "Python 3 (ipykernel)",
   "language": "python",
   "name": "python3"
  },
  "language_info": {
   "codemirror_mode": {
    "name": "ipython",
    "version": 3
   },
   "file_extension": ".py",
   "mimetype": "text/x-python",
   "name": "python",
   "nbconvert_exporter": "python",
   "pygments_lexer": "ipython3",
   "version": "3.11.5"
  }
 },
 "nbformat": 4,
 "nbformat_minor": 5
}

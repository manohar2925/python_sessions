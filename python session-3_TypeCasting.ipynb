{
 "cells": [
  {
   "cell_type": "markdown",
   "id": "20142b6c",
   "metadata": {},
   "source": [
    "Typecasting"
   ]
  },
  {
   "cell_type": "markdown",
   "id": "d6ae7187",
   "metadata": {},
   "source": [
    "- change one data type to another data type\n",
    "- Int ----> float\n",
    "- float ----> string\n"
   ]
  },
  {
   "cell_type": "markdown",
   "id": "cbc7a349",
   "metadata": {},
   "source": [
    "**integer to other data types**"
   ]
  },
  {
   "cell_type": "code",
   "execution_count": 3,
   "id": "1acc8501",
   "metadata": {},
   "outputs": [
    {
     "data": {
      "text/plain": [
       "100"
      ]
     },
     "execution_count": 3,
     "metadata": {},
     "output_type": "execute_result"
    }
   ],
   "source": [
    "number1 = 100\n",
    "number1"
   ]
  },
  {
   "cell_type": "code",
   "execution_count": 4,
   "id": "3eadc54e",
   "metadata": {},
   "outputs": [
    {
     "data": {
      "text/plain": [
       "int"
      ]
     },
     "execution_count": 4,
     "metadata": {},
     "output_type": "execute_result"
    }
   ],
   "source": [
    "type(number1)"
   ]
  },
  {
   "cell_type": "code",
   "execution_count": 8,
   "id": "5dd88282",
   "metadata": {},
   "outputs": [],
   "source": [
    "# case one int ====> float\n",
    "float_number=float(number1) #number1 converted into float"
   ]
  },
  {
   "cell_type": "code",
   "execution_count": 9,
   "id": "1fef769d",
   "metadata": {},
   "outputs": [
    {
     "data": {
      "text/plain": [
       "float"
      ]
     },
     "execution_count": 9,
     "metadata": {},
     "output_type": "execute_result"
    }
   ],
   "source": [
    "type(float_number)"
   ]
  },
  {
   "cell_type": "code",
   "execution_count": 13,
   "id": "90a518e2",
   "metadata": {},
   "outputs": [],
   "source": [
    "#case2 int ----> string"
   ]
  },
  {
   "cell_type": "code",
   "execution_count": 14,
   "id": "c24851e6",
   "metadata": {},
   "outputs": [
    {
     "data": {
      "text/plain": [
       "'100'"
      ]
     },
     "execution_count": 14,
     "metadata": {},
     "output_type": "execute_result"
    }
   ],
   "source": [
    "string_number=str(number1)\n",
    "string_number"
   ]
  },
  {
   "cell_type": "code",
   "execution_count": 15,
   "id": "fe7ae964",
   "metadata": {},
   "outputs": [
    {
     "data": {
      "text/plain": [
       "True"
      ]
     },
     "execution_count": 15,
     "metadata": {},
     "output_type": "execute_result"
    }
   ],
   "source": [
    "# case3 integer to boolean\n",
    "boolean_number=bool(number1)\n",
    "boolean_number"
   ]
  },
  {
   "cell_type": "code",
   "execution_count": 16,
   "id": "c18b848b",
   "metadata": {},
   "outputs": [
    {
     "data": {
      "text/plain": [
       "bool"
      ]
     },
     "execution_count": 16,
     "metadata": {},
     "output_type": "execute_result"
    }
   ],
   "source": [
    "type(boolean_number)"
   ]
  },
  {
   "cell_type": "code",
   "execution_count": 17,
   "id": "203d8c9e",
   "metadata": {},
   "outputs": [
    {
     "data": {
      "text/plain": [
       "False"
      ]
     },
     "execution_count": 17,
     "metadata": {},
     "output_type": "execute_result"
    }
   ],
   "source": [
    "bool(0) #when it will provide false\n"
   ]
  },
  {
   "cell_type": "markdown",
   "id": "8a6e12ec",
   "metadata": {},
   "source": [
    "**note**\n",
    "- other than zero, everthing is True\n",
    "- bool(0) only false"
   ]
  },
  {
   "cell_type": "code",
   "execution_count": 20,
   "id": "49047c2d",
   "metadata": {},
   "outputs": [
    {
     "data": {
      "text/plain": [
       "(100+0j)"
      ]
     },
     "execution_count": 20,
     "metadata": {},
     "output_type": "execute_result"
    }
   ],
   "source": [
    "# 100 ========> ? complex(100)\n",
    "complex_number=complex(100)\n",
    "complex_number"
   ]
  },
  {
   "cell_type": "code",
   "execution_count": 22,
   "id": "0e6a53b9",
   "metadata": {},
   "outputs": [],
   "source": [
    "number1=100\n",
    "float_number=float(number1)     #float(100) = 100.0\n",
    "string_number=str(number1)      #str(100) ='100'\n",
    "boolean_number=bool(number1)    #bool(100) = true\n",
    "complex_number=complex(number1) #complex(100) = 100+0j"
   ]
  },
  {
   "cell_type": "markdown",
   "id": "b341fe68",
   "metadata": {},
   "source": [
    "**convert float to all other types**"
   ]
  },
  {
   "cell_type": "code",
   "execution_count": 23,
   "id": "6ad7cafe",
   "metadata": {},
   "outputs": [],
   "source": [
    "number1=100.5\n",
    "int_number=int(number1)         #int(100) = 100\n",
    "string_number=str(number1)      #str(100) ='100.5'\n",
    "boolean_number=bool(number1)    #bool(100) = true\n",
    "complex_number=complex(number1) #complex(100) = 100.5+0j"
   ]
  },
  {
   "cell_type": "code",
   "execution_count": 24,
   "id": "59440e73",
   "metadata": {},
   "outputs": [
    {
     "data": {
      "text/plain": [
       "(100.5+0j)"
      ]
     },
     "execution_count": 24,
     "metadata": {},
     "output_type": "execute_result"
    }
   ],
   "source": [
    "complex_number=complex(number1)\n",
    "complex_number"
   ]
  },
  {
   "cell_type": "markdown",
   "id": "17289b25",
   "metadata": {},
   "source": [
    "**convert string to all other types**"
   ]
  },
  {
   "cell_type": "code",
   "execution_count": null,
   "id": "eee4623a",
   "metadata": {},
   "outputs": [],
   "source": [
    "# case1:\n",
    "string_value1=\"apple\" \n",
    "int(string_value1)     #error\n",
    "float(string_value1)   #error\n",
    "bool(string_value1)    #true\n",
    "complex(string_value1) #error"
   ]
  },
  {
   "cell_type": "code",
   "execution_count": 26,
   "id": "58f33fea",
   "metadata": {},
   "outputs": [
    {
     "ename": "ValueError",
     "evalue": "invalid literal for int() with base 10: 'apple'",
     "output_type": "error",
     "traceback": [
      "\u001b[1;31m---------------------------------------------------------------------------\u001b[0m",
      "\u001b[1;31mValueError\u001b[0m                                Traceback (most recent call last)",
      "\u001b[1;32m~\\AppData\\Local\\Temp\\ipykernel_19552\\1900662256.py\u001b[0m in \u001b[0;36m<module>\u001b[1;34m\u001b[0m\n\u001b[0;32m      1\u001b[0m \u001b[0mstring_value1\u001b[0m\u001b[1;33m=\u001b[0m\u001b[1;34m\"apple\"\u001b[0m\u001b[1;33m\u001b[0m\u001b[1;33m\u001b[0m\u001b[0m\n\u001b[1;32m----> 2\u001b[1;33m \u001b[0mint\u001b[0m\u001b[1;33m(\u001b[0m\u001b[0mstring_value1\u001b[0m\u001b[1;33m)\u001b[0m\u001b[1;33m\u001b[0m\u001b[1;33m\u001b[0m\u001b[0m\n\u001b[0m",
      "\u001b[1;31mValueError\u001b[0m: invalid literal for int() with base 10: 'apple'"
     ]
    }
   ],
   "source": [
    "string_value1=\"apple\" # english\n",
    "int(string_value1)    #maths\n",
    "\n",
    "# cannot convery str to int"
   ]
  },
  {
   "cell_type": "code",
   "execution_count": 27,
   "id": "84819d8f",
   "metadata": {},
   "outputs": [
    {
     "data": {
      "text/plain": [
       "True"
      ]
     },
     "execution_count": 27,
     "metadata": {},
     "output_type": "execute_result"
    }
   ],
   "source": [
    "string_value1=\"apple\"\n",
    "bool(string_value1)"
   ]
  },
  {
   "cell_type": "code",
   "execution_count": 28,
   "id": "5cef5363",
   "metadata": {},
   "outputs": [
    {
     "data": {
      "text/plain": [
       "False"
      ]
     },
     "execution_count": 28,
     "metadata": {},
     "output_type": "execute_result"
    }
   ],
   "source": [
    "string_value1=\"\"\n",
    "bool(string_value1)"
   ]
  },
  {
   "cell_type": "markdown",
   "id": "cf25ea51",
   "metadata": {},
   "source": [
    "**note**\n",
    "- empty string boolean conversion given as False"
   ]
  },
  {
   "cell_type": "code",
   "execution_count": 30,
   "id": "7fe20f68",
   "metadata": {},
   "outputs": [
    {
     "ename": "ValueError",
     "evalue": "complex() arg is a malformed string",
     "output_type": "error",
     "traceback": [
      "\u001b[1;31m---------------------------------------------------------------------------\u001b[0m",
      "\u001b[1;31mValueError\u001b[0m                                Traceback (most recent call last)",
      "\u001b[1;32m~\\AppData\\Local\\Temp\\ipykernel_19552\\2838214698.py\u001b[0m in \u001b[0;36m<module>\u001b[1;34m\u001b[0m\n\u001b[0;32m      1\u001b[0m \u001b[0mstring_value1\u001b[0m\u001b[1;33m=\u001b[0m\u001b[1;34m\"apple\"\u001b[0m\u001b[1;33m\u001b[0m\u001b[1;33m\u001b[0m\u001b[0m\n\u001b[1;32m----> 2\u001b[1;33m \u001b[0mcomplex\u001b[0m\u001b[1;33m(\u001b[0m\u001b[0mstring_value1\u001b[0m\u001b[1;33m)\u001b[0m\u001b[1;33m\u001b[0m\u001b[1;33m\u001b[0m\u001b[0m\n\u001b[0m",
      "\u001b[1;31mValueError\u001b[0m: complex() arg is a malformed string"
     ]
    }
   ],
   "source": [
    "string_value1=\"apple\"\n",
    "complex(string_value1)"
   ]
  },
  {
   "cell_type": "code",
   "execution_count": 32,
   "id": "b11099de",
   "metadata": {},
   "outputs": [
    {
     "ename": "ValueError",
     "evalue": "invalid literal for int() with base 10: '10.5'",
     "output_type": "error",
     "traceback": [
      "\u001b[1;31m---------------------------------------------------------------------------\u001b[0m",
      "\u001b[1;31mValueError\u001b[0m                                Traceback (most recent call last)",
      "\u001b[1;32m~\\AppData\\Local\\Temp\\ipykernel_19552\\2035127893.py\u001b[0m in \u001b[0;36m<module>\u001b[1;34m\u001b[0m\n\u001b[0;32m      1\u001b[0m \u001b[1;31m# case2:\u001b[0m\u001b[1;33m\u001b[0m\u001b[1;33m\u001b[0m\u001b[0m\n\u001b[0;32m      2\u001b[0m \u001b[0mstring_value2\u001b[0m\u001b[1;33m=\u001b[0m\u001b[1;34m'10.5'\u001b[0m   \u001b[1;31m#base type float =======> represents in quotes ====== > finally it is string type\u001b[0m\u001b[1;33m\u001b[0m\u001b[1;33m\u001b[0m\u001b[0m\n\u001b[1;32m----> 3\u001b[1;33m \u001b[0mint\u001b[0m\u001b[1;33m(\u001b[0m\u001b[0mstring_value2\u001b[0m\u001b[1;33m)\u001b[0m     \u001b[1;31m#error\u001b[0m\u001b[1;33m\u001b[0m\u001b[1;33m\u001b[0m\u001b[0m\n\u001b[0m\u001b[0;32m      4\u001b[0m \u001b[0mfloat\u001b[0m\u001b[1;33m(\u001b[0m\u001b[0mstring_value2\u001b[0m\u001b[1;33m)\u001b[0m   \u001b[1;31m#error\u001b[0m\u001b[1;33m\u001b[0m\u001b[1;33m\u001b[0m\u001b[0m\n\u001b[0;32m      5\u001b[0m \u001b[0mbool\u001b[0m\u001b[1;33m(\u001b[0m\u001b[0mstring_value2\u001b[0m\u001b[1;33m)\u001b[0m    \u001b[1;31m#true\u001b[0m\u001b[1;33m\u001b[0m\u001b[1;33m\u001b[0m\u001b[0m\n",
      "\u001b[1;31mValueError\u001b[0m: invalid literal for int() with base 10: '10.5'"
     ]
    }
   ],
   "source": [
    "# case2:\n",
    "string_value2='10.5'   #base type float =======> represents in quotes ====== > finally it is string type\n",
    "int(string_value2)     #error\n",
    "float(string_value2)   #error\n",
    "bool(string_value2)    #true\n",
    "complex(string_value2) #error"
   ]
  },
  {
   "cell_type": "code",
   "execution_count": 33,
   "id": "3ab92c32",
   "metadata": {},
   "outputs": [
    {
     "ename": "ValueError",
     "evalue": "invalid literal for int() with base 10: '10.5'",
     "output_type": "error",
     "traceback": [
      "\u001b[1;31m---------------------------------------------------------------------------\u001b[0m",
      "\u001b[1;31mValueError\u001b[0m                                Traceback (most recent call last)",
      "\u001b[1;32m~\\AppData\\Local\\Temp\\ipykernel_19552\\2105464840.py\u001b[0m in \u001b[0;36m<module>\u001b[1;34m\u001b[0m\n\u001b[0;32m      1\u001b[0m \u001b[0mstring_value2\u001b[0m\u001b[1;33m=\u001b[0m\u001b[1;34m'10.5'\u001b[0m\u001b[1;33m\u001b[0m\u001b[1;33m\u001b[0m\u001b[0m\n\u001b[1;32m----> 2\u001b[1;33m \u001b[0mint\u001b[0m\u001b[1;33m(\u001b[0m\u001b[0mstring_value2\u001b[0m\u001b[1;33m)\u001b[0m\u001b[1;33m\u001b[0m\u001b[1;33m\u001b[0m\u001b[0m\n\u001b[0m",
      "\u001b[1;31mValueError\u001b[0m: invalid literal for int() with base 10: '10.5'"
     ]
    }
   ],
   "source": [
    "string_value2='10.5'\n",
    "int(string_value2)"
   ]
  },
  {
   "cell_type": "code",
   "execution_count": 34,
   "id": "b1a151a7",
   "metadata": {},
   "outputs": [
    {
     "data": {
      "text/plain": [
       "10.5"
      ]
     },
     "execution_count": 34,
     "metadata": {},
     "output_type": "execute_result"
    }
   ],
   "source": [
    "string_value2='10.5'\n",
    "float(string_value2)"
   ]
  },
  {
   "cell_type": "code",
   "execution_count": 35,
   "id": "86d4e373",
   "metadata": {},
   "outputs": [
    {
     "data": {
      "text/plain": [
       "(10.5+0j)"
      ]
     },
     "execution_count": 35,
     "metadata": {},
     "output_type": "execute_result"
    }
   ],
   "source": [
    "string_value2='10.5'\n",
    "complex(string_value2)"
   ]
  },
  {
   "cell_type": "code",
   "execution_count": 36,
   "id": "404f0e2f",
   "metadata": {},
   "outputs": [
    {
     "data": {
      "text/plain": [
       "(10.5+0j)"
      ]
     },
     "execution_count": 36,
     "metadata": {},
     "output_type": "execute_result"
    }
   ],
   "source": [
    "complex(10.5)"
   ]
  },
  {
   "cell_type": "code",
   "execution_count": 37,
   "id": "58fb557b",
   "metadata": {},
   "outputs": [
    {
     "data": {
      "text/plain": [
       "(10.5+0j)"
      ]
     },
     "execution_count": 37,
     "metadata": {},
     "output_type": "execute_result"
    }
   ],
   "source": [
    "complex('10.5')"
   ]
  },
  {
   "cell_type": "code",
   "execution_count": 38,
   "id": "088726ac",
   "metadata": {},
   "outputs": [
    {
     "data": {
      "text/plain": [
       "10.5"
      ]
     },
     "execution_count": 38,
     "metadata": {},
     "output_type": "execute_result"
    }
   ],
   "source": [
    "float(10.5)"
   ]
  },
  {
   "cell_type": "code",
   "execution_count": 39,
   "id": "0e019a9d",
   "metadata": {},
   "outputs": [
    {
     "data": {
      "text/plain": [
       "10.5"
      ]
     },
     "execution_count": 39,
     "metadata": {},
     "output_type": "execute_result"
    }
   ],
   "source": [
    "float('10.5')"
   ]
  },
  {
   "cell_type": "code",
   "execution_count": 40,
   "id": "189a458a",
   "metadata": {},
   "outputs": [
    {
     "ename": "ValueError",
     "evalue": "invalid literal for int() with base 10: '10.5'",
     "output_type": "error",
     "traceback": [
      "\u001b[1;31m---------------------------------------------------------------------------\u001b[0m",
      "\u001b[1;31mValueError\u001b[0m                                Traceback (most recent call last)",
      "\u001b[1;32m~\\AppData\\Local\\Temp\\ipykernel_19552\\4169780136.py\u001b[0m in \u001b[0;36m<module>\u001b[1;34m\u001b[0m\n\u001b[1;32m----> 1\u001b[1;33m \u001b[0mint\u001b[0m\u001b[1;33m(\u001b[0m\u001b[1;34m'10.5'\u001b[0m\u001b[1;33m)\u001b[0m\u001b[1;33m\u001b[0m\u001b[1;33m\u001b[0m\u001b[0m\n\u001b[0m",
      "\u001b[1;31mValueError\u001b[0m: invalid literal for int() with base 10: '10.5'"
     ]
    }
   ],
   "source": [
    "int('10.5')"
   ]
  },
  {
   "cell_type": "markdown",
   "id": "1a1fe2b5",
   "metadata": {},
   "source": [
    "**convert boolean to all other types**"
   ]
  },
  {
   "cell_type": "code",
   "execution_count": null,
   "id": "75e09032",
   "metadata": {},
   "outputs": [],
   "source": [
    "#boolean conversion\n",
    "val1=True\n",
    "int(val1)\n",
    "float(val1)\n",
    "str(val1)\n",
    "complex(val1)\n"
   ]
  },
  {
   "cell_type": "code",
   "execution_count": 41,
   "id": "350be1ad",
   "metadata": {},
   "outputs": [
    {
     "data": {
      "text/plain": [
       "1"
      ]
     },
     "execution_count": 41,
     "metadata": {},
     "output_type": "execute_result"
    }
   ],
   "source": [
    "val1=True\n",
    "int(val1)"
   ]
  },
  {
   "cell_type": "code",
   "execution_count": 42,
   "id": "08339c34",
   "metadata": {},
   "outputs": [
    {
     "data": {
      "text/plain": [
       "1.0"
      ]
     },
     "execution_count": 42,
     "metadata": {},
     "output_type": "execute_result"
    }
   ],
   "source": [
    "val1=True\n",
    "float(val1)"
   ]
  },
  {
   "cell_type": "code",
   "execution_count": 43,
   "id": "b535850a",
   "metadata": {},
   "outputs": [
    {
     "data": {
      "text/plain": [
       "'True'"
      ]
     },
     "execution_count": 43,
     "metadata": {},
     "output_type": "execute_result"
    }
   ],
   "source": [
    "val1=True\n",
    "str(val1)"
   ]
  },
  {
   "cell_type": "code",
   "execution_count": 44,
   "id": "288a85c9",
   "metadata": {},
   "outputs": [
    {
     "data": {
      "text/plain": [
       "(1+0j)"
      ]
     },
     "execution_count": 44,
     "metadata": {},
     "output_type": "execute_result"
    }
   ],
   "source": [
    "val1=True\n",
    "complex(val1)"
   ]
  },
  {
   "cell_type": "code",
   "execution_count": 45,
   "id": "10224751",
   "metadata": {},
   "outputs": [
    {
     "ename": "TypeError",
     "evalue": "can't convert complex to int",
     "output_type": "error",
     "traceback": [
      "\u001b[1;31m---------------------------------------------------------------------------\u001b[0m",
      "\u001b[1;31mTypeError\u001b[0m                                 Traceback (most recent call last)",
      "\u001b[1;32m~\\AppData\\Local\\Temp\\ipykernel_19552\\873029538.py\u001b[0m in \u001b[0;36m<module>\u001b[1;34m\u001b[0m\n\u001b[0;32m      1\u001b[0m \u001b[1;31m#complex conversion\u001b[0m\u001b[1;33m\u001b[0m\u001b[1;33m\u001b[0m\u001b[0m\n\u001b[0;32m      2\u001b[0m \u001b[0mval2\u001b[0m\u001b[1;33m=\u001b[0m\u001b[1;36m100\u001b[0m\u001b[1;33m+\u001b[0m\u001b[1;36m200j\u001b[0m\u001b[1;33m\u001b[0m\u001b[1;33m\u001b[0m\u001b[0m\n\u001b[1;32m----> 3\u001b[1;33m \u001b[0mint\u001b[0m\u001b[1;33m(\u001b[0m\u001b[0mval2\u001b[0m\u001b[1;33m)\u001b[0m\u001b[1;33m\u001b[0m\u001b[1;33m\u001b[0m\u001b[0m\n\u001b[0m\u001b[0;32m      4\u001b[0m \u001b[0mfloat\u001b[0m\u001b[1;33m(\u001b[0m\u001b[0mval2\u001b[0m\u001b[1;33m)\u001b[0m\u001b[1;33m\u001b[0m\u001b[1;33m\u001b[0m\u001b[0m\n\u001b[0;32m      5\u001b[0m \u001b[0mstr\u001b[0m\u001b[1;33m(\u001b[0m\u001b[0mval2\u001b[0m\u001b[1;33m)\u001b[0m\u001b[1;33m\u001b[0m\u001b[1;33m\u001b[0m\u001b[0m\n",
      "\u001b[1;31mTypeError\u001b[0m: can't convert complex to int"
     ]
    }
   ],
   "source": [
    "#complex conversion\n",
    "val2=100+200j\n",
    "int(val2)\n",
    "float(val2)\n",
    "str(val2)\n",
    "complex(val2)"
   ]
  },
  {
   "cell_type": "code",
   "execution_count": 54,
   "id": "04e40e57",
   "metadata": {},
   "outputs": [
    {
     "ename": "TypeError",
     "evalue": "can't convert complex to int",
     "output_type": "error",
     "traceback": [
      "\u001b[1;31m---------------------------------------------------------------------------\u001b[0m",
      "\u001b[1;31mTypeError\u001b[0m                                 Traceback (most recent call last)",
      "\u001b[1;32m~\\AppData\\Local\\Temp\\ipykernel_19552\\699682573.py\u001b[0m in \u001b[0;36m<module>\u001b[1;34m\u001b[0m\n\u001b[0;32m      1\u001b[0m \u001b[0mval2\u001b[0m\u001b[1;33m=\u001b[0m\u001b[1;36m100\u001b[0m\u001b[1;33m+\u001b[0m\u001b[1;36m0j\u001b[0m\u001b[1;33m\u001b[0m\u001b[1;33m\u001b[0m\u001b[0m\n\u001b[1;32m----> 2\u001b[1;33m \u001b[0mint\u001b[0m\u001b[1;33m(\u001b[0m\u001b[0mval2\u001b[0m\u001b[1;33m)\u001b[0m\u001b[1;33m\u001b[0m\u001b[1;33m\u001b[0m\u001b[0m\n\u001b[0m",
      "\u001b[1;31mTypeError\u001b[0m: can't convert complex to int"
     ]
    }
   ],
   "source": [
    "val2=100+0j\n",
    "int(val2)"
   ]
  },
  {
   "cell_type": "code",
   "execution_count": 53,
   "id": "ab56d791",
   "metadata": {},
   "outputs": [
    {
     "ename": "TypeError",
     "evalue": "can't convert complex to float",
     "output_type": "error",
     "traceback": [
      "\u001b[1;31m---------------------------------------------------------------------------\u001b[0m",
      "\u001b[1;31mTypeError\u001b[0m                                 Traceback (most recent call last)",
      "\u001b[1;32m~\\AppData\\Local\\Temp\\ipykernel_19552\\2163903504.py\u001b[0m in \u001b[0;36m<module>\u001b[1;34m\u001b[0m\n\u001b[0;32m      1\u001b[0m \u001b[0mval2\u001b[0m\u001b[1;33m=\u001b[0m\u001b[1;36m100\u001b[0m\u001b[1;33m+\u001b[0m\u001b[1;36m0j\u001b[0m\u001b[1;33m\u001b[0m\u001b[1;33m\u001b[0m\u001b[0m\n\u001b[1;32m----> 2\u001b[1;33m \u001b[0mfloat\u001b[0m\u001b[1;33m(\u001b[0m\u001b[0mval2\u001b[0m\u001b[1;33m)\u001b[0m\u001b[1;33m\u001b[0m\u001b[1;33m\u001b[0m\u001b[0m\n\u001b[0m",
      "\u001b[1;31mTypeError\u001b[0m: can't convert complex to float"
     ]
    }
   ],
   "source": [
    "val2=100+0j\n",
    "float(val2)"
   ]
  },
  {
   "cell_type": "code",
   "execution_count": 55,
   "id": "e2bf3995",
   "metadata": {},
   "outputs": [
    {
     "data": {
      "text/plain": [
       "'(100+0j)'"
      ]
     },
     "execution_count": 55,
     "metadata": {},
     "output_type": "execute_result"
    }
   ],
   "source": [
    "val2=100+0j\n",
    "str(val2)"
   ]
  },
  {
   "cell_type": "code",
   "execution_count": 52,
   "id": "9322082e",
   "metadata": {},
   "outputs": [
    {
     "data": {
      "text/plain": [
       "True"
      ]
     },
     "execution_count": 52,
     "metadata": {},
     "output_type": "execute_result"
    }
   ],
   "source": [
    "val2=100+0j\n",
    "bool(val2)"
   ]
  },
  {
   "cell_type": "code",
   "execution_count": 56,
   "id": "447fd661",
   "metadata": {},
   "outputs": [
    {
     "data": {
      "text/plain": [
       "(100+0j)"
      ]
     },
     "execution_count": 56,
     "metadata": {},
     "output_type": "execute_result"
    }
   ],
   "source": [
    "val2=100+0j\n",
    "complex(val2)"
   ]
  },
  {
   "cell_type": "code",
   "execution_count": null,
   "id": "b2b59460",
   "metadata": {},
   "outputs": [],
   "source": []
  }
 ],
 "metadata": {
  "kernelspec": {
   "display_name": "Python 3 (ipykernel)",
   "language": "python",
   "name": "python3"
  },
  "language_info": {
   "codemirror_mode": {
    "name": "ipython",
    "version": 3
   },
   "file_extension": ".py",
   "mimetype": "text/x-python",
   "name": "python",
   "nbconvert_exporter": "python",
   "pygments_lexer": "ipython3",
   "version": "3.9.13"
  }
 },
 "nbformat": 4,
 "nbformat_minor": 5
}
